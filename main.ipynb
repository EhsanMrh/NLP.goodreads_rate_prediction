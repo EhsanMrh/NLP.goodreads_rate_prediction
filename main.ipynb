{
 "cells": [
  {
   "cell_type": "markdown",
   "metadata": {},
   "source": [
    "https://www.kaggle.com/competitions/goodreads-books-reviews-290312/overview"
   ]
  },
  {
   "cell_type": "markdown",
   "metadata": {},
   "source": [
    "https://towardsdatascience.com/productive-nlp-experimentation-with-python-using-pytorch-lightning-and-torchtext-256a4d00a26b"
   ]
  },
  {
   "cell_type": "markdown",
   "metadata": {},
   "source": [
    "https://www.kaggle.com/code/xceptions/text-classification-with-pytorch/notebook\n",
    "\n",
    "https://www.kaggle.com/code/swarnabha/pytorch-text-classification-torchtext-lstm/notebook\n",
    "\n",
    "https://www.analyticsvidhya.com/blog/2020/01/first-text-classification-in-pytorch/\n",
    "\n",
    "https://stackabuse.com/text-classification-with-python-and-scikit-learn/\n",
    "\n",
    "https://medium.com/analytics-vidhya/nlp-tutorial-for-text-classification-in-python-8f19cd17b49e\n",
    "\n",
    "https://towardsdatascience.com/machine-learning-nlp-text-classification-using-scikit-learn-python-and-nltk-c52b92a7c73a\n",
    "\n",
    "https://lightning-transformers.readthedocs.io/en/latest/tasks/nlp/text_classification.html\n",
    "\n",
    "https://curiousily.com/posts/multi-label-text-classification-with-bert-and-pytorch-lightning/\n",
    "\n",
    "https://github.com/ricardorei/lightning-text-classification"
   ]
  },
  {
   "cell_type": "markdown",
   "metadata": {},
   "source": [
    "### Import libraries"
   ]
  },
  {
   "cell_type": "code",
   "execution_count": 50,
   "metadata": {},
   "outputs": [],
   "source": [
    "import pandas as pd\n",
    "import numpy as np\n",
    "import matplotlib.pyplot as plt\n",
    "import seaborn as sns\n",
    "from datetime import datetime\n",
    "from tqdm import tqdm\n",
    "tqdm.pandas()"
   ]
  },
  {
   "cell_type": "markdown",
   "metadata": {},
   "source": [
    "### Importing and analyzing the datasets\n"
   ]
  },
  {
   "cell_type": "code",
   "execution_count": 8,
   "metadata": {},
   "outputs": [],
   "source": [
    "goodreads_train = pd.read_csv(\"data/goodreads_train.csv\") \n",
    "goodreads_test = pd.read_csv(\"data/goodreads_test.csv\")"
   ]
  },
  {
   "cell_type": "code",
   "execution_count": 9,
   "metadata": {},
   "outputs": [
    {
     "data": {
      "text/plain": [
       "(478033, 10)"
      ]
     },
     "execution_count": 9,
     "metadata": {},
     "output_type": "execute_result"
    }
   ],
   "source": [
    "goodreads_test.shape"
   ]
  },
  {
   "cell_type": "code",
   "execution_count": 10,
   "metadata": {},
   "outputs": [
    {
     "data": {
      "text/plain": [
       "(900000, 11)"
      ]
     },
     "execution_count": 10,
     "metadata": {},
     "output_type": "execute_result"
    }
   ],
   "source": [
    "goodreads_train.shape "
   ]
  },
  {
   "cell_type": "code",
   "execution_count": 11,
   "metadata": {},
   "outputs": [
    {
     "data": {
      "text/html": [
       "<div>\n",
       "<style scoped>\n",
       "    .dataframe tbody tr th:only-of-type {\n",
       "        vertical-align: middle;\n",
       "    }\n",
       "\n",
       "    .dataframe tbody tr th {\n",
       "        vertical-align: top;\n",
       "    }\n",
       "\n",
       "    .dataframe thead th {\n",
       "        text-align: right;\n",
       "    }\n",
       "</style>\n",
       "<table border=\"1\" class=\"dataframe\">\n",
       "  <thead>\n",
       "    <tr style=\"text-align: right;\">\n",
       "      <th></th>\n",
       "      <th>user_id</th>\n",
       "      <th>book_id</th>\n",
       "      <th>review_id</th>\n",
       "      <th>rating</th>\n",
       "      <th>review_text</th>\n",
       "      <th>date_added</th>\n",
       "      <th>date_updated</th>\n",
       "      <th>read_at</th>\n",
       "      <th>started_at</th>\n",
       "      <th>n_votes</th>\n",
       "      <th>n_comments</th>\n",
       "    </tr>\n",
       "  </thead>\n",
       "  <tbody>\n",
       "    <tr>\n",
       "      <th>389740</th>\n",
       "      <td>66a47aaaec778f689ad05248110c7b6c</td>\n",
       "      <td>53496</td>\n",
       "      <td>f1e6d82109c9ad960fd13ddcb96d7fc8</td>\n",
       "      <td>0</td>\n",
       "      <td>1995 Newbery Medal Winner</td>\n",
       "      <td>Wed Feb 17 14:39:39 -0800 2010</td>\n",
       "      <td>Tue Aug 23 09:09:38 -0700 2011</td>\n",
       "      <td>NaN</td>\n",
       "      <td>NaN</td>\n",
       "      <td>0</td>\n",
       "      <td>0</td>\n",
       "    </tr>\n",
       "    <tr>\n",
       "      <th>893058</th>\n",
       "      <td>7eb88583ca5e58150e0e02c369ff3b28</td>\n",
       "      <td>6076380</td>\n",
       "      <td>bab82c0cfd3cfcbf9138a090816f389e</td>\n",
       "      <td>4</td>\n",
       "      <td>Before I say anything, I wish to first warn re...</td>\n",
       "      <td>Thu Oct 18 14:41:18 -0700 2012</td>\n",
       "      <td>Sun Mar 03 22:50:44 -0800 2013</td>\n",
       "      <td>Sun Mar 03 00:00:00 -0800 2013</td>\n",
       "      <td>NaN</td>\n",
       "      <td>16</td>\n",
       "      <td>0</td>\n",
       "    </tr>\n",
       "    <tr>\n",
       "      <th>287739</th>\n",
       "      <td>3e4eb82e9eddfa819b48495e73064902</td>\n",
       "      <td>26795865</td>\n",
       "      <td>dbd5def70a6f758d35e2adb042e68529</td>\n",
       "      <td>5</td>\n",
       "      <td>Ok. If you liked the first book on Jo and Juli...</td>\n",
       "      <td>Mon Oct 12 22:25:57 -0700 2015</td>\n",
       "      <td>Thu Feb 11 04:04:37 -0800 2016</td>\n",
       "      <td>Fri Oct 09 00:00:00 -0700 2015</td>\n",
       "      <td>NaN</td>\n",
       "      <td>1</td>\n",
       "      <td>0</td>\n",
       "    </tr>\n",
       "    <tr>\n",
       "      <th>239491</th>\n",
       "      <td>5c8e42118841e8b09d964f9700a57abb</td>\n",
       "      <td>9067850</td>\n",
       "      <td>e3acd4006d798ef15cd2dde12cf3af02</td>\n",
       "      <td>3</td>\n",
       "      <td>Spoilers \\n So we start off with the new chara...</td>\n",
       "      <td>Wed Apr 03 16:22:22 -0700 2013</td>\n",
       "      <td>Sat Sep 28 06:53:57 -0700 2013</td>\n",
       "      <td>Sun Apr 14 00:00:00 -0700 2013</td>\n",
       "      <td>Wed Apr 03 00:00:00 -0700 2013</td>\n",
       "      <td>0</td>\n",
       "      <td>1</td>\n",
       "    </tr>\n",
       "    <tr>\n",
       "      <th>461538</th>\n",
       "      <td>0f58075fb2be4b61bf8a1d3cf10f29ea</td>\n",
       "      <td>15839976</td>\n",
       "      <td>40e46b454c0f15e7a66238029ea7d4d3</td>\n",
       "      <td>5</td>\n",
       "      <td>This was a bloody damn good book! I really hop...</td>\n",
       "      <td>Sat Jan 02 21:29:21 -0800 2016</td>\n",
       "      <td>Wed Jan 06 21:48:58 -0800 2016</td>\n",
       "      <td>Wed Jan 06 00:00:00 -0800 2016</td>\n",
       "      <td>Sat Jan 02 00:00:00 -0800 2016</td>\n",
       "      <td>0</td>\n",
       "      <td>0</td>\n",
       "    </tr>\n",
       "  </tbody>\n",
       "</table>\n",
       "</div>"
      ],
      "text/plain": [
       "                                 user_id   book_id  \\\n",
       "389740  66a47aaaec778f689ad05248110c7b6c     53496   \n",
       "893058  7eb88583ca5e58150e0e02c369ff3b28   6076380   \n",
       "287739  3e4eb82e9eddfa819b48495e73064902  26795865   \n",
       "239491  5c8e42118841e8b09d964f9700a57abb   9067850   \n",
       "461538  0f58075fb2be4b61bf8a1d3cf10f29ea  15839976   \n",
       "\n",
       "                               review_id  rating  \\\n",
       "389740  f1e6d82109c9ad960fd13ddcb96d7fc8       0   \n",
       "893058  bab82c0cfd3cfcbf9138a090816f389e       4   \n",
       "287739  dbd5def70a6f758d35e2adb042e68529       5   \n",
       "239491  e3acd4006d798ef15cd2dde12cf3af02       3   \n",
       "461538  40e46b454c0f15e7a66238029ea7d4d3       5   \n",
       "\n",
       "                                              review_text  \\\n",
       "389740                          1995 Newbery Medal Winner   \n",
       "893058  Before I say anything, I wish to first warn re...   \n",
       "287739  Ok. If you liked the first book on Jo and Juli...   \n",
       "239491  Spoilers \\n So we start off with the new chara...   \n",
       "461538  This was a bloody damn good book! I really hop...   \n",
       "\n",
       "                            date_added                    date_updated  \\\n",
       "389740  Wed Feb 17 14:39:39 -0800 2010  Tue Aug 23 09:09:38 -0700 2011   \n",
       "893058  Thu Oct 18 14:41:18 -0700 2012  Sun Mar 03 22:50:44 -0800 2013   \n",
       "287739  Mon Oct 12 22:25:57 -0700 2015  Thu Feb 11 04:04:37 -0800 2016   \n",
       "239491  Wed Apr 03 16:22:22 -0700 2013  Sat Sep 28 06:53:57 -0700 2013   \n",
       "461538  Sat Jan 02 21:29:21 -0800 2016  Wed Jan 06 21:48:58 -0800 2016   \n",
       "\n",
       "                               read_at                      started_at  \\\n",
       "389740                             NaN                             NaN   \n",
       "893058  Sun Mar 03 00:00:00 -0800 2013                             NaN   \n",
       "287739  Fri Oct 09 00:00:00 -0700 2015                             NaN   \n",
       "239491  Sun Apr 14 00:00:00 -0700 2013  Wed Apr 03 00:00:00 -0700 2013   \n",
       "461538  Wed Jan 06 00:00:00 -0800 2016  Sat Jan 02 00:00:00 -0800 2016   \n",
       "\n",
       "        n_votes  n_comments  \n",
       "389740        0           0  \n",
       "893058       16           0  \n",
       "287739        1           0  \n",
       "239491        0           1  \n",
       "461538        0           0  "
      ]
     },
     "execution_count": 11,
     "metadata": {},
     "output_type": "execute_result"
    }
   ],
   "source": [
    "goodreads_train.sample(5)"
   ]
  },
  {
   "cell_type": "code",
   "execution_count": 12,
   "metadata": {},
   "outputs": [],
   "source": [
    "goodreads_train.set_index(\"review_id\", inplace=True)\n",
    "goodreads_test.set_index(\"review_id\", inplace=True)"
   ]
  },
  {
   "cell_type": "markdown",
   "metadata": {},
   "source": [
    "Concating the train and test sets to EDA"
   ]
  },
  {
   "cell_type": "code",
   "execution_count": 13,
   "metadata": {},
   "outputs": [
    {
     "data": {
      "text/plain": [
       "(1378033, 9)"
      ]
     },
     "execution_count": 13,
     "metadata": {},
     "output_type": "execute_result"
    }
   ],
   "source": [
    "books = pd.concat([goodreads_train.drop('rating', axis=1), goodreads_test], axis=0)\n",
    "books_rates = goodreads_train['rating']\n",
    "books.shape"
   ]
  },
  {
   "cell_type": "code",
   "execution_count": 14,
   "metadata": {},
   "outputs": [
    {
     "data": {
      "text/html": [
       "<div>\n",
       "<style scoped>\n",
       "    .dataframe tbody tr th:only-of-type {\n",
       "        vertical-align: middle;\n",
       "    }\n",
       "\n",
       "    .dataframe tbody tr th {\n",
       "        vertical-align: top;\n",
       "    }\n",
       "\n",
       "    .dataframe thead th {\n",
       "        text-align: right;\n",
       "    }\n",
       "</style>\n",
       "<table border=\"1\" class=\"dataframe\">\n",
       "  <thead>\n",
       "    <tr style=\"text-align: right;\">\n",
       "      <th></th>\n",
       "      <th>user_id</th>\n",
       "      <th>book_id</th>\n",
       "      <th>review_text</th>\n",
       "      <th>date_added</th>\n",
       "      <th>date_updated</th>\n",
       "      <th>read_at</th>\n",
       "      <th>started_at</th>\n",
       "      <th>n_votes</th>\n",
       "      <th>n_comments</th>\n",
       "    </tr>\n",
       "    <tr>\n",
       "      <th>review_id</th>\n",
       "      <th></th>\n",
       "      <th></th>\n",
       "      <th></th>\n",
       "      <th></th>\n",
       "      <th></th>\n",
       "      <th></th>\n",
       "      <th></th>\n",
       "      <th></th>\n",
       "      <th></th>\n",
       "    </tr>\n",
       "  </thead>\n",
       "  <tbody>\n",
       "    <tr>\n",
       "      <th>109c97dc504e489ca707e4e17ffabbbe</th>\n",
       "      <td>3da4eb15ef07eed078def91e0b1fc800</td>\n",
       "      <td>7557790</td>\n",
       "      <td>Favorite scene from the book I thought it was ...</td>\n",
       "      <td>Wed Feb 18 19:22:10 -0800 2015</td>\n",
       "      <td>Sat Feb 21 14:27:10 -0800 2015</td>\n",
       "      <td>Sat Feb 21 14:27:10 -0800 2015</td>\n",
       "      <td>Wed Feb 18 00:00:00 -0800 2015</td>\n",
       "      <td>0</td>\n",
       "      <td>0</td>\n",
       "    </tr>\n",
       "    <tr>\n",
       "      <th>ec1e86505a7efb736d4682fd838dce30</th>\n",
       "      <td>c0e0fda388f87af0deffad748c9c8b67</td>\n",
       "      <td>16704759</td>\n",
       "      <td>A wonderful continuation to Lucian and Sophie'...</td>\n",
       "      <td>Fri Dec 21 13:17:25 -0800 2012</td>\n",
       "      <td>Sat May 04 17:44:34 -0700 2013</td>\n",
       "      <td>Sat May 04 00:00:00 -0700 2013</td>\n",
       "      <td>Sat May 04 00:00:00 -0700 2013</td>\n",
       "      <td>1</td>\n",
       "      <td>0</td>\n",
       "    </tr>\n",
       "    <tr>\n",
       "      <th>0a3e0382878ad4f564a722759466f92e</th>\n",
       "      <td>dd6e21b7659b3cb2333ad536bc145bb4</td>\n",
       "      <td>23228</td>\n",
       "      <td>3.5 \\n I'm not sure how to rate this. I enjoye...</td>\n",
       "      <td>Thu Jul 07 10:49:43 -0700 2016</td>\n",
       "      <td>Fri Jul 08 15:48:01 -0700 2016</td>\n",
       "      <td>Fri Jul 08 15:48:01 -0700 2016</td>\n",
       "      <td>Thu Jul 07 00:00:00 -0700 2016</td>\n",
       "      <td>0</td>\n",
       "      <td>0</td>\n",
       "    </tr>\n",
       "    <tr>\n",
       "      <th>eb216ef7ea73a8cfa31168c8ee407dda</th>\n",
       "      <td>32bbebf74fa8c3191fa57526e7f62b04</td>\n",
       "      <td>25667474</td>\n",
       "      <td>THE FEELS ARE STRONG</td>\n",
       "      <td>Sun Oct 23 18:59:45 -0700 2016</td>\n",
       "      <td>Sat Aug 05 13:23:39 -0700 2017</td>\n",
       "      <td>Mon Jul 31 13:39:42 -0700 2017</td>\n",
       "      <td>Sat Jul 29 00:00:00 -0700 2017</td>\n",
       "      <td>1</td>\n",
       "      <td>0</td>\n",
       "    </tr>\n",
       "    <tr>\n",
       "      <th>adc4318b89fc178c32d056a8d1c81a3e</th>\n",
       "      <td>748cd2cd9b0aaea09168e83dedd3666d</td>\n",
       "      <td>10428229</td>\n",
       "      <td>Frustrating....</td>\n",
       "      <td>Thu Jun 20 06:33:09 -0700 2013</td>\n",
       "      <td>Fri Feb 13 05:41:48 -0800 2015</td>\n",
       "      <td>Mon Sep 16 03:02:24 -0700 2013</td>\n",
       "      <td>NaN</td>\n",
       "      <td>0</td>\n",
       "      <td>0</td>\n",
       "    </tr>\n",
       "  </tbody>\n",
       "</table>\n",
       "</div>"
      ],
      "text/plain": [
       "                                                           user_id   book_id  \\\n",
       "review_id                                                                      \n",
       "109c97dc504e489ca707e4e17ffabbbe  3da4eb15ef07eed078def91e0b1fc800   7557790   \n",
       "ec1e86505a7efb736d4682fd838dce30  c0e0fda388f87af0deffad748c9c8b67  16704759   \n",
       "0a3e0382878ad4f564a722759466f92e  dd6e21b7659b3cb2333ad536bc145bb4     23228   \n",
       "eb216ef7ea73a8cfa31168c8ee407dda  32bbebf74fa8c3191fa57526e7f62b04  25667474   \n",
       "adc4318b89fc178c32d056a8d1c81a3e  748cd2cd9b0aaea09168e83dedd3666d  10428229   \n",
       "\n",
       "                                                                        review_text  \\\n",
       "review_id                                                                             \n",
       "109c97dc504e489ca707e4e17ffabbbe  Favorite scene from the book I thought it was ...   \n",
       "ec1e86505a7efb736d4682fd838dce30  A wonderful continuation to Lucian and Sophie'...   \n",
       "0a3e0382878ad4f564a722759466f92e  3.5 \\n I'm not sure how to rate this. I enjoye...   \n",
       "eb216ef7ea73a8cfa31168c8ee407dda                               THE FEELS ARE STRONG   \n",
       "adc4318b89fc178c32d056a8d1c81a3e                                    Frustrating....   \n",
       "\n",
       "                                                      date_added  \\\n",
       "review_id                                                          \n",
       "109c97dc504e489ca707e4e17ffabbbe  Wed Feb 18 19:22:10 -0800 2015   \n",
       "ec1e86505a7efb736d4682fd838dce30  Fri Dec 21 13:17:25 -0800 2012   \n",
       "0a3e0382878ad4f564a722759466f92e  Thu Jul 07 10:49:43 -0700 2016   \n",
       "eb216ef7ea73a8cfa31168c8ee407dda  Sun Oct 23 18:59:45 -0700 2016   \n",
       "adc4318b89fc178c32d056a8d1c81a3e  Thu Jun 20 06:33:09 -0700 2013   \n",
       "\n",
       "                                                    date_updated  \\\n",
       "review_id                                                          \n",
       "109c97dc504e489ca707e4e17ffabbbe  Sat Feb 21 14:27:10 -0800 2015   \n",
       "ec1e86505a7efb736d4682fd838dce30  Sat May 04 17:44:34 -0700 2013   \n",
       "0a3e0382878ad4f564a722759466f92e  Fri Jul 08 15:48:01 -0700 2016   \n",
       "eb216ef7ea73a8cfa31168c8ee407dda  Sat Aug 05 13:23:39 -0700 2017   \n",
       "adc4318b89fc178c32d056a8d1c81a3e  Fri Feb 13 05:41:48 -0800 2015   \n",
       "\n",
       "                                                         read_at  \\\n",
       "review_id                                                          \n",
       "109c97dc504e489ca707e4e17ffabbbe  Sat Feb 21 14:27:10 -0800 2015   \n",
       "ec1e86505a7efb736d4682fd838dce30  Sat May 04 00:00:00 -0700 2013   \n",
       "0a3e0382878ad4f564a722759466f92e  Fri Jul 08 15:48:01 -0700 2016   \n",
       "eb216ef7ea73a8cfa31168c8ee407dda  Mon Jul 31 13:39:42 -0700 2017   \n",
       "adc4318b89fc178c32d056a8d1c81a3e  Mon Sep 16 03:02:24 -0700 2013   \n",
       "\n",
       "                                                      started_at  n_votes  \\\n",
       "review_id                                                                   \n",
       "109c97dc504e489ca707e4e17ffabbbe  Wed Feb 18 00:00:00 -0800 2015        0   \n",
       "ec1e86505a7efb736d4682fd838dce30  Sat May 04 00:00:00 -0700 2013        1   \n",
       "0a3e0382878ad4f564a722759466f92e  Thu Jul 07 00:00:00 -0700 2016        0   \n",
       "eb216ef7ea73a8cfa31168c8ee407dda  Sat Jul 29 00:00:00 -0700 2017        1   \n",
       "adc4318b89fc178c32d056a8d1c81a3e                             NaN        0   \n",
       "\n",
       "                                  n_comments  \n",
       "review_id                                     \n",
       "109c97dc504e489ca707e4e17ffabbbe           0  \n",
       "ec1e86505a7efb736d4682fd838dce30           0  \n",
       "0a3e0382878ad4f564a722759466f92e           0  \n",
       "eb216ef7ea73a8cfa31168c8ee407dda           0  \n",
       "adc4318b89fc178c32d056a8d1c81a3e           0  "
      ]
     },
     "execution_count": 14,
     "metadata": {},
     "output_type": "execute_result"
    }
   ],
   "source": [
    "books.sample(5)"
   ]
  },
  {
   "cell_type": "markdown",
   "metadata": {},
   "source": [
    "### EDA"
   ]
  },
  {
   "cell_type": "code",
   "execution_count": 15,
   "metadata": {},
   "outputs": [],
   "source": [
    "# import tensorflow_data_validation as tfdv"
   ]
  },
  {
   "cell_type": "code",
   "execution_count": 16,
   "metadata": {},
   "outputs": [],
   "source": [
    "# books_stats = tfdv.generate_statistics_from_dataframe(books)"
   ]
  },
  {
   "cell_type": "code",
   "execution_count": 17,
   "metadata": {},
   "outputs": [],
   "source": [
    "# tfdv.visualize_statistics(books_stats)"
   ]
  },
  {
   "cell_type": "code",
   "execution_count": 18,
   "metadata": {},
   "outputs": [],
   "source": [
    "# Droping some non-essential columns\n",
    "books.drop(columns=['date_updated', 'read_at', 'started_at'], axis=1, inplace=True)"
   ]
  },
  {
   "cell_type": "code",
   "execution_count": 19,
   "metadata": {},
   "outputs": [],
   "source": [
    "# Removing rows with negative n_votes or negative n_comments \n",
    "books = books[(books['n_votes'] >= 0) & (books['n_comments'] >= 0)]"
   ]
  },
  {
   "cell_type": "code",
   "execution_count": 20,
   "metadata": {},
   "outputs": [
    {
     "data": {
      "text/plain": [
       "0"
      ]
     },
     "execution_count": 20,
     "metadata": {},
     "output_type": "execute_result"
    }
   ],
   "source": [
    "# Checking duplications\n",
    "\n",
    "sum(books.duplicated())"
   ]
  },
  {
   "cell_type": "code",
   "execution_count": 21,
   "metadata": {},
   "outputs": [
    {
     "data": {
      "text/plain": [
       "16130"
      ]
     },
     "execution_count": 21,
     "metadata": {},
     "output_type": "execute_result"
    }
   ],
   "source": [
    "sum(books.duplicated(subset=['review_text']))"
   ]
  },
  {
   "cell_type": "code",
   "execution_count": 22,
   "metadata": {},
   "outputs": [],
   "source": [
    "books.drop_duplicates(subset=['review_text'], inplace=True)"
   ]
  },
  {
   "cell_type": "code",
   "execution_count": 23,
   "metadata": {},
   "outputs": [],
   "source": [
    "# Finding unappropriate texts\n",
    "unapp_texts = books['review_text'].apply(lambda txt: np.mean(list(map(len, txt.split())))) > 25\n"
   ]
  },
  {
   "cell_type": "code",
   "execution_count": 24,
   "metadata": {},
   "outputs": [
    {
     "data": {
      "text/plain": [
       "(26, 6)"
      ]
     },
     "execution_count": 24,
     "metadata": {},
     "output_type": "execute_result"
    }
   ],
   "source": [
    "books[unapp_texts].shape"
   ]
  },
  {
   "cell_type": "code",
   "execution_count": 25,
   "metadata": {},
   "outputs": [
    {
     "data": {
      "text/html": [
       "<div>\n",
       "<style scoped>\n",
       "    .dataframe tbody tr th:only-of-type {\n",
       "        vertical-align: middle;\n",
       "    }\n",
       "\n",
       "    .dataframe tbody tr th {\n",
       "        vertical-align: top;\n",
       "    }\n",
       "\n",
       "    .dataframe thead th {\n",
       "        text-align: right;\n",
       "    }\n",
       "</style>\n",
       "<table border=\"1\" class=\"dataframe\">\n",
       "  <thead>\n",
       "    <tr style=\"text-align: right;\">\n",
       "      <th></th>\n",
       "      <th>user_id</th>\n",
       "      <th>book_id</th>\n",
       "      <th>review_text</th>\n",
       "      <th>date_added</th>\n",
       "      <th>n_votes</th>\n",
       "      <th>n_comments</th>\n",
       "    </tr>\n",
       "    <tr>\n",
       "      <th>review_id</th>\n",
       "      <th></th>\n",
       "      <th></th>\n",
       "      <th></th>\n",
       "      <th></th>\n",
       "      <th></th>\n",
       "      <th></th>\n",
       "    </tr>\n",
       "  </thead>\n",
       "  <tbody>\n",
       "    <tr>\n",
       "      <th>ba7e149d70cb858d87d4113dfe0e4091</th>\n",
       "      <td>8092e33e9c50d3e269a8164177d2abdc</td>\n",
       "      <td>6339664</td>\n",
       "      <td>IhavetoadmitihavefalleninlovewithPatcicannotwa...</td>\n",
       "      <td>Sun Sep 30 12:29:48 -0700 2012</td>\n",
       "      <td>1</td>\n",
       "      <td>1</td>\n",
       "    </tr>\n",
       "    <tr>\n",
       "      <th>90529a603506931b91502b3c65b0564c</th>\n",
       "      <td>308c545182f8b5d332ff71c667fd9b61</td>\n",
       "      <td>12127810</td>\n",
       "      <td>the feels for NICO DI ANGELO.....................</td>\n",
       "      <td>Thu May 16 23:11:00 -0700 2013</td>\n",
       "      <td>0</td>\n",
       "      <td>0</td>\n",
       "    </tr>\n",
       "    <tr>\n",
       "      <th>7105506d7aa373be892e6d7d29750741</th>\n",
       "      <td>302eb3debfc02e0bdd0fd617d34a2713</td>\n",
       "      <td>10644930</td>\n",
       "      <td>\"The past is obdurate.\" \\n rtcrtcrtcrtcrtcrtcr...</td>\n",
       "      <td>Fri Mar 18 07:59:13 -0700 2016</td>\n",
       "      <td>0</td>\n",
       "      <td>0</td>\n",
       "    </tr>\n",
       "    <tr>\n",
       "      <th>ba4e577524730630bef88cb4c76c6dd7</th>\n",
       "      <td>de107a99cb0ed2ec5d90d744cc48c310</td>\n",
       "      <td>23723788</td>\n",
       "      <td>2.5 it's-a-good-book-as-in-even-after-months-I...</td>\n",
       "      <td>Sun Aug 30 18:18:44 -0700 2015</td>\n",
       "      <td>0</td>\n",
       "      <td>0</td>\n",
       "    </tr>\n",
       "    <tr>\n",
       "      <th>d9d104943954cc9d975a07d1a724be90</th>\n",
       "      <td>de107a99cb0ed2ec5d90d744cc48c310</td>\n",
       "      <td>23496782</td>\n",
       "      <td>2.5 It-Was-a-Very-Okay-Book-With-the-Mystery-a...</td>\n",
       "      <td>Thu Apr 09 04:41:42 -0700 2015</td>\n",
       "      <td>3</td>\n",
       "      <td>0</td>\n",
       "    </tr>\n",
       "    <tr>\n",
       "      <th>a79de0fe1d6b8cb32722276577a2a870</th>\n",
       "      <td>ba0a0f32ee81d2bc56866f4ab767062c</td>\n",
       "      <td>7664041</td>\n",
       "      <td>Must...fry...more...brain...cells!</td>\n",
       "      <td>Mon Nov 14 14:58:55 -0800 2011</td>\n",
       "      <td>0</td>\n",
       "      <td>0</td>\n",
       "    </tr>\n",
       "    <tr>\n",
       "      <th>ebb2dc04593320cf2e6af799a0f98e63</th>\n",
       "      <td>1ffb13e4f8c151bb07c8d8eb869c2d7e</td>\n",
       "      <td>18630598</td>\n",
       "      <td>#certaincharactersthatiwontdisclosedeservedbet...</td>\n",
       "      <td>Sun Jul 09 16:46:56 -0700 2017</td>\n",
       "      <td>0</td>\n",
       "      <td>0</td>\n",
       "    </tr>\n",
       "    <tr>\n",
       "      <th>59fa84dcdaa951b79ef0bb4bcda2d19d</th>\n",
       "      <td>f65170af6d65deb8d2c3dbfc0fe79939</td>\n",
       "      <td>13562356</td>\n",
       "      <td>Aw.That.Was.Nice.And.Too.Short.</td>\n",
       "      <td>Tue Mar 11 10:37:14 -0700 2014</td>\n",
       "      <td>1</td>\n",
       "      <td>0</td>\n",
       "    </tr>\n",
       "    <tr>\n",
       "      <th>4955188c74fbc2f4da1cbf4a1bb452e1</th>\n",
       "      <td>27325d8a3c87ccb35bc603e158c35dd3</td>\n",
       "      <td>25558608</td>\n",
       "      <td>AAAAAAAAAAAAAAAAAAAAAAAAAAAAAAAAAAAAAAAAAAAAAA...</td>\n",
       "      <td>Thu Feb 11 12:36:49 -0800 2016</td>\n",
       "      <td>1</td>\n",
       "      <td>0</td>\n",
       "    </tr>\n",
       "    <tr>\n",
       "      <th>abcafee3301b08cdb4786f5995bb2f35</th>\n",
       "      <td>90df2a781bc76c2e018d89189439d47a</td>\n",
       "      <td>25573701</td>\n",
       "      <td>AAAAAAAAAAAAAAAAAAAAAAAAAAAAAAAAAAAAAAAAAAAAAA...</td>\n",
       "      <td>Sat Jan 09 09:27:28 -0800 2016</td>\n",
       "      <td>1</td>\n",
       "      <td>0</td>\n",
       "    </tr>\n",
       "    <tr>\n",
       "      <th>024fe36fd4e75f1cb76a0853df1724aa</th>\n",
       "      <td>f2f117b0d6f79890b31e4b8c4bd90a00</td>\n",
       "      <td>23453083</td>\n",
       "      <td>AAAAAAAAAAAAAAAAAAAAAAAAAAAAAAAAAAAAAAAAAAAAAA...</td>\n",
       "      <td>Thu Oct 30 09:10:52 -0700 2014</td>\n",
       "      <td>7</td>\n",
       "      <td>4</td>\n",
       "    </tr>\n",
       "    <tr>\n",
       "      <th>e8c277f628ca81ee96d95225f0350f39</th>\n",
       "      <td>c71d504f5a81e6c2122f0e1e3c1d7bfd</td>\n",
       "      <td>13411684</td>\n",
       "      <td>That.Was.FANTASTIC!!!!!!!!!!!!!!!!</td>\n",
       "      <td>Tue Feb 21 11:52:51 -0800 2012</td>\n",
       "      <td>0</td>\n",
       "      <td>0</td>\n",
       "    </tr>\n",
       "    <tr>\n",
       "      <th>cba33e169157b8e44d82d4c192f9d584</th>\n",
       "      <td>2d6fbea754b225ed714f4d603ff45aea</td>\n",
       "      <td>26860475</td>\n",
       "      <td>JAJAJAJAJAJAJAJAJAJAJAJAJAJAJAJAJAJAJAJAJAJAJA...</td>\n",
       "      <td>Tue Oct 06 06:52:40 -0700 2015</td>\n",
       "      <td>57</td>\n",
       "      <td>2</td>\n",
       "    </tr>\n",
       "    <tr>\n",
       "      <th>c3163ffb7afa53b2582c96981d37fc3c</th>\n",
       "      <td>1ac1aa1969dddc5353c7ab64e05afa0b</td>\n",
       "      <td>28260587</td>\n",
       "      <td>#ChaolWestfallProtectionSquad</td>\n",
       "      <td>Mon Nov 23 13:20:27 -0800 2015</td>\n",
       "      <td>22</td>\n",
       "      <td>1</td>\n",
       "    </tr>\n",
       "    <tr>\n",
       "      <th>14eadea9429da8747a766370fffe536b</th>\n",
       "      <td>56fc076462fb083181be1f9cb4ca602d</td>\n",
       "      <td>20312458</td>\n",
       "      <td>Light.....funny......heartwarming......and tru...</td>\n",
       "      <td>Wed Jul 15 08:07:59 -0700 2015</td>\n",
       "      <td>0</td>\n",
       "      <td>0</td>\n",
       "    </tr>\n",
       "    <tr>\n",
       "      <th>7beda1acd88100806e47118d1ba86cc5</th>\n",
       "      <td>b7a82a255e6603b38bbcdf663b013538</td>\n",
       "      <td>24499258</td>\n",
       "      <td>3-1/2 you-tried-to-scare-me----but-I-had-my-ey...</td>\n",
       "      <td>Sat Nov 21 06:30:23 -0800 2015</td>\n",
       "      <td>32</td>\n",
       "      <td>9</td>\n",
       "    </tr>\n",
       "    <tr>\n",
       "      <th>926fda2ede0b660e162b156ee6c0172c</th>\n",
       "      <td>8267e607ae97396b011fcf8d8dc2b645</td>\n",
       "      <td>20734562</td>\n",
       "      <td>SCREAMING.AT.THAT.EPILOGUE!!</td>\n",
       "      <td>Thu May 15 23:00:40 -0700 2014</td>\n",
       "      <td>0</td>\n",
       "      <td>0</td>\n",
       "    </tr>\n",
       "    <tr>\n",
       "      <th>29700f8b91b35857191e5e18feb9e766</th>\n",
       "      <td>708c58696b2d7098b73c31995b4ec148</td>\n",
       "      <td>23308084</td>\n",
       "      <td>I.AM.LITERALLY.DYING.TO.GET.MY.HANDS.ON.IT</td>\n",
       "      <td>Wed Oct 14 09:51:11 -0700 2015</td>\n",
       "      <td>4</td>\n",
       "      <td>1</td>\n",
       "    </tr>\n",
       "    <tr>\n",
       "      <th>ef80d30fba0de49151e8313afcc0ff2c</th>\n",
       "      <td>ff57601afec29eaae58174b1f554613d</td>\n",
       "      <td>24917919</td>\n",
       "      <td>ASDCAcadclkajeociJADCJAOWIrjcAKLsndckjNSDfiuca...</td>\n",
       "      <td>Sun Oct 18 11:24:48 -0700 2015</td>\n",
       "      <td>0</td>\n",
       "      <td>0</td>\n",
       "    </tr>\n",
       "    <tr>\n",
       "      <th>8e29ea947752ed9f91dfb811f09961dd</th>\n",
       "      <td>b42fae7c3955ebad52c8f9a867ad8b14</td>\n",
       "      <td>20426917</td>\n",
       "      <td>Feeling like a kitty, waiting for the 13th boo...</td>\n",
       "      <td>Mon Mar 17 07:30:31 -0700 2014</td>\n",
       "      <td>0</td>\n",
       "      <td>0</td>\n",
       "    </tr>\n",
       "    <tr>\n",
       "      <th>f2e4f842ccc7e559339378a7f857dfa9</th>\n",
       "      <td>f8bff96c71d8f16c126046afd0d9f2f2</td>\n",
       "      <td>9975679</td>\n",
       "      <td>Hmm...that's...disturbing.</td>\n",
       "      <td>Sat Aug 18 09:26:59 -0700 2012</td>\n",
       "      <td>0</td>\n",
       "      <td>0</td>\n",
       "    </tr>\n",
       "    <tr>\n",
       "      <th>4479dda16b8fd2ca8ab15770678dfc74</th>\n",
       "      <td>e8149c2979f84abce0034cb0ee90f262</td>\n",
       "      <td>13372690</td>\n",
       "      <td>[image error]src=\"data:image/jpeg;base64,/9j/4...</td>\n",
       "      <td>Sun Jul 15 13:35:49 -0700 2012</td>\n",
       "      <td>1</td>\n",
       "      <td>0</td>\n",
       "    </tr>\n",
       "    <tr>\n",
       "      <th>5c7fb44d4e72a0c3168e221d7f2322ea</th>\n",
       "      <td>7958ee9e7ba5bd994fa989c8a040bf9e</td>\n",
       "      <td>22842001</td>\n",
       "      <td>re-read: 19.07.17 \\n I!JUST!LOVE!HARRY!JAMES!P...</td>\n",
       "      <td>Sun Dec 04 04:32:18 -0800 2016</td>\n",
       "      <td>0</td>\n",
       "      <td>0</td>\n",
       "    </tr>\n",
       "    <tr>\n",
       "      <th>dac2305baf3e153161815bbbb8dbe76d</th>\n",
       "      <td>ed5a935d14414e6ac3a2227f0ea46271</td>\n",
       "      <td>2802316</td>\n",
       "      <td>GRRRRRRRRRRRRRRRRRRRRRRRRRRRRRRRRRRRRRRRRRRRRR...</td>\n",
       "      <td>Wed Jan 09 23:40:01 -0800 2013</td>\n",
       "      <td>0</td>\n",
       "      <td>0</td>\n",
       "    </tr>\n",
       "    <tr>\n",
       "      <th>971a0246e53ae7125a76579127f06f32</th>\n",
       "      <td>28f1f677fc0fc74cf10b58de161eaef2</td>\n",
       "      <td>16735</td>\n",
       "      <td>Beautiful...sad...lovely...</td>\n",
       "      <td>Mon Jan 04 18:35:34 -0800 2010</td>\n",
       "      <td>0</td>\n",
       "      <td>0</td>\n",
       "    </tr>\n",
       "    <tr>\n",
       "      <th>12dd7ef1ae691f55329cb865b3f15352</th>\n",
       "      <td>a6c7ea6d7767c2e04a6b7856aaabbdf2</td>\n",
       "      <td>9361589</td>\n",
       "      <td>www.omnivoracious.com/2012/11/writers...</td>\n",
       "      <td>Mon Nov 19 08:07:51 -0800 2012</td>\n",
       "      <td>0</td>\n",
       "      <td>0</td>\n",
       "    </tr>\n",
       "  </tbody>\n",
       "</table>\n",
       "</div>"
      ],
      "text/plain": [
       "                                                           user_id   book_id  \\\n",
       "review_id                                                                      \n",
       "ba7e149d70cb858d87d4113dfe0e4091  8092e33e9c50d3e269a8164177d2abdc   6339664   \n",
       "90529a603506931b91502b3c65b0564c  308c545182f8b5d332ff71c667fd9b61  12127810   \n",
       "7105506d7aa373be892e6d7d29750741  302eb3debfc02e0bdd0fd617d34a2713  10644930   \n",
       "ba4e577524730630bef88cb4c76c6dd7  de107a99cb0ed2ec5d90d744cc48c310  23723788   \n",
       "d9d104943954cc9d975a07d1a724be90  de107a99cb0ed2ec5d90d744cc48c310  23496782   \n",
       "a79de0fe1d6b8cb32722276577a2a870  ba0a0f32ee81d2bc56866f4ab767062c   7664041   \n",
       "ebb2dc04593320cf2e6af799a0f98e63  1ffb13e4f8c151bb07c8d8eb869c2d7e  18630598   \n",
       "59fa84dcdaa951b79ef0bb4bcda2d19d  f65170af6d65deb8d2c3dbfc0fe79939  13562356   \n",
       "4955188c74fbc2f4da1cbf4a1bb452e1  27325d8a3c87ccb35bc603e158c35dd3  25558608   \n",
       "abcafee3301b08cdb4786f5995bb2f35  90df2a781bc76c2e018d89189439d47a  25573701   \n",
       "024fe36fd4e75f1cb76a0853df1724aa  f2f117b0d6f79890b31e4b8c4bd90a00  23453083   \n",
       "e8c277f628ca81ee96d95225f0350f39  c71d504f5a81e6c2122f0e1e3c1d7bfd  13411684   \n",
       "cba33e169157b8e44d82d4c192f9d584  2d6fbea754b225ed714f4d603ff45aea  26860475   \n",
       "c3163ffb7afa53b2582c96981d37fc3c  1ac1aa1969dddc5353c7ab64e05afa0b  28260587   \n",
       "14eadea9429da8747a766370fffe536b  56fc076462fb083181be1f9cb4ca602d  20312458   \n",
       "7beda1acd88100806e47118d1ba86cc5  b7a82a255e6603b38bbcdf663b013538  24499258   \n",
       "926fda2ede0b660e162b156ee6c0172c  8267e607ae97396b011fcf8d8dc2b645  20734562   \n",
       "29700f8b91b35857191e5e18feb9e766  708c58696b2d7098b73c31995b4ec148  23308084   \n",
       "ef80d30fba0de49151e8313afcc0ff2c  ff57601afec29eaae58174b1f554613d  24917919   \n",
       "8e29ea947752ed9f91dfb811f09961dd  b42fae7c3955ebad52c8f9a867ad8b14  20426917   \n",
       "f2e4f842ccc7e559339378a7f857dfa9  f8bff96c71d8f16c126046afd0d9f2f2   9975679   \n",
       "4479dda16b8fd2ca8ab15770678dfc74  e8149c2979f84abce0034cb0ee90f262  13372690   \n",
       "5c7fb44d4e72a0c3168e221d7f2322ea  7958ee9e7ba5bd994fa989c8a040bf9e  22842001   \n",
       "dac2305baf3e153161815bbbb8dbe76d  ed5a935d14414e6ac3a2227f0ea46271   2802316   \n",
       "971a0246e53ae7125a76579127f06f32  28f1f677fc0fc74cf10b58de161eaef2     16735   \n",
       "12dd7ef1ae691f55329cb865b3f15352  a6c7ea6d7767c2e04a6b7856aaabbdf2   9361589   \n",
       "\n",
       "                                                                        review_text  \\\n",
       "review_id                                                                             \n",
       "ba7e149d70cb858d87d4113dfe0e4091  IhavetoadmitihavefalleninlovewithPatcicannotwa...   \n",
       "90529a603506931b91502b3c65b0564c  the feels for NICO DI ANGELO.....................   \n",
       "7105506d7aa373be892e6d7d29750741  \"The past is obdurate.\" \\n rtcrtcrtcrtcrtcrtcr...   \n",
       "ba4e577524730630bef88cb4c76c6dd7  2.5 it's-a-good-book-as-in-even-after-months-I...   \n",
       "d9d104943954cc9d975a07d1a724be90  2.5 It-Was-a-Very-Okay-Book-With-the-Mystery-a...   \n",
       "a79de0fe1d6b8cb32722276577a2a870                 Must...fry...more...brain...cells!   \n",
       "ebb2dc04593320cf2e6af799a0f98e63  #certaincharactersthatiwontdisclosedeservedbet...   \n",
       "59fa84dcdaa951b79ef0bb4bcda2d19d                    Aw.That.Was.Nice.And.Too.Short.   \n",
       "4955188c74fbc2f4da1cbf4a1bb452e1  AAAAAAAAAAAAAAAAAAAAAAAAAAAAAAAAAAAAAAAAAAAAAA...   \n",
       "abcafee3301b08cdb4786f5995bb2f35  AAAAAAAAAAAAAAAAAAAAAAAAAAAAAAAAAAAAAAAAAAAAAA...   \n",
       "024fe36fd4e75f1cb76a0853df1724aa  AAAAAAAAAAAAAAAAAAAAAAAAAAAAAAAAAAAAAAAAAAAAAA...   \n",
       "e8c277f628ca81ee96d95225f0350f39                 That.Was.FANTASTIC!!!!!!!!!!!!!!!!   \n",
       "cba33e169157b8e44d82d4c192f9d584  JAJAJAJAJAJAJAJAJAJAJAJAJAJAJAJAJAJAJAJAJAJAJA...   \n",
       "c3163ffb7afa53b2582c96981d37fc3c                      #ChaolWestfallProtectionSquad   \n",
       "14eadea9429da8747a766370fffe536b  Light.....funny......heartwarming......and tru...   \n",
       "7beda1acd88100806e47118d1ba86cc5  3-1/2 you-tried-to-scare-me----but-I-had-my-ey...   \n",
       "926fda2ede0b660e162b156ee6c0172c                       SCREAMING.AT.THAT.EPILOGUE!!   \n",
       "29700f8b91b35857191e5e18feb9e766         I.AM.LITERALLY.DYING.TO.GET.MY.HANDS.ON.IT   \n",
       "ef80d30fba0de49151e8313afcc0ff2c  ASDCAcadclkajeociJADCJAOWIrjcAKLsndckjNSDfiuca...   \n",
       "8e29ea947752ed9f91dfb811f09961dd  Feeling like a kitty, waiting for the 13th boo...   \n",
       "f2e4f842ccc7e559339378a7f857dfa9                         Hmm...that's...disturbing.   \n",
       "4479dda16b8fd2ca8ab15770678dfc74  [image error]src=\"data:image/jpeg;base64,/9j/4...   \n",
       "5c7fb44d4e72a0c3168e221d7f2322ea  re-read: 19.07.17 \\n I!JUST!LOVE!HARRY!JAMES!P...   \n",
       "dac2305baf3e153161815bbbb8dbe76d  GRRRRRRRRRRRRRRRRRRRRRRRRRRRRRRRRRRRRRRRRRRRRR...   \n",
       "971a0246e53ae7125a76579127f06f32                        Beautiful...sad...lovely...   \n",
       "12dd7ef1ae691f55329cb865b3f15352           www.omnivoracious.com/2012/11/writers...   \n",
       "\n",
       "                                                      date_added  n_votes  \\\n",
       "review_id                                                                   \n",
       "ba7e149d70cb858d87d4113dfe0e4091  Sun Sep 30 12:29:48 -0700 2012        1   \n",
       "90529a603506931b91502b3c65b0564c  Thu May 16 23:11:00 -0700 2013        0   \n",
       "7105506d7aa373be892e6d7d29750741  Fri Mar 18 07:59:13 -0700 2016        0   \n",
       "ba4e577524730630bef88cb4c76c6dd7  Sun Aug 30 18:18:44 -0700 2015        0   \n",
       "d9d104943954cc9d975a07d1a724be90  Thu Apr 09 04:41:42 -0700 2015        3   \n",
       "a79de0fe1d6b8cb32722276577a2a870  Mon Nov 14 14:58:55 -0800 2011        0   \n",
       "ebb2dc04593320cf2e6af799a0f98e63  Sun Jul 09 16:46:56 -0700 2017        0   \n",
       "59fa84dcdaa951b79ef0bb4bcda2d19d  Tue Mar 11 10:37:14 -0700 2014        1   \n",
       "4955188c74fbc2f4da1cbf4a1bb452e1  Thu Feb 11 12:36:49 -0800 2016        1   \n",
       "abcafee3301b08cdb4786f5995bb2f35  Sat Jan 09 09:27:28 -0800 2016        1   \n",
       "024fe36fd4e75f1cb76a0853df1724aa  Thu Oct 30 09:10:52 -0700 2014        7   \n",
       "e8c277f628ca81ee96d95225f0350f39  Tue Feb 21 11:52:51 -0800 2012        0   \n",
       "cba33e169157b8e44d82d4c192f9d584  Tue Oct 06 06:52:40 -0700 2015       57   \n",
       "c3163ffb7afa53b2582c96981d37fc3c  Mon Nov 23 13:20:27 -0800 2015       22   \n",
       "14eadea9429da8747a766370fffe536b  Wed Jul 15 08:07:59 -0700 2015        0   \n",
       "7beda1acd88100806e47118d1ba86cc5  Sat Nov 21 06:30:23 -0800 2015       32   \n",
       "926fda2ede0b660e162b156ee6c0172c  Thu May 15 23:00:40 -0700 2014        0   \n",
       "29700f8b91b35857191e5e18feb9e766  Wed Oct 14 09:51:11 -0700 2015        4   \n",
       "ef80d30fba0de49151e8313afcc0ff2c  Sun Oct 18 11:24:48 -0700 2015        0   \n",
       "8e29ea947752ed9f91dfb811f09961dd  Mon Mar 17 07:30:31 -0700 2014        0   \n",
       "f2e4f842ccc7e559339378a7f857dfa9  Sat Aug 18 09:26:59 -0700 2012        0   \n",
       "4479dda16b8fd2ca8ab15770678dfc74  Sun Jul 15 13:35:49 -0700 2012        1   \n",
       "5c7fb44d4e72a0c3168e221d7f2322ea  Sun Dec 04 04:32:18 -0800 2016        0   \n",
       "dac2305baf3e153161815bbbb8dbe76d  Wed Jan 09 23:40:01 -0800 2013        0   \n",
       "971a0246e53ae7125a76579127f06f32  Mon Jan 04 18:35:34 -0800 2010        0   \n",
       "12dd7ef1ae691f55329cb865b3f15352  Mon Nov 19 08:07:51 -0800 2012        0   \n",
       "\n",
       "                                  n_comments  \n",
       "review_id                                     \n",
       "ba7e149d70cb858d87d4113dfe0e4091           1  \n",
       "90529a603506931b91502b3c65b0564c           0  \n",
       "7105506d7aa373be892e6d7d29750741           0  \n",
       "ba4e577524730630bef88cb4c76c6dd7           0  \n",
       "d9d104943954cc9d975a07d1a724be90           0  \n",
       "a79de0fe1d6b8cb32722276577a2a870           0  \n",
       "ebb2dc04593320cf2e6af799a0f98e63           0  \n",
       "59fa84dcdaa951b79ef0bb4bcda2d19d           0  \n",
       "4955188c74fbc2f4da1cbf4a1bb452e1           0  \n",
       "abcafee3301b08cdb4786f5995bb2f35           0  \n",
       "024fe36fd4e75f1cb76a0853df1724aa           4  \n",
       "e8c277f628ca81ee96d95225f0350f39           0  \n",
       "cba33e169157b8e44d82d4c192f9d584           2  \n",
       "c3163ffb7afa53b2582c96981d37fc3c           1  \n",
       "14eadea9429da8747a766370fffe536b           0  \n",
       "7beda1acd88100806e47118d1ba86cc5           9  \n",
       "926fda2ede0b660e162b156ee6c0172c           0  \n",
       "29700f8b91b35857191e5e18feb9e766           1  \n",
       "ef80d30fba0de49151e8313afcc0ff2c           0  \n",
       "8e29ea947752ed9f91dfb811f09961dd           0  \n",
       "f2e4f842ccc7e559339378a7f857dfa9           0  \n",
       "4479dda16b8fd2ca8ab15770678dfc74           0  \n",
       "5c7fb44d4e72a0c3168e221d7f2322ea           0  \n",
       "dac2305baf3e153161815bbbb8dbe76d           0  \n",
       "971a0246e53ae7125a76579127f06f32           0  \n",
       "12dd7ef1ae691f55329cb865b3f15352           0  "
      ]
     },
     "execution_count": 25,
     "metadata": {},
     "output_type": "execute_result"
    }
   ],
   "source": [
    "books[unapp_texts]"
   ]
  },
  {
   "cell_type": "code",
   "execution_count": 26,
   "metadata": {},
   "outputs": [],
   "source": [
    "more_than_2_dot = r'\\.{2,}'\n",
    "books['review_text'].replace(more_than_2_dot, ' ', inplace=True, regex=True)"
   ]
  },
  {
   "cell_type": "code",
   "execution_count": 27,
   "metadata": {},
   "outputs": [],
   "source": [
    "unapp_texts = books['review_text'].apply(lambda txt: np.mean(list(map(len, txt.split())))) > 25"
   ]
  },
  {
   "cell_type": "code",
   "execution_count": 28,
   "metadata": {},
   "outputs": [
    {
     "data": {
      "text/html": [
       "<div>\n",
       "<style scoped>\n",
       "    .dataframe tbody tr th:only-of-type {\n",
       "        vertical-align: middle;\n",
       "    }\n",
       "\n",
       "    .dataframe tbody tr th {\n",
       "        vertical-align: top;\n",
       "    }\n",
       "\n",
       "    .dataframe thead th {\n",
       "        text-align: right;\n",
       "    }\n",
       "</style>\n",
       "<table border=\"1\" class=\"dataframe\">\n",
       "  <thead>\n",
       "    <tr style=\"text-align: right;\">\n",
       "      <th></th>\n",
       "      <th>user_id</th>\n",
       "      <th>book_id</th>\n",
       "      <th>review_text</th>\n",
       "      <th>date_added</th>\n",
       "      <th>n_votes</th>\n",
       "      <th>n_comments</th>\n",
       "    </tr>\n",
       "    <tr>\n",
       "      <th>review_id</th>\n",
       "      <th></th>\n",
       "      <th></th>\n",
       "      <th></th>\n",
       "      <th></th>\n",
       "      <th></th>\n",
       "      <th></th>\n",
       "    </tr>\n",
       "  </thead>\n",
       "  <tbody>\n",
       "    <tr>\n",
       "      <th>ba7e149d70cb858d87d4113dfe0e4091</th>\n",
       "      <td>8092e33e9c50d3e269a8164177d2abdc</td>\n",
       "      <td>6339664</td>\n",
       "      <td>IhavetoadmitihavefalleninlovewithPatcicannotwa...</td>\n",
       "      <td>Sun Sep 30 12:29:48 -0700 2012</td>\n",
       "      <td>1</td>\n",
       "      <td>1</td>\n",
       "    </tr>\n",
       "    <tr>\n",
       "      <th>7105506d7aa373be892e6d7d29750741</th>\n",
       "      <td>302eb3debfc02e0bdd0fd617d34a2713</td>\n",
       "      <td>10644930</td>\n",
       "      <td>\"The past is obdurate.\" \\n rtcrtcrtcrtcrtcrtcr...</td>\n",
       "      <td>Fri Mar 18 07:59:13 -0700 2016</td>\n",
       "      <td>0</td>\n",
       "      <td>0</td>\n",
       "    </tr>\n",
       "    <tr>\n",
       "      <th>ba4e577524730630bef88cb4c76c6dd7</th>\n",
       "      <td>de107a99cb0ed2ec5d90d744cc48c310</td>\n",
       "      <td>23723788</td>\n",
       "      <td>2.5 it's-a-good-book-as-in-even-after-months-I...</td>\n",
       "      <td>Sun Aug 30 18:18:44 -0700 2015</td>\n",
       "      <td>0</td>\n",
       "      <td>0</td>\n",
       "    </tr>\n",
       "    <tr>\n",
       "      <th>d9d104943954cc9d975a07d1a724be90</th>\n",
       "      <td>de107a99cb0ed2ec5d90d744cc48c310</td>\n",
       "      <td>23496782</td>\n",
       "      <td>2.5 It-Was-a-Very-Okay-Book-With-the-Mystery-a...</td>\n",
       "      <td>Thu Apr 09 04:41:42 -0700 2015</td>\n",
       "      <td>3</td>\n",
       "      <td>0</td>\n",
       "    </tr>\n",
       "    <tr>\n",
       "      <th>ebb2dc04593320cf2e6af799a0f98e63</th>\n",
       "      <td>1ffb13e4f8c151bb07c8d8eb869c2d7e</td>\n",
       "      <td>18630598</td>\n",
       "      <td>#certaincharactersthatiwontdisclosedeservedbet...</td>\n",
       "      <td>Sun Jul 09 16:46:56 -0700 2017</td>\n",
       "      <td>0</td>\n",
       "      <td>0</td>\n",
       "    </tr>\n",
       "  </tbody>\n",
       "</table>\n",
       "</div>"
      ],
      "text/plain": [
       "                                                           user_id   book_id  \\\n",
       "review_id                                                                      \n",
       "ba7e149d70cb858d87d4113dfe0e4091  8092e33e9c50d3e269a8164177d2abdc   6339664   \n",
       "7105506d7aa373be892e6d7d29750741  302eb3debfc02e0bdd0fd617d34a2713  10644930   \n",
       "ba4e577524730630bef88cb4c76c6dd7  de107a99cb0ed2ec5d90d744cc48c310  23723788   \n",
       "d9d104943954cc9d975a07d1a724be90  de107a99cb0ed2ec5d90d744cc48c310  23496782   \n",
       "ebb2dc04593320cf2e6af799a0f98e63  1ffb13e4f8c151bb07c8d8eb869c2d7e  18630598   \n",
       "\n",
       "                                                                        review_text  \\\n",
       "review_id                                                                             \n",
       "ba7e149d70cb858d87d4113dfe0e4091  IhavetoadmitihavefalleninlovewithPatcicannotwa...   \n",
       "7105506d7aa373be892e6d7d29750741  \"The past is obdurate.\" \\n rtcrtcrtcrtcrtcrtcr...   \n",
       "ba4e577524730630bef88cb4c76c6dd7  2.5 it's-a-good-book-as-in-even-after-months-I...   \n",
       "d9d104943954cc9d975a07d1a724be90  2.5 It-Was-a-Very-Okay-Book-With-the-Mystery-a...   \n",
       "ebb2dc04593320cf2e6af799a0f98e63  #certaincharactersthatiwontdisclosedeservedbet...   \n",
       "\n",
       "                                                      date_added  n_votes  \\\n",
       "review_id                                                                   \n",
       "ba7e149d70cb858d87d4113dfe0e4091  Sun Sep 30 12:29:48 -0700 2012        1   \n",
       "7105506d7aa373be892e6d7d29750741  Fri Mar 18 07:59:13 -0700 2016        0   \n",
       "ba4e577524730630bef88cb4c76c6dd7  Sun Aug 30 18:18:44 -0700 2015        0   \n",
       "d9d104943954cc9d975a07d1a724be90  Thu Apr 09 04:41:42 -0700 2015        3   \n",
       "ebb2dc04593320cf2e6af799a0f98e63  Sun Jul 09 16:46:56 -0700 2017        0   \n",
       "\n",
       "                                  n_comments  \n",
       "review_id                                     \n",
       "ba7e149d70cb858d87d4113dfe0e4091           1  \n",
       "7105506d7aa373be892e6d7d29750741           0  \n",
       "ba4e577524730630bef88cb4c76c6dd7           0  \n",
       "d9d104943954cc9d975a07d1a724be90           0  \n",
       "ebb2dc04593320cf2e6af799a0f98e63           0  "
      ]
     },
     "execution_count": 28,
     "metadata": {},
     "output_type": "execute_result"
    }
   ],
   "source": [
    "books[unapp_texts].head()"
   ]
  },
  {
   "cell_type": "code",
   "execution_count": 29,
   "metadata": {},
   "outputs": [],
   "source": [
    "books.drop(books[unapp_texts].index, axis=0, inplace=True)"
   ]
  },
  {
   "cell_type": "code",
   "execution_count": 30,
   "metadata": {},
   "outputs": [],
   "source": [
    "spoil_statement = 'spoiler alert'\n",
    "books['spoil'] = [True if spoil_statement in txt else False for txt in books['review_text']]"
   ]
  },
  {
   "cell_type": "code",
   "execution_count": 31,
   "metadata": {},
   "outputs": [
    {
     "data": {
      "text/html": [
       "<div>\n",
       "<style scoped>\n",
       "    .dataframe tbody tr th:only-of-type {\n",
       "        vertical-align: middle;\n",
       "    }\n",
       "\n",
       "    .dataframe tbody tr th {\n",
       "        vertical-align: top;\n",
       "    }\n",
       "\n",
       "    .dataframe thead th {\n",
       "        text-align: right;\n",
       "    }\n",
       "</style>\n",
       "<table border=\"1\" class=\"dataframe\">\n",
       "  <thead>\n",
       "    <tr style=\"text-align: right;\">\n",
       "      <th></th>\n",
       "      <th>user_id</th>\n",
       "      <th>book_id</th>\n",
       "      <th>review_text</th>\n",
       "      <th>date_added</th>\n",
       "      <th>n_votes</th>\n",
       "      <th>n_comments</th>\n",
       "      <th>spoil</th>\n",
       "    </tr>\n",
       "    <tr>\n",
       "      <th>review_id</th>\n",
       "      <th></th>\n",
       "      <th></th>\n",
       "      <th></th>\n",
       "      <th></th>\n",
       "      <th></th>\n",
       "      <th></th>\n",
       "      <th></th>\n",
       "    </tr>\n",
       "  </thead>\n",
       "  <tbody>\n",
       "    <tr>\n",
       "      <th>e23965adda7ce7e7e415a1339e169065</th>\n",
       "      <td>8842281e1d1347389f2ab93d60773d4d</td>\n",
       "      <td>62291</td>\n",
       "      <td>** spoiler alert ** \\n Loved it. The epic saga...</td>\n",
       "      <td>Tue Jul 12 12:57:07 -0700 2011</td>\n",
       "      <td>5</td>\n",
       "      <td>1</td>\n",
       "      <td>True</td>\n",
       "    </tr>\n",
       "    <tr>\n",
       "      <th>0258b3c9a85cecb95f240e43a7642f60</th>\n",
       "      <td>8842281e1d1347389f2ab93d60773d4d</td>\n",
       "      <td>7112495</td>\n",
       "      <td>** spoiler alert ** \\n An interesting book in ...</td>\n",
       "      <td>Thu Jun 10 14:41:13 -0700 2010</td>\n",
       "      <td>7</td>\n",
       "      <td>3</td>\n",
       "      <td>True</td>\n",
       "    </tr>\n",
       "    <tr>\n",
       "      <th>d44b6d28f456dbcc5b1537b4c5572400</th>\n",
       "      <td>8842281e1d1347389f2ab93d60773d4d</td>\n",
       "      <td>6411961</td>\n",
       "      <td>** spoiler alert ** \\n Critics aside, Dan Brow...</td>\n",
       "      <td>Wed Sep 16 11:09:03 -0700 2009</td>\n",
       "      <td>3</td>\n",
       "      <td>3</td>\n",
       "      <td>True</td>\n",
       "    </tr>\n",
       "    <tr>\n",
       "      <th>d49eb786ef1d8557b9e6e86bcafd4570</th>\n",
       "      <td>8842281e1d1347389f2ab93d60773d4d</td>\n",
       "      <td>77432</td>\n",
       "      <td>** spoiler alert ** \\n I equally loved book 2,...</td>\n",
       "      <td>Tue May 05 18:08:22 -0700 2009</td>\n",
       "      <td>1</td>\n",
       "      <td>0</td>\n",
       "      <td>True</td>\n",
       "    </tr>\n",
       "    <tr>\n",
       "      <th>b8e08587ce1592d69548d0f644cb9893</th>\n",
       "      <td>8842281e1d1347389f2ab93d60773d4d</td>\n",
       "      <td>14497</td>\n",
       "      <td>** spoiler alert ** \\n Just finished this and ...</td>\n",
       "      <td>Thu Mar 27 17:53:06 -0700 2008</td>\n",
       "      <td>6</td>\n",
       "      <td>1</td>\n",
       "      <td>True</td>\n",
       "    </tr>\n",
       "    <tr>\n",
       "      <th>...</th>\n",
       "      <td>...</td>\n",
       "      <td>...</td>\n",
       "      <td>...</td>\n",
       "      <td>...</td>\n",
       "      <td>...</td>\n",
       "      <td>...</td>\n",
       "      <td>...</td>\n",
       "    </tr>\n",
       "    <tr>\n",
       "      <th>a989c818917a7463089454b356fb6671</th>\n",
       "      <td>5ff0927d425ab1a70d2b2d41fe6b96b5</td>\n",
       "      <td>13239950</td>\n",
       "      <td>** spoiler alert ** \\n Hills like White Elepha...</td>\n",
       "      <td>Wed Oct 31 18:22:50 -0700 2012</td>\n",
       "      <td>25</td>\n",
       "      <td>7</td>\n",
       "      <td>True</td>\n",
       "    </tr>\n",
       "    <tr>\n",
       "      <th>3736d5ee5904b4b5651912dd28b7ce01</th>\n",
       "      <td>a16fd6b48c6e877042acbe2bda8a0007</td>\n",
       "      <td>115076</td>\n",
       "      <td>** spoiler alert ** \\n I was completely engros...</td>\n",
       "      <td>Mon Jun 04 07:18:34 -0700 2012</td>\n",
       "      <td>0</td>\n",
       "      <td>0</td>\n",
       "      <td>True</td>\n",
       "    </tr>\n",
       "    <tr>\n",
       "      <th>a7777a1c18ab582586a61ad453d91949</th>\n",
       "      <td>692ce8eb4d5490980f6e74f6cb8671e2</td>\n",
       "      <td>12974372</td>\n",
       "      <td>** spoiler alert ** \\n Hmm what to say about t...</td>\n",
       "      <td>Wed Nov 04 12:33:22 -0800 2015</td>\n",
       "      <td>1</td>\n",
       "      <td>0</td>\n",
       "      <td>True</td>\n",
       "    </tr>\n",
       "    <tr>\n",
       "      <th>b1e1134e7e1e90725ac4237b66657de9</th>\n",
       "      <td>692ce8eb4d5490980f6e74f6cb8671e2</td>\n",
       "      <td>29044</td>\n",
       "      <td>** spoiler alert ** \\n The first two-thirds of...</td>\n",
       "      <td>Mon Nov 24 16:03:39 -0800 2014</td>\n",
       "      <td>1</td>\n",
       "      <td>3</td>\n",
       "      <td>True</td>\n",
       "    </tr>\n",
       "    <tr>\n",
       "      <th>31793e9810955194feaed3cc169e52ce</th>\n",
       "      <td>e32792a55ef11527453a96a9df5a4fc2</td>\n",
       "      <td>18512</td>\n",
       "      <td>The middle was a bit slow for me (that could o...</td>\n",
       "      <td>Wed Jun 11 07:45:03 -0700 2008</td>\n",
       "      <td>0</td>\n",
       "      <td>0</td>\n",
       "      <td>True</td>\n",
       "    </tr>\n",
       "  </tbody>\n",
       "</table>\n",
       "<p>25902 rows × 7 columns</p>\n",
       "</div>"
      ],
      "text/plain": [
       "                                                           user_id   book_id  \\\n",
       "review_id                                                                      \n",
       "e23965adda7ce7e7e415a1339e169065  8842281e1d1347389f2ab93d60773d4d     62291   \n",
       "0258b3c9a85cecb95f240e43a7642f60  8842281e1d1347389f2ab93d60773d4d   7112495   \n",
       "d44b6d28f456dbcc5b1537b4c5572400  8842281e1d1347389f2ab93d60773d4d   6411961   \n",
       "d49eb786ef1d8557b9e6e86bcafd4570  8842281e1d1347389f2ab93d60773d4d     77432   \n",
       "b8e08587ce1592d69548d0f644cb9893  8842281e1d1347389f2ab93d60773d4d     14497   \n",
       "...                                                            ...       ...   \n",
       "a989c818917a7463089454b356fb6671  5ff0927d425ab1a70d2b2d41fe6b96b5  13239950   \n",
       "3736d5ee5904b4b5651912dd28b7ce01  a16fd6b48c6e877042acbe2bda8a0007    115076   \n",
       "a7777a1c18ab582586a61ad453d91949  692ce8eb4d5490980f6e74f6cb8671e2  12974372   \n",
       "b1e1134e7e1e90725ac4237b66657de9  692ce8eb4d5490980f6e74f6cb8671e2     29044   \n",
       "31793e9810955194feaed3cc169e52ce  e32792a55ef11527453a96a9df5a4fc2     18512   \n",
       "\n",
       "                                                                        review_text  \\\n",
       "review_id                                                                             \n",
       "e23965adda7ce7e7e415a1339e169065  ** spoiler alert ** \\n Loved it. The epic saga...   \n",
       "0258b3c9a85cecb95f240e43a7642f60  ** spoiler alert ** \\n An interesting book in ...   \n",
       "d44b6d28f456dbcc5b1537b4c5572400  ** spoiler alert ** \\n Critics aside, Dan Brow...   \n",
       "d49eb786ef1d8557b9e6e86bcafd4570  ** spoiler alert ** \\n I equally loved book 2,...   \n",
       "b8e08587ce1592d69548d0f644cb9893  ** spoiler alert ** \\n Just finished this and ...   \n",
       "...                                                                             ...   \n",
       "a989c818917a7463089454b356fb6671  ** spoiler alert ** \\n Hills like White Elepha...   \n",
       "3736d5ee5904b4b5651912dd28b7ce01  ** spoiler alert ** \\n I was completely engros...   \n",
       "a7777a1c18ab582586a61ad453d91949  ** spoiler alert ** \\n Hmm what to say about t...   \n",
       "b1e1134e7e1e90725ac4237b66657de9  ** spoiler alert ** \\n The first two-thirds of...   \n",
       "31793e9810955194feaed3cc169e52ce  The middle was a bit slow for me (that could o...   \n",
       "\n",
       "                                                      date_added  n_votes  \\\n",
       "review_id                                                                   \n",
       "e23965adda7ce7e7e415a1339e169065  Tue Jul 12 12:57:07 -0700 2011        5   \n",
       "0258b3c9a85cecb95f240e43a7642f60  Thu Jun 10 14:41:13 -0700 2010        7   \n",
       "d44b6d28f456dbcc5b1537b4c5572400  Wed Sep 16 11:09:03 -0700 2009        3   \n",
       "d49eb786ef1d8557b9e6e86bcafd4570  Tue May 05 18:08:22 -0700 2009        1   \n",
       "b8e08587ce1592d69548d0f644cb9893  Thu Mar 27 17:53:06 -0700 2008        6   \n",
       "...                                                          ...      ...   \n",
       "a989c818917a7463089454b356fb6671  Wed Oct 31 18:22:50 -0700 2012       25   \n",
       "3736d5ee5904b4b5651912dd28b7ce01  Mon Jun 04 07:18:34 -0700 2012        0   \n",
       "a7777a1c18ab582586a61ad453d91949  Wed Nov 04 12:33:22 -0800 2015        1   \n",
       "b1e1134e7e1e90725ac4237b66657de9  Mon Nov 24 16:03:39 -0800 2014        1   \n",
       "31793e9810955194feaed3cc169e52ce  Wed Jun 11 07:45:03 -0700 2008        0   \n",
       "\n",
       "                                  n_comments  spoil  \n",
       "review_id                                            \n",
       "e23965adda7ce7e7e415a1339e169065           1   True  \n",
       "0258b3c9a85cecb95f240e43a7642f60           3   True  \n",
       "d44b6d28f456dbcc5b1537b4c5572400           3   True  \n",
       "d49eb786ef1d8557b9e6e86bcafd4570           0   True  \n",
       "b8e08587ce1592d69548d0f644cb9893           1   True  \n",
       "...                                      ...    ...  \n",
       "a989c818917a7463089454b356fb6671           7   True  \n",
       "3736d5ee5904b4b5651912dd28b7ce01           0   True  \n",
       "a7777a1c18ab582586a61ad453d91949           0   True  \n",
       "b1e1134e7e1e90725ac4237b66657de9           3   True  \n",
       "31793e9810955194feaed3cc169e52ce           0   True  \n",
       "\n",
       "[25902 rows x 7 columns]"
      ]
     },
     "execution_count": 31,
     "metadata": {},
     "output_type": "execute_result"
    }
   ],
   "source": [
    "books[books['spoil'] == True]"
   ]
  },
  {
   "cell_type": "markdown",
   "metadata": {},
   "source": [
    "* converting all letters to lower or upper case\n",
    "* converting numbers into words or removing numbers\n",
    "* removing punctuations, accent marks and other diacritics\n",
    "* removing white spaces\n",
    "* expanding abbreviations\n",
    "* removing stop words, sparse terms, and particular words\n",
    "* text canonicalization"
   ]
  },
  {
   "cell_type": "code",
   "execution_count": 32,
   "metadata": {},
   "outputs": [],
   "source": [
    "# Converting all charecters to lower case\n",
    "books['review_text'] = books['review_text'].str.lower()"
   ]
  },
  {
   "cell_type": "code",
   "execution_count": 33,
   "metadata": {},
   "outputs": [],
   "source": [
    "# Removing numbers\n",
    "# books['review_text'].replace(r'\\d+', '', inplace=True, regex=True)"
   ]
  },
  {
   "cell_type": "code",
   "execution_count": 34,
   "metadata": {},
   "outputs": [
    {
     "data": {
      "text/plain": [
       "'RegExr was created by gskinnercom and is proudly  hosted by Media Temple'"
      ]
     },
     "execution_count": 34,
     "metadata": {},
     "output_type": "execute_result"
    }
   ],
   "source": [
    "import re\n",
    "import string\n",
    "ss = pd.Series(['  RegExr was created by    gskinner.com, and is proudly    .  hosted by Media Temple. . . '])\n",
    "\n",
    "# exclist = string.punctuation + string.digits\n",
    "repl = lambda pat: ' ' if((' ' in pat.group()) and (pat.span()[0] != 0)) else ''\n",
    "\n",
    "# repl = lambda pat: print(pat.group())\n",
    "\n",
    "ss.str.replace(r'[^\\w\\s]|\\d+|\\s{2,}|^\\s', repl, regex=True).str.strip()[0]\n",
    "\n",
    "# ' ' in 'fg '\n",
    "\n",
    "# re.sub(r'\\s{2,}', '', re.sub(r'\\W|\\d+', ' ', ss))"
   ]
  },
  {
   "cell_type": "code",
   "execution_count": 35,
   "metadata": {},
   "outputs": [],
   "source": [
    "# Removing punctuation\n",
    "\n",
    "## Way 1\n",
    "import string\n",
    "exclist = string.punctuation + string.digits\n",
    "def remove_punc_num(txt):\n",
    "    return ' '.join(txt.translate(str.maketrans(exclist, ' '*len(exclist))).split())\n",
    "\n",
    "books['review_text'] = books['review_text'].apply(remove_punc_num)\n",
    "\n",
    "\n",
    "## Way 2\n",
    "# books['review_text'] = books['review_text'].str.replace(r'[^\\w\\s]|\\d+','', regex=True)\n",
    "\n"
   ]
  },
  {
   "cell_type": "code",
   "execution_count": 36,
   "metadata": {},
   "outputs": [
    {
     "data": {
      "text/plain": [
       "review_id\n",
       "dfdbb7b0eb5a7e4c26d59a937e2e5feb    this is a special book it started slow for abo...\n",
       "a5d2c3628987712d0e05c4f90798eb67    recommended by don katz avail for free in dece...\n",
       "2ede853b14dc4583f96cf5d120af636f    a fun fast paced science fiction thriller i re...\n",
       "ced5675e55cd9d38a524743f5c40996e    recommended reading to understand what is goin...\n",
       "332732725863131279a8e345b63ac33e    i really enjoyed this book and there is a lot ...\n",
       "                                                          ...                        \n",
       "0e1db3d4b04256f9660f5d276ddf1314    can t wait for travis pov travis before abby t...\n",
       "0b7f352e58caf0fd1f961e98ef04e89c    had this on my to read shelf forever will upda...\n",
       "9b19eff33ddb14e9e68fca2e90379e46    the last book left me wanting for more i need ...\n",
       "8be463fed78f0da63e964706f710332b    things are heating up in the second novel of i...\n",
       "62ed1263c7d216986cc419cd4e8a408b    before i even start this review i must say tha...\n",
       "Name: review_text, Length: 1361779, dtype: object"
      ]
     },
     "execution_count": 36,
     "metadata": {},
     "output_type": "execute_result"
    }
   ],
   "source": [
    "books['review_text']"
   ]
  },
  {
   "cell_type": "code",
   "execution_count": 37,
   "metadata": {},
   "outputs": [],
   "source": [
    "import nltk\n",
    "from nltk.tokenize import word_tokenize\n",
    "from nltk.stem import WordNetLemmatizer\n",
    "from nltk.corpus import stopwords"
   ]
  },
  {
   "cell_type": "code",
   "execution_count": 38,
   "metadata": {},
   "outputs": [],
   "source": [
    "## Downloading NLTK data\n",
    "#nltk.download()"
   ]
  },
  {
   "cell_type": "code",
   "execution_count": 39,
   "metadata": {},
   "outputs": [],
   "source": [
    "stopwords_list = stopwords.words('english')"
   ]
  },
  {
   "cell_type": "code",
   "execution_count": 60,
   "metadata": {},
   "outputs": [],
   "source": [
    "lamitizer = WordNetLemmatizer()\n",
    "\n",
    "def remove_sw_tokenize(txt):\n",
    "    tokenized_txt = txt.split(\" \")\n",
    "    clean_txt = [lamitizer.lemmatize(word) for word in tokenized_txt if word not in stopwords_list]\n",
    "\n",
    "    return clean_txt"
   ]
  },
  {
   "cell_type": "code",
   "execution_count": 51,
   "metadata": {},
   "outputs": [
    {
     "name": "stderr",
     "output_type": "stream",
     "text": [
      "100%|██████████| 1361779/1361779 [29:28<00:00, 769.94it/s] \n"
     ]
    }
   ],
   "source": [
    "books['review_text_tokens'] = books['review_text'].progress_apply(remove_sw_tokenize)"
   ]
  },
  {
   "cell_type": "code",
   "execution_count": 52,
   "metadata": {},
   "outputs": [
    {
     "data": {
      "text/html": [
       "<div>\n",
       "<style scoped>\n",
       "    .dataframe tbody tr th:only-of-type {\n",
       "        vertical-align: middle;\n",
       "    }\n",
       "\n",
       "    .dataframe tbody tr th {\n",
       "        vertical-align: top;\n",
       "    }\n",
       "\n",
       "    .dataframe thead th {\n",
       "        text-align: right;\n",
       "    }\n",
       "</style>\n",
       "<table border=\"1\" class=\"dataframe\">\n",
       "  <thead>\n",
       "    <tr style=\"text-align: right;\">\n",
       "      <th></th>\n",
       "      <th>user_id</th>\n",
       "      <th>book_id</th>\n",
       "      <th>review_text</th>\n",
       "      <th>date_added</th>\n",
       "      <th>n_votes</th>\n",
       "      <th>n_comments</th>\n",
       "      <th>spoil</th>\n",
       "      <th>review_text_tokens</th>\n",
       "    </tr>\n",
       "    <tr>\n",
       "      <th>review_id</th>\n",
       "      <th></th>\n",
       "      <th></th>\n",
       "      <th></th>\n",
       "      <th></th>\n",
       "      <th></th>\n",
       "      <th></th>\n",
       "      <th></th>\n",
       "      <th></th>\n",
       "    </tr>\n",
       "  </thead>\n",
       "  <tbody>\n",
       "    <tr>\n",
       "      <th>dfdbb7b0eb5a7e4c26d59a937e2e5feb</th>\n",
       "      <td>8842281e1d1347389f2ab93d60773d4d</td>\n",
       "      <td>18245960</td>\n",
       "      <td>this is a special book it started slow for abo...</td>\n",
       "      <td>Sun Jul 30 07:44:10 -0700 2017</td>\n",
       "      <td>28</td>\n",
       "      <td>1</td>\n",
       "      <td>False</td>\n",
       "      <td>[special, book, started, slow, first, third, m...</td>\n",
       "    </tr>\n",
       "    <tr>\n",
       "      <th>a5d2c3628987712d0e05c4f90798eb67</th>\n",
       "      <td>8842281e1d1347389f2ab93d60773d4d</td>\n",
       "      <td>16981</td>\n",
       "      <td>recommended by don katz avail for free in dece...</td>\n",
       "      <td>Mon Dec 05 10:46:44 -0800 2016</td>\n",
       "      <td>1</td>\n",
       "      <td>0</td>\n",
       "      <td>False</td>\n",
       "      <td>[recommended, katz, avail, free, december, htt...</td>\n",
       "    </tr>\n",
       "    <tr>\n",
       "      <th>2ede853b14dc4583f96cf5d120af636f</th>\n",
       "      <td>8842281e1d1347389f2ab93d60773d4d</td>\n",
       "      <td>28684704</td>\n",
       "      <td>a fun fast paced science fiction thriller i re...</td>\n",
       "      <td>Tue Nov 15 11:29:22 -0800 2016</td>\n",
       "      <td>22</td>\n",
       "      <td>0</td>\n",
       "      <td>False</td>\n",
       "      <td>[fun, fast, paced, science, fiction, thriller,...</td>\n",
       "    </tr>\n",
       "    <tr>\n",
       "      <th>ced5675e55cd9d38a524743f5c40996e</th>\n",
       "      <td>8842281e1d1347389f2ab93d60773d4d</td>\n",
       "      <td>27161156</td>\n",
       "      <td>recommended reading to understand what is goin...</td>\n",
       "      <td>Wed Nov 09 17:37:04 -0800 2016</td>\n",
       "      <td>5</td>\n",
       "      <td>1</td>\n",
       "      <td>False</td>\n",
       "      <td>[recommended, reading, understand, going, midd...</td>\n",
       "    </tr>\n",
       "    <tr>\n",
       "      <th>332732725863131279a8e345b63ac33e</th>\n",
       "      <td>8842281e1d1347389f2ab93d60773d4d</td>\n",
       "      <td>25884323</td>\n",
       "      <td>i really enjoyed this book and there is a lot ...</td>\n",
       "      <td>Mon Apr 25 09:31:23 -0700 2016</td>\n",
       "      <td>9</td>\n",
       "      <td>1</td>\n",
       "      <td>False</td>\n",
       "      <td>[really, enjoyed, book, lot, recommend, drag, ...</td>\n",
       "    </tr>\n",
       "  </tbody>\n",
       "</table>\n",
       "</div>"
      ],
      "text/plain": [
       "                                                           user_id   book_id  \\\n",
       "review_id                                                                      \n",
       "dfdbb7b0eb5a7e4c26d59a937e2e5feb  8842281e1d1347389f2ab93d60773d4d  18245960   \n",
       "a5d2c3628987712d0e05c4f90798eb67  8842281e1d1347389f2ab93d60773d4d     16981   \n",
       "2ede853b14dc4583f96cf5d120af636f  8842281e1d1347389f2ab93d60773d4d  28684704   \n",
       "ced5675e55cd9d38a524743f5c40996e  8842281e1d1347389f2ab93d60773d4d  27161156   \n",
       "332732725863131279a8e345b63ac33e  8842281e1d1347389f2ab93d60773d4d  25884323   \n",
       "\n",
       "                                                                        review_text  \\\n",
       "review_id                                                                             \n",
       "dfdbb7b0eb5a7e4c26d59a937e2e5feb  this is a special book it started slow for abo...   \n",
       "a5d2c3628987712d0e05c4f90798eb67  recommended by don katz avail for free in dece...   \n",
       "2ede853b14dc4583f96cf5d120af636f  a fun fast paced science fiction thriller i re...   \n",
       "ced5675e55cd9d38a524743f5c40996e  recommended reading to understand what is goin...   \n",
       "332732725863131279a8e345b63ac33e  i really enjoyed this book and there is a lot ...   \n",
       "\n",
       "                                                      date_added  n_votes  \\\n",
       "review_id                                                                   \n",
       "dfdbb7b0eb5a7e4c26d59a937e2e5feb  Sun Jul 30 07:44:10 -0700 2017       28   \n",
       "a5d2c3628987712d0e05c4f90798eb67  Mon Dec 05 10:46:44 -0800 2016        1   \n",
       "2ede853b14dc4583f96cf5d120af636f  Tue Nov 15 11:29:22 -0800 2016       22   \n",
       "ced5675e55cd9d38a524743f5c40996e  Wed Nov 09 17:37:04 -0800 2016        5   \n",
       "332732725863131279a8e345b63ac33e  Mon Apr 25 09:31:23 -0700 2016        9   \n",
       "\n",
       "                                  n_comments  spoil  \\\n",
       "review_id                                             \n",
       "dfdbb7b0eb5a7e4c26d59a937e2e5feb           1  False   \n",
       "a5d2c3628987712d0e05c4f90798eb67           0  False   \n",
       "2ede853b14dc4583f96cf5d120af636f           0  False   \n",
       "ced5675e55cd9d38a524743f5c40996e           1  False   \n",
       "332732725863131279a8e345b63ac33e           1  False   \n",
       "\n",
       "                                                                 review_text_tokens  \n",
       "review_id                                                                            \n",
       "dfdbb7b0eb5a7e4c26d59a937e2e5feb  [special, book, started, slow, first, third, m...  \n",
       "a5d2c3628987712d0e05c4f90798eb67  [recommended, katz, avail, free, december, htt...  \n",
       "2ede853b14dc4583f96cf5d120af636f  [fun, fast, paced, science, fiction, thriller,...  \n",
       "ced5675e55cd9d38a524743f5c40996e  [recommended, reading, understand, going, midd...  \n",
       "332732725863131279a8e345b63ac33e  [really, enjoyed, book, lot, recommend, drag, ...  "
      ]
     },
     "execution_count": 52,
     "metadata": {},
     "output_type": "execute_result"
    }
   ],
   "source": [
    "books.sample(4)"
   ]
  },
  {
   "cell_type": "code",
   "execution_count": null,
   "metadata": {},
   "outputs": [],
   "source": []
  },
  {
   "cell_type": "code",
   "execution_count": null,
   "metadata": {},
   "outputs": [],
   "source": []
  },
  {
   "cell_type": "code",
   "execution_count": null,
   "metadata": {},
   "outputs": [],
   "source": [
    "books.to_csv('data/cleaned_concated_books.csv')"
   ]
  },
  {
   "cell_type": "code",
   "execution_count": null,
   "metadata": {},
   "outputs": [
    {
     "data": {
      "text/html": [
       "<div>\n",
       "<style scoped>\n",
       "    .dataframe tbody tr th:only-of-type {\n",
       "        vertical-align: middle;\n",
       "    }\n",
       "\n",
       "    .dataframe tbody tr th {\n",
       "        vertical-align: top;\n",
       "    }\n",
       "\n",
       "    .dataframe thead th {\n",
       "        text-align: right;\n",
       "    }\n",
       "</style>\n",
       "<table border=\"1\" class=\"dataframe\">\n",
       "  <thead>\n",
       "    <tr style=\"text-align: right;\">\n",
       "      <th></th>\n",
       "      <th>user_id</th>\n",
       "      <th>book_id</th>\n",
       "      <th>review_text</th>\n",
       "      <th>date_added</th>\n",
       "      <th>n_votes</th>\n",
       "      <th>n_comments</th>\n",
       "      <th>spoil</th>\n",
       "    </tr>\n",
       "    <tr>\n",
       "      <th>review_id</th>\n",
       "      <th></th>\n",
       "      <th></th>\n",
       "      <th></th>\n",
       "      <th></th>\n",
       "      <th></th>\n",
       "      <th></th>\n",
       "      <th></th>\n",
       "    </tr>\n",
       "  </thead>\n",
       "  <tbody>\n",
       "    <tr>\n",
       "      <th>b6c5ee623cf317c760057de74c5c33ed</th>\n",
       "      <td>147e931b6109d16af66b63a798ec8f7f</td>\n",
       "      <td>23666139</td>\n",
       "      <td>i found it slow going at first, and i admit i ...</td>\n",
       "      <td>2015-05-21 15:28:19+00:00</td>\n",
       "      <td>9</td>\n",
       "      <td>3</td>\n",
       "      <td>False</td>\n",
       "    </tr>\n",
       "    <tr>\n",
       "      <th>6f43683c17c88fd2946166b9fb366ff8</th>\n",
       "      <td>360b333e9c48ac442165a0f9b7728dd1</td>\n",
       "      <td>18285151</td>\n",
       "      <td>anyone that says they're having a bad day shou...</td>\n",
       "      <td>2015-04-15 10:26:09+00:00</td>\n",
       "      <td>0</td>\n",
       "      <td>0</td>\n",
       "      <td>False</td>\n",
       "    </tr>\n",
       "    <tr>\n",
       "      <th>d62af9b6d6fc422f2443f76ac908ead9</th>\n",
       "      <td>c497ceb0273befafb3e44545fb6da098</td>\n",
       "      <td>2</td>\n",
       "      <td>like. obviously 5/5. forgot how much i love th...</td>\n",
       "      <td>2013-08-11 15:32:54+00:00</td>\n",
       "      <td>0</td>\n",
       "      <td>0</td>\n",
       "      <td>False</td>\n",
       "    </tr>\n",
       "    <tr>\n",
       "      <th>a72b7fd5aec15426c749b58d55764ded</th>\n",
       "      <td>bdbb67054b647860f48ab2406e31bb26</td>\n",
       "      <td>57893</td>\n",
       "      <td>this manga is not that different from the orig...</td>\n",
       "      <td>2013-08-01 17:41:52+00:00</td>\n",
       "      <td>0</td>\n",
       "      <td>0</td>\n",
       "      <td>False</td>\n",
       "    </tr>\n",
       "    <tr>\n",
       "      <th>70fbb50d5cfe0df3297361b6dd8d6849</th>\n",
       "      <td>1e9698f39e8a69db0f93ffc7133c3fb6</td>\n",
       "      <td>23846013</td>\n",
       "      <td>4 stars! \\n * \\n once upon a time, a girl had ...</td>\n",
       "      <td>2016-02-07 20:15:11+00:00</td>\n",
       "      <td>0</td>\n",
       "      <td>0</td>\n",
       "      <td>False</td>\n",
       "    </tr>\n",
       "  </tbody>\n",
       "</table>\n",
       "</div>"
      ],
      "text/plain": [
       "                                                           user_id   book_id  \\\n",
       "review_id                                                                      \n",
       "b6c5ee623cf317c760057de74c5c33ed  147e931b6109d16af66b63a798ec8f7f  23666139   \n",
       "6f43683c17c88fd2946166b9fb366ff8  360b333e9c48ac442165a0f9b7728dd1  18285151   \n",
       "d62af9b6d6fc422f2443f76ac908ead9  c497ceb0273befafb3e44545fb6da098         2   \n",
       "a72b7fd5aec15426c749b58d55764ded  bdbb67054b647860f48ab2406e31bb26     57893   \n",
       "70fbb50d5cfe0df3297361b6dd8d6849  1e9698f39e8a69db0f93ffc7133c3fb6  23846013   \n",
       "\n",
       "                                                                        review_text  \\\n",
       "review_id                                                                             \n",
       "b6c5ee623cf317c760057de74c5c33ed  i found it slow going at first, and i admit i ...   \n",
       "6f43683c17c88fd2946166b9fb366ff8  anyone that says they're having a bad day shou...   \n",
       "d62af9b6d6fc422f2443f76ac908ead9  like. obviously 5/5. forgot how much i love th...   \n",
       "a72b7fd5aec15426c749b58d55764ded  this manga is not that different from the orig...   \n",
       "70fbb50d5cfe0df3297361b6dd8d6849  4 stars! \\n * \\n once upon a time, a girl had ...   \n",
       "\n",
       "                                                date_added  n_votes  \\\n",
       "review_id                                                             \n",
       "b6c5ee623cf317c760057de74c5c33ed 2015-05-21 15:28:19+00:00        9   \n",
       "6f43683c17c88fd2946166b9fb366ff8 2015-04-15 10:26:09+00:00        0   \n",
       "d62af9b6d6fc422f2443f76ac908ead9 2013-08-11 15:32:54+00:00        0   \n",
       "a72b7fd5aec15426c749b58d55764ded 2013-08-01 17:41:52+00:00        0   \n",
       "70fbb50d5cfe0df3297361b6dd8d6849 2016-02-07 20:15:11+00:00        0   \n",
       "\n",
       "                                  n_comments  spoil  \n",
       "review_id                                            \n",
       "b6c5ee623cf317c760057de74c5c33ed           3  False  \n",
       "6f43683c17c88fd2946166b9fb366ff8           0  False  \n",
       "d62af9b6d6fc422f2443f76ac908ead9           0  False  \n",
       "a72b7fd5aec15426c749b58d55764ded           0  False  \n",
       "70fbb50d5cfe0df3297361b6dd8d6849           0  False  "
      ]
     },
     "execution_count": 31,
     "metadata": {},
     "output_type": "execute_result"
    }
   ],
   "source": [
    "clean_books = pd.read_csv('data/cleaned_concated_books.csv', index_col=False)\n",
    "clean_books.set_index('review_id', inplace=True)\n",
    "\n",
    "datetime_format = '%a %b %d %H:%M:%S %z %Y'\n",
    "clean_books['date_added'] = pd.to_datetime(clean_books['date_added'], format=datetime_format, utc=True)\n",
    "\n",
    "clean_books.sample(5)"
   ]
  },
  {
   "cell_type": "code",
   "execution_count": null,
   "metadata": {},
   "outputs": [
    {
     "data": {
      "text/plain": [
       "(1361779, 7)"
      ]
     },
     "execution_count": 32,
     "metadata": {},
     "output_type": "execute_result"
    }
   ],
   "source": [
    "clean_books.shape"
   ]
  },
  {
   "cell_type": "code",
   "execution_count": null,
   "metadata": {},
   "outputs": [
    {
     "data": {
      "text/html": [
       "<div>\n",
       "<style scoped>\n",
       "    .dataframe tbody tr th:only-of-type {\n",
       "        vertical-align: middle;\n",
       "    }\n",
       "\n",
       "    .dataframe tbody tr th {\n",
       "        vertical-align: top;\n",
       "    }\n",
       "\n",
       "    .dataframe thead th {\n",
       "        text-align: right;\n",
       "    }\n",
       "</style>\n",
       "<table border=\"1\" class=\"dataframe\">\n",
       "  <thead>\n",
       "    <tr style=\"text-align: right;\">\n",
       "      <th></th>\n",
       "      <th>book_id</th>\n",
       "      <th>n_votes</th>\n",
       "      <th>n_comments</th>\n",
       "    </tr>\n",
       "  </thead>\n",
       "  <tbody>\n",
       "    <tr>\n",
       "      <th>count</th>\n",
       "      <td>1.361779e+06</td>\n",
       "      <td>1.361779e+06</td>\n",
       "      <td>1.361779e+06</td>\n",
       "    </tr>\n",
       "    <tr>\n",
       "      <th>mean</th>\n",
       "      <td>1.335799e+07</td>\n",
       "      <td>3.120326e+00</td>\n",
       "      <td>9.494007e-01</td>\n",
       "    </tr>\n",
       "    <tr>\n",
       "      <th>std</th>\n",
       "      <td>9.260324e+06</td>\n",
       "      <td>1.709191e+01</td>\n",
       "      <td>5.420550e+00</td>\n",
       "    </tr>\n",
       "    <tr>\n",
       "      <th>min</th>\n",
       "      <td>1.000000e+00</td>\n",
       "      <td>0.000000e+00</td>\n",
       "      <td>0.000000e+00</td>\n",
       "    </tr>\n",
       "    <tr>\n",
       "      <th>25%</th>\n",
       "      <td>6.393834e+06</td>\n",
       "      <td>0.000000e+00</td>\n",
       "      <td>0.000000e+00</td>\n",
       "    </tr>\n",
       "    <tr>\n",
       "      <th>50%</th>\n",
       "      <td>1.336157e+07</td>\n",
       "      <td>0.000000e+00</td>\n",
       "      <td>0.000000e+00</td>\n",
       "    </tr>\n",
       "    <tr>\n",
       "      <th>75%</th>\n",
       "      <td>2.029968e+07</td>\n",
       "      <td>2.000000e+00</td>\n",
       "      <td>0.000000e+00</td>\n",
       "    </tr>\n",
       "    <tr>\n",
       "      <th>max</th>\n",
       "      <td>3.632868e+07</td>\n",
       "      <td>3.222000e+03</td>\n",
       "      <td>1.335000e+03</td>\n",
       "    </tr>\n",
       "  </tbody>\n",
       "</table>\n",
       "</div>"
      ],
      "text/plain": [
       "            book_id       n_votes    n_comments\n",
       "count  1.361779e+06  1.361779e+06  1.361779e+06\n",
       "mean   1.335799e+07  3.120326e+00  9.494007e-01\n",
       "std    9.260324e+06  1.709191e+01  5.420550e+00\n",
       "min    1.000000e+00  0.000000e+00  0.000000e+00\n",
       "25%    6.393834e+06  0.000000e+00  0.000000e+00\n",
       "50%    1.336157e+07  0.000000e+00  0.000000e+00\n",
       "75%    2.029968e+07  2.000000e+00  0.000000e+00\n",
       "max    3.632868e+07  3.222000e+03  1.335000e+03"
      ]
     },
     "execution_count": 33,
     "metadata": {},
     "output_type": "execute_result"
    }
   ],
   "source": [
    "clean_books.describe()"
   ]
  },
  {
   "cell_type": "code",
   "execution_count": null,
   "metadata": {},
   "outputs": [
    {
     "data": {
      "text/plain": [
       "str"
      ]
     },
     "execution_count": 34,
     "metadata": {},
     "output_type": "execute_result"
    }
   ],
   "source": [
    "type(books['date_added'][0])"
   ]
  },
  {
   "cell_type": "code",
   "execution_count": null,
   "metadata": {},
   "outputs": [
    {
     "data": {
      "text/plain": [
       "<AxesSubplot:title={'center':'10 Date with most reviews'}, xlabel='Dates', ylabel='Count'>"
      ]
     },
     "execution_count": 35,
     "metadata": {},
     "output_type": "execute_result"
    },
    {
     "data": {
      "image/png": "[encoded data removed]",
      "text/plain": [
       "<Figure size 720x576 with 1 Axes>"
      ]
     },
     "metadata": {
      "needs_background": "light"
     },
     "output_type": "display_data"
    }
   ],
   "source": [
    "books_dates_added = clean_books['date_added'].dt.date\n",
    "books_dates_added.value_counts()[:10].plot(kind='bar', \n",
    "                                            figsize=(10, 8),\n",
    "                                            title='10 Date with most reviews',\n",
    "                                            xlabel='Dates',\n",
    "                                            ylabel='Count')"
   ]
  },
  {
   "cell_type": "code",
   "execution_count": null,
   "metadata": {},
   "outputs": [
    {
     "ename": "AttributeError",
     "evalue": "Can only use .dt accessor with datetimelike values",
     "output_type": "error",
     "traceback": [
      "\u001b[1;31m---------------------------------------------------------------------------\u001b[0m",
      "\u001b[1;31mAttributeError\u001b[0m                            Traceback (most recent call last)",
      "\u001b[1;32me:\\Work\\Projects\\GoodReads_Rate_Prediction\\main.ipynb Cell 43\u001b[0m in \u001b[0;36m<cell line: 5>\u001b[1;34m()\u001b[0m\n\u001b[0;32m      <a href='vscode-notebook-cell:/e%3A/Work/Projects/GoodReads_Rate_Prediction/main.ipynb#X56sZmlsZQ%3D%3D?line=2'>3</a>\u001b[0m plt\u001b[39m.\u001b[39mxlabel(\u001b[39m\"\u001b[39m\u001b[39mDay of week\u001b[39m\u001b[39m\"\u001b[39m)\n\u001b[0;32m      <a href='vscode-notebook-cell:/e%3A/Work/Projects/GoodReads_Rate_Prediction/main.ipynb#X56sZmlsZQ%3D%3D?line=3'>4</a>\u001b[0m plt\u001b[39m.\u001b[39mylabel(\u001b[39m\"\u001b[39m\u001b[39mCount\u001b[39m\u001b[39m\"\u001b[39m)\n\u001b[1;32m----> <a href='vscode-notebook-cell:/e%3A/Work/Projects/GoodReads_Rate_Prediction/main.ipynb#X56sZmlsZQ%3D%3D?line=4'>5</a>\u001b[0m sns\u001b[39m.\u001b[39mhistplot(books[\u001b[39m'\u001b[39;49m\u001b[39mdate_added\u001b[39;49m\u001b[39m'\u001b[39;49m]\u001b[39m.\u001b[39;49mdt\u001b[39m.\u001b[39mday_name())\n",
      "File \u001b[1;32mc:\\Users\\amoosi\\Anaconda3\\lib\\site-packages\\pandas\\core\\generic.py:5575\u001b[0m, in \u001b[0;36mNDFrame.__getattr__\u001b[1;34m(self, name)\u001b[0m\n\u001b[0;32m   5568\u001b[0m \u001b[39mif\u001b[39;00m (\n\u001b[0;32m   5569\u001b[0m     name \u001b[39mnot\u001b[39;00m \u001b[39min\u001b[39;00m \u001b[39mself\u001b[39m\u001b[39m.\u001b[39m_internal_names_set\n\u001b[0;32m   5570\u001b[0m     \u001b[39mand\u001b[39;00m name \u001b[39mnot\u001b[39;00m \u001b[39min\u001b[39;00m \u001b[39mself\u001b[39m\u001b[39m.\u001b[39m_metadata\n\u001b[0;32m   5571\u001b[0m     \u001b[39mand\u001b[39;00m name \u001b[39mnot\u001b[39;00m \u001b[39min\u001b[39;00m \u001b[39mself\u001b[39m\u001b[39m.\u001b[39m_accessors\n\u001b[0;32m   5572\u001b[0m     \u001b[39mand\u001b[39;00m \u001b[39mself\u001b[39m\u001b[39m.\u001b[39m_info_axis\u001b[39m.\u001b[39m_can_hold_identifiers_and_holds_name(name)\n\u001b[0;32m   5573\u001b[0m ):\n\u001b[0;32m   5574\u001b[0m     \u001b[39mreturn\u001b[39;00m \u001b[39mself\u001b[39m[name]\n\u001b[1;32m-> 5575\u001b[0m \u001b[39mreturn\u001b[39;00m \u001b[39mobject\u001b[39;49m\u001b[39m.\u001b[39;49m\u001b[39m__getattribute__\u001b[39;49m(\u001b[39mself\u001b[39;49m, name)\n",
      "File \u001b[1;32mc:\\Users\\amoosi\\Anaconda3\\lib\\site-packages\\pandas\\core\\accessor.py:182\u001b[0m, in \u001b[0;36mCachedAccessor.__get__\u001b[1;34m(self, obj, cls)\u001b[0m\n\u001b[0;32m    179\u001b[0m \u001b[39mif\u001b[39;00m obj \u001b[39mis\u001b[39;00m \u001b[39mNone\u001b[39;00m:\n\u001b[0;32m    180\u001b[0m     \u001b[39m# we're accessing the attribute of the class, i.e., Dataset.geo\u001b[39;00m\n\u001b[0;32m    181\u001b[0m     \u001b[39mreturn\u001b[39;00m \u001b[39mself\u001b[39m\u001b[39m.\u001b[39m_accessor\n\u001b[1;32m--> 182\u001b[0m accessor_obj \u001b[39m=\u001b[39m \u001b[39mself\u001b[39;49m\u001b[39m.\u001b[39;49m_accessor(obj)\n\u001b[0;32m    183\u001b[0m \u001b[39m# Replace the property with the accessor object. Inspired by:\u001b[39;00m\n\u001b[0;32m    184\u001b[0m \u001b[39m# https://www.pydanny.com/cached-property.html\u001b[39;00m\n\u001b[0;32m    185\u001b[0m \u001b[39m# We need to use object.__setattr__ because we overwrite __setattr__ on\u001b[39;00m\n\u001b[0;32m    186\u001b[0m \u001b[39m# NDFrame\u001b[39;00m\n\u001b[0;32m    187\u001b[0m \u001b[39mobject\u001b[39m\u001b[39m.\u001b[39m\u001b[39m__setattr__\u001b[39m(obj, \u001b[39mself\u001b[39m\u001b[39m.\u001b[39m_name, accessor_obj)\n",
      "File \u001b[1;32mc:\\Users\\amoosi\\Anaconda3\\lib\\site-packages\\pandas\\core\\indexes\\accessors.py:509\u001b[0m, in \u001b[0;36mCombinedDatetimelikeProperties.__new__\u001b[1;34m(cls, data)\u001b[0m\n\u001b[0;32m    506\u001b[0m \u001b[39melif\u001b[39;00m is_period_dtype(data\u001b[39m.\u001b[39mdtype):\n\u001b[0;32m    507\u001b[0m     \u001b[39mreturn\u001b[39;00m PeriodProperties(data, orig)\n\u001b[1;32m--> 509\u001b[0m \u001b[39mraise\u001b[39;00m \u001b[39mAttributeError\u001b[39;00m(\u001b[39m\"\u001b[39m\u001b[39mCan only use .dt accessor with datetimelike values\u001b[39m\u001b[39m\"\u001b[39m)\n",
      "\u001b[1;31mAttributeError\u001b[0m: Can only use .dt accessor with datetimelike values"
     ]
    },
    {
     "data": {
      "image/png": "[encoded data removed]",
      "text/plain": [
       "<Figure size 720x576 with 1 Axes>"
      ]
     },
     "metadata": {
      "needs_background": "light"
     },
     "output_type": "display_data"
    }
   ],
   "source": [
    "plt.figure(figsize=(10, 8))\n",
    "plt.title(\"Number of rating action in days of all weeks\")\n",
    "plt.xlabel(\"Day of week\")\n",
    "plt.ylabel(\"Count\")\n",
    "sns.histplot(books['date_added'].dt.day_name())"
   ]
  },
  {
   "cell_type": "code",
   "execution_count": null,
   "metadata": {},
   "outputs": [
    {
     "data": {
      "text/plain": [
       "<AxesSubplot:title={'center':'Number of rating action in months of all years'}, xlabel='Month of week', ylabel='Count'>"
      ]
     },
     "execution_count": 106,
     "metadata": {},
     "output_type": "execute_result"
    },
    {
     "data": {
      "image/png": "[encoded data removed]",
      "text/plain": [
       "<Figure size 936x576 with 1 Axes>"
      ]
     },
     "metadata": {
      "needs_background": "light"
     },
     "output_type": "display_data"
    }
   ],
   "source": [
    "plt.figure(figsize=(13, 8))\n",
    "plt.title(\"Number of rating action in months of all years\")\n",
    "plt.xlabel(\"Month of week\")\n",
    "plt.ylabel(\"Count\")\n",
    "sns.histplot(books['date_added'].dt.month_name())\n"
   ]
  },
  {
   "cell_type": "code",
   "execution_count": null,
   "metadata": {},
   "outputs": [
    {
     "data": {
      "text/plain": [
       "<AxesSubplot:title={'center':'10 books with the most reviews'}, xlabel='Book id', ylabel='Number of reviews'>"
      ]
     },
     "execution_count": 63,
     "metadata": {},
     "output_type": "execute_result"
    },
    {
     "data": {
      "image/png": "[encoded data removed]",
      "text/plain": [
       "<Figure size 720x576 with 1 Axes>"
      ]
     },
     "metadata": {
      "needs_background": "light"
     },
     "output_type": "display_data"
    }
   ],
   "source": [
    "books.groupby('book_id').count().sort_values(by='user_id', ascending=False)['user_id'][:10].plot(kind='bar', \n",
    "                                                                                                    figsize=(10, 8),\n",
    "                                                                                                    title='10 books with the most reviews',\n",
    "                                                                                                    xlabel='Book id',\n",
    "                                                                                                    ylabel='Number of reviews')"
   ]
  },
  {
   "cell_type": "code",
   "execution_count": null,
   "metadata": {},
   "outputs": [
    {
     "data": {
      "text/plain": [
       "<AxesSubplot:title={'center':'10 users with the most reviews'}, xlabel='User id', ylabel='Number of reviews'>"
      ]
     },
     "execution_count": 62,
     "metadata": {},
     "output_type": "execute_result"
    },
    {
     "data": {
      "image/png": "[encoded data removed]",
      "text/plain": [
       "<Figure size 720x576 with 1 Axes>"
      ]
     },
     "metadata": {
      "needs_background": "light"
     },
     "output_type": "display_data"
    }
   ],
   "source": [
    "books.groupby('user_id').count().sort_values(by='book_id', ascending=False)['book_id'][:10].plot(kind='bar',\n",
    "                                                                                                    figsize=(10, 8),\n",
    "                                                                                                    title='10 users with the most reviews',\n",
    "                                                                                                    xlabel='User id',\n",
    "                                                                                                    ylabel='Number of reviews')"
   ]
  },
  {
   "cell_type": "code",
   "execution_count": null,
   "metadata": {},
   "outputs": [
    {
     "data": {
      "text/plain": [
       "<AxesSubplot:title={'center':'Number of Spoilers Vs. NO Spoilers'}, xlabel='Tags', ylabel='Count'>"
      ]
     },
     "execution_count": 79,
     "metadata": {},
     "output_type": "execute_result"
    },
    {
     "data": {
      "image/png": "[encoded data removed]",
      "text/plain": [
       "<Figure size 720x576 with 1 Axes>"
      ]
     },
     "metadata": {
      "needs_background": "light"
     },
     "output_type": "display_data"
    }
   ],
   "source": [
    "books['spoil'].value_counts().plot(kind='bar', \n",
    "                                    figsize=(10, 8),\n",
    "                                    title='Number of Spoilers Vs. NO Spoilers',\n",
    "                                    xlabel='Tags',\n",
    "                                    ylabel='Count')"
   ]
  },
  {
   "cell_type": "code",
   "execution_count": null,
   "metadata": {},
   "outputs": [
    {
     "data": {
      "text/plain": [
       "review_id\n",
       "dfdbb7b0eb5a7e4c26d59a937e2e5feb    5\n",
       "a5d2c3628987712d0e05c4f90798eb67    3\n",
       "2ede853b14dc4583f96cf5d120af636f    3\n",
       "ced5675e55cd9d38a524743f5c40996e    0\n",
       "332732725863131279a8e345b63ac33e    4\n",
       "Name: rating, dtype: int64"
      ]
     },
     "execution_count": 6,
     "metadata": {},
     "output_type": "execute_result"
    }
   ],
   "source": [
    "books_rates = goodreads_train['rating']\n",
    "books_rates.head()"
   ]
  },
  {
   "cell_type": "code",
   "execution_count": null,
   "metadata": {},
   "outputs": [
    {
     "data": {
      "text/html": [
       "<div>\n",
       "<style scoped>\n",
       "    .dataframe tbody tr th:only-of-type {\n",
       "        vertical-align: middle;\n",
       "    }\n",
       "\n",
       "    .dataframe tbody tr th {\n",
       "        vertical-align: top;\n",
       "    }\n",
       "\n",
       "    .dataframe thead th {\n",
       "        text-align: right;\n",
       "    }\n",
       "</style>\n",
       "<table border=\"1\" class=\"dataframe\">\n",
       "  <thead>\n",
       "    <tr style=\"text-align: right;\">\n",
       "      <th></th>\n",
       "      <th>user_id</th>\n",
       "      <th>book_id</th>\n",
       "      <th>review_text</th>\n",
       "      <th>date_added</th>\n",
       "      <th>n_votes</th>\n",
       "      <th>n_comments</th>\n",
       "      <th>spoil</th>\n",
       "      <th>rating</th>\n",
       "    </tr>\n",
       "    <tr>\n",
       "      <th>review_id</th>\n",
       "      <th></th>\n",
       "      <th></th>\n",
       "      <th></th>\n",
       "      <th></th>\n",
       "      <th></th>\n",
       "      <th></th>\n",
       "      <th></th>\n",
       "      <th></th>\n",
       "    </tr>\n",
       "  </thead>\n",
       "  <tbody>\n",
       "    <tr>\n",
       "      <th>dfdbb7b0eb5a7e4c26d59a937e2e5feb</th>\n",
       "      <td>8842281e1d1347389f2ab93d60773d4d</td>\n",
       "      <td>18245960</td>\n",
       "      <td>This is a special book. It started slow for ab...</td>\n",
       "      <td>2017-07-30 14:44:10+00:00</td>\n",
       "      <td>28</td>\n",
       "      <td>1</td>\n",
       "      <td>False</td>\n",
       "      <td>5</td>\n",
       "    </tr>\n",
       "    <tr>\n",
       "      <th>a5d2c3628987712d0e05c4f90798eb67</th>\n",
       "      <td>8842281e1d1347389f2ab93d60773d4d</td>\n",
       "      <td>16981</td>\n",
       "      <td>Recommended by Don Katz. Avail for free in Dec...</td>\n",
       "      <td>2016-12-05 18:46:44+00:00</td>\n",
       "      <td>1</td>\n",
       "      <td>0</td>\n",
       "      <td>False</td>\n",
       "      <td>3</td>\n",
       "    </tr>\n",
       "    <tr>\n",
       "      <th>2ede853b14dc4583f96cf5d120af636f</th>\n",
       "      <td>8842281e1d1347389f2ab93d60773d4d</td>\n",
       "      <td>28684704</td>\n",
       "      <td>A fun, fast paced science fiction thriller. I ...</td>\n",
       "      <td>2016-11-15 19:29:22+00:00</td>\n",
       "      <td>22</td>\n",
       "      <td>0</td>\n",
       "      <td>False</td>\n",
       "      <td>3</td>\n",
       "    </tr>\n",
       "    <tr>\n",
       "      <th>ced5675e55cd9d38a524743f5c40996e</th>\n",
       "      <td>8842281e1d1347389f2ab93d60773d4d</td>\n",
       "      <td>27161156</td>\n",
       "      <td>Recommended reading to understand what is goin...</td>\n",
       "      <td>2016-11-10 01:37:04+00:00</td>\n",
       "      <td>5</td>\n",
       "      <td>1</td>\n",
       "      <td>False</td>\n",
       "      <td>0</td>\n",
       "    </tr>\n",
       "    <tr>\n",
       "      <th>332732725863131279a8e345b63ac33e</th>\n",
       "      <td>8842281e1d1347389f2ab93d60773d4d</td>\n",
       "      <td>25884323</td>\n",
       "      <td>I really enjoyed this book, and there is a lot...</td>\n",
       "      <td>2016-04-25 16:31:23+00:00</td>\n",
       "      <td>9</td>\n",
       "      <td>1</td>\n",
       "      <td>False</td>\n",
       "      <td>4</td>\n",
       "    </tr>\n",
       "    <tr>\n",
       "      <th>...</th>\n",
       "      <td>...</td>\n",
       "      <td>...</td>\n",
       "      <td>...</td>\n",
       "      <td>...</td>\n",
       "      <td>...</td>\n",
       "      <td>...</td>\n",
       "      <td>...</td>\n",
       "      <td>...</td>\n",
       "    </tr>\n",
       "    <tr>\n",
       "      <th>7c34c15ad8cb28a4afca32946e2016ea</th>\n",
       "      <td>b9450d1c1f97f891c392b1105959b56e</td>\n",
       "      <td>11832081</td>\n",
       "      <td>3.5 stars. \\n Jenna is a popular YA author and...</td>\n",
       "      <td>2012-11-17 06:10:17+00:00</td>\n",
       "      <td>0</td>\n",
       "      <td>0</td>\n",
       "      <td>False</td>\n",
       "      <td>3</td>\n",
       "    </tr>\n",
       "    <tr>\n",
       "      <th>e979c735276431915d089cfaf446d64f</th>\n",
       "      <td>b9450d1c1f97f891c392b1105959b56e</td>\n",
       "      <td>16095092</td>\n",
       "      <td>This was a quick read for me. I have read a lo...</td>\n",
       "      <td>2012-11-17 06:09:49+00:00</td>\n",
       "      <td>1</td>\n",
       "      <td>1</td>\n",
       "      <td>False</td>\n",
       "      <td>3</td>\n",
       "    </tr>\n",
       "    <tr>\n",
       "      <th>feb9fe6439f9fbba8a1cce36020ad977</th>\n",
       "      <td>b9450d1c1f97f891c392b1105959b56e</td>\n",
       "      <td>8430896</td>\n",
       "      <td>** spoiler alert ** \\n 3.5 stars. \\n This book...</td>\n",
       "      <td>2012-11-13 13:38:24+00:00</td>\n",
       "      <td>1</td>\n",
       "      <td>0</td>\n",
       "      <td>True</td>\n",
       "      <td>4</td>\n",
       "    </tr>\n",
       "    <tr>\n",
       "      <th>741e29369f70531bfffbd02add86f228</th>\n",
       "      <td>b9450d1c1f97f891c392b1105959b56e</td>\n",
       "      <td>12275680</td>\n",
       "      <td>** spoiler alert ** \\n Another fun read from M...</td>\n",
       "      <td>2012-11-12 13:42:30+00:00</td>\n",
       "      <td>0</td>\n",
       "      <td>0</td>\n",
       "      <td>True</td>\n",
       "      <td>4</td>\n",
       "    </tr>\n",
       "    <tr>\n",
       "      <th>d55f3a967230940e75a314700caec9a5</th>\n",
       "      <td>b9450d1c1f97f891c392b1105959b56e</td>\n",
       "      <td>17005</td>\n",
       "      <td>** spoiler alert ** \\n 3.5 stars \\n I liked it...</td>\n",
       "      <td>2012-11-11 08:05:43+00:00</td>\n",
       "      <td>0</td>\n",
       "      <td>0</td>\n",
       "      <td>True</td>\n",
       "      <td>3</td>\n",
       "    </tr>\n",
       "  </tbody>\n",
       "</table>\n",
       "<p>890189 rows × 8 columns</p>\n",
       "</div>"
      ],
      "text/plain": [
       "                                                           user_id   book_id  \\\n",
       "review_id                                                                      \n",
       "dfdbb7b0eb5a7e4c26d59a937e2e5feb  8842281e1d1347389f2ab93d60773d4d  18245960   \n",
       "a5d2c3628987712d0e05c4f90798eb67  8842281e1d1347389f2ab93d60773d4d     16981   \n",
       "2ede853b14dc4583f96cf5d120af636f  8842281e1d1347389f2ab93d60773d4d  28684704   \n",
       "ced5675e55cd9d38a524743f5c40996e  8842281e1d1347389f2ab93d60773d4d  27161156   \n",
       "332732725863131279a8e345b63ac33e  8842281e1d1347389f2ab93d60773d4d  25884323   \n",
       "...                                                            ...       ...   \n",
       "7c34c15ad8cb28a4afca32946e2016ea  b9450d1c1f97f891c392b1105959b56e  11832081   \n",
       "e979c735276431915d089cfaf446d64f  b9450d1c1f97f891c392b1105959b56e  16095092   \n",
       "feb9fe6439f9fbba8a1cce36020ad977  b9450d1c1f97f891c392b1105959b56e   8430896   \n",
       "741e29369f70531bfffbd02add86f228  b9450d1c1f97f891c392b1105959b56e  12275680   \n",
       "d55f3a967230940e75a314700caec9a5  b9450d1c1f97f891c392b1105959b56e     17005   \n",
       "\n",
       "                                                                        review_text  \\\n",
       "review_id                                                                             \n",
       "dfdbb7b0eb5a7e4c26d59a937e2e5feb  This is a special book. It started slow for ab...   \n",
       "a5d2c3628987712d0e05c4f90798eb67  Recommended by Don Katz. Avail for free in Dec...   \n",
       "2ede853b14dc4583f96cf5d120af636f  A fun, fast paced science fiction thriller. I ...   \n",
       "ced5675e55cd9d38a524743f5c40996e  Recommended reading to understand what is goin...   \n",
       "332732725863131279a8e345b63ac33e  I really enjoyed this book, and there is a lot...   \n",
       "...                                                                             ...   \n",
       "7c34c15ad8cb28a4afca32946e2016ea  3.5 stars. \\n Jenna is a popular YA author and...   \n",
       "e979c735276431915d089cfaf446d64f  This was a quick read for me. I have read a lo...   \n",
       "feb9fe6439f9fbba8a1cce36020ad977  ** spoiler alert ** \\n 3.5 stars. \\n This book...   \n",
       "741e29369f70531bfffbd02add86f228  ** spoiler alert ** \\n Another fun read from M...   \n",
       "d55f3a967230940e75a314700caec9a5  ** spoiler alert ** \\n 3.5 stars \\n I liked it...   \n",
       "\n",
       "                                                 date_added  n_votes  \\\n",
       "review_id                                                              \n",
       "dfdbb7b0eb5a7e4c26d59a937e2e5feb  2017-07-30 14:44:10+00:00       28   \n",
       "a5d2c3628987712d0e05c4f90798eb67  2016-12-05 18:46:44+00:00        1   \n",
       "2ede853b14dc4583f96cf5d120af636f  2016-11-15 19:29:22+00:00       22   \n",
       "ced5675e55cd9d38a524743f5c40996e  2016-11-10 01:37:04+00:00        5   \n",
       "332732725863131279a8e345b63ac33e  2016-04-25 16:31:23+00:00        9   \n",
       "...                                                     ...      ...   \n",
       "7c34c15ad8cb28a4afca32946e2016ea  2012-11-17 06:10:17+00:00        0   \n",
       "e979c735276431915d089cfaf446d64f  2012-11-17 06:09:49+00:00        1   \n",
       "feb9fe6439f9fbba8a1cce36020ad977  2012-11-13 13:38:24+00:00        1   \n",
       "741e29369f70531bfffbd02add86f228  2012-11-12 13:42:30+00:00        0   \n",
       "d55f3a967230940e75a314700caec9a5  2012-11-11 08:05:43+00:00        0   \n",
       "\n",
       "                                  n_comments  spoil  rating  \n",
       "review_id                                                    \n",
       "dfdbb7b0eb5a7e4c26d59a937e2e5feb           1  False       5  \n",
       "a5d2c3628987712d0e05c4f90798eb67           0  False       3  \n",
       "2ede853b14dc4583f96cf5d120af636f           0  False       3  \n",
       "ced5675e55cd9d38a524743f5c40996e           1  False       0  \n",
       "332732725863131279a8e345b63ac33e           1  False       4  \n",
       "...                                      ...    ...     ...  \n",
       "7c34c15ad8cb28a4afca32946e2016ea           0  False       3  \n",
       "e979c735276431915d089cfaf446d64f           1  False       3  \n",
       "feb9fe6439f9fbba8a1cce36020ad977           0   True       4  \n",
       "741e29369f70531bfffbd02add86f228           0   True       4  \n",
       "d55f3a967230940e75a314700caec9a5           0   True       3  \n",
       "\n",
       "[890189 rows x 8 columns]"
      ]
     },
     "execution_count": 77,
     "metadata": {},
     "output_type": "execute_result"
    }
   ],
   "source": [
    "cleaned_books = books.merge(books_rates, how='inner', on='review_id')\n",
    "cleaned_books"
   ]
  },
  {
   "cell_type": "code",
   "execution_count": null,
   "metadata": {},
   "outputs": [
    {
     "data": {
      "text/plain": [
       "<AxesSubplot:title={'center':'The Number of each rate'}, xlabel='Rate', ylabel='Count'>"
      ]
     },
     "execution_count": 86,
     "metadata": {},
     "output_type": "execute_result"
    },
    {
     "data": {
      "image/png": "[encoded data removed]",
      "text/plain": [
       "<Figure size 720x576 with 1 Axes>"
      ]
     },
     "metadata": {
      "needs_background": "light"
     },
     "output_type": "display_data"
    }
   ],
   "source": [
    "cleaned_books['rating'].value_counts().plot(kind='bar', \n",
    "                                        figsize=(10, 8),\n",
    "                                        title='The Number of each rate',\n",
    "                                        xlabel='Rate',\n",
    "                                        ylabel='Count')"
   ]
  },
  {
   "cell_type": "code",
   "execution_count": null,
   "metadata": {},
   "outputs": [
    {
     "name": "stderr",
     "output_type": "stream",
     "text": [
      "C:\\Users\\amoosi\\AppData\\Local\\Temp\\ipykernel_244\\3115209394.py:1: FutureWarning: ['user_id', 'review_text', 'date_added'] did not aggregate successfully. If any error is raised this will raise in a future version of pandas. Drop these columns/ops to avoid this warning.\n",
      "  rates_by_books = cleaned_books.groupby(by='book_id').agg([np.mean, np.std])['rating'].plot(kind='hist',\n"
     ]
    },
    {
     "data": {
      "image/png": "[encoded data removed]",
      "text/plain": [
       "<Figure size 720x576 with 1 Axes>"
      ]
     },
     "metadata": {
      "needs_background": "light"
     },
     "output_type": "display_data"
    }
   ],
   "source": [
    "rates_by_books = cleaned_books.groupby(by='book_id').agg([np.mean, np.std])['rating'].plot(kind='hist', \n",
    "                                                                                        figsize=(10, 8),\n",
    "                                                                                        title='The Mean and STD of rateing per book',\n",
    "                                                                                        xlabel='Value',\n",
    "                                                                                        bins=100, \n",
    "                                                                                        legend=True)"
   ]
  },
  {
   "cell_type": "code",
   "execution_count": null,
   "metadata": {},
   "outputs": [],
   "source": []
  },
  {
   "cell_type": "code",
   "execution_count": null,
   "metadata": {},
   "outputs": [],
   "source": []
  },
  {
   "cell_type": "markdown",
   "metadata": {},
   "source": [
    "## Machine learning models"
   ]
  },
  {
   "cell_type": "code",
   "execution_count": null,
   "metadata": {},
   "outputs": [],
   "source": [
    "from sklearn.linear_model import LogisticRegression\n",
    "\n",
    "from sklearn.feature_extraction.text import TfidfVectorizer\n"
   ]
  },
  {
   "cell_type": "code",
   "execution_count": null,
   "metadata": {},
   "outputs": [],
   "source": [
    "tfidf_vectorizer = TfidfVectorizer(use_idf=True)\n",
    "X_train_vectors_tfidf = tfidf_vectorizer.fit_transform(X_train) \n",
    "X_test_vectors_tfidf = tfidf_vectorizer.transform(X_test)\n",
    "\n",
    "lr_tfidf=LogisticRegression(solver = 'liblinear', C=10, penalty = 'l2')\n",
    "lr_tfidf.fit(X_train_vectors_tfidf, y_train)  \n",
    "#Predict y value for test dataset\n",
    "y_predict = lr_tfidf.predict(X_test_vectors_tfidf)\n",
    "y_prob = lr_tfidf.predict_proba(X_test_vectors_tfidf)[:,1]\n",
    "print(classification_report(y_test,y_predict))\n",
    "print('Confusion Matrix:',confusion_matrix(y_test, y_predict))\n",
    " \n",
    "fpr, tpr, thresholds = roc_curve(y_test, y_prob)\n",
    "roc_auc = auc(fpr, tpr)\n",
    "print('AUC:', roc_auc)"
   ]
  },
  {
   "cell_type": "markdown",
   "metadata": {},
   "source": [
    "## Pytorch model"
   ]
  },
  {
   "cell_type": "code",
   "execution_count": null,
   "metadata": {},
   "outputs": [],
   "source": [
    "from pytorch_lightning.loggers import TensorBoardLogger\n",
    "\n",
    "logger = TensorBoardLogger('tb_logs', name='my_model')"
   ]
  },
  {
   "cell_type": "code",
   "execution_count": null,
   "metadata": {},
   "outputs": [],
   "source": [
    "tensorboard --logdir tb_logs/"
   ]
  }
 ],
 "metadata": {
  "kernelspec": {
   "display_name": "Python 3.9.12 ('base')",
   "language": "python",
   "name": "python3"
  },
  "language_info": {
   "codemirror_mode": {
    "name": "ipython",
    "version": 3
   },
   "file_extension": ".py",
   "mimetype": "text/x-python",
   "name": "python",
   "nbconvert_exporter": "python",
   "pygments_lexer": "ipython3",
   "version": "3.9.12"
  },
  "orig_nbformat": 4,
  "vscode": {
   "interpreter": {
    "hash": "341e0318612e13d2caac249865d6880347062171b89016abd70f7ef667022a97"
   }
  }
 },
 "nbformat": 4,
 "nbformat_minor": 2
}
