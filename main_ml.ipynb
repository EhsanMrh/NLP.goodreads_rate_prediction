{
 "cells": [
  {
   "cell_type": "code",
   "execution_count": 1,
   "id": "6517eb33",
   "metadata": {
    "execution": {
     "iopub.execute_input": "2022-09-20T08:19:33.831003Z",
     "iopub.status.busy": "2022-09-20T08:19:33.829831Z",
     "iopub.status.idle": "2022-09-20T08:19:33.848296Z",
     "shell.execute_reply": "2022-09-20T08:19:33.847399Z"
    },
    "papermill": {
     "duration": 0.0381,
     "end_time": "2022-09-20T08:19:33.850437",
     "exception": false,
     "start_time": "2022-09-20T08:19:33.812337",
     "status": "completed"
    },
    "tags": []
   },
   "outputs": [
    {
     "name": "stdout",
     "output_type": "stream",
     "text": [
      "/kaggle/input/mini-clean-goodreads-train/mini_clean_train_goodreads.csv\n",
      "/kaggle/input/goodreads-books-reviews-290312/goodreads_test.csv\n",
      "/kaggle/input/goodreads-books-reviews-290312/goodreads_sample_submission.csv\n",
      "/kaggle/input/goodreads-books-reviews-290312/goodreads_train.csv\n"
     ]
    }
   ],
   "source": [
    "# This Python 3 environment comes with many helpful analytics libraries installed\n",
    "# It is defined by the kaggle/python Docker image: https://github.com/kaggle/docker-python\n",
    "# For example, here's several helpful packages to load\n",
    "\n",
    "import numpy as np # linear algebra\n",
    "import pandas as pd # data processing, CSV file I/O (e.g. pd.read_csv)\n",
    "\n",
    "# Input data files are available in the read-only \"../input/\" directory\n",
    "# For example, running this (by clicking run or pressing Shift+Enter) will list all files under the input directory\n",
    "\n",
    "import os\n",
    "for dirname, _, filenames in os.walk('/kaggle/input'):\n",
    "    for filename in filenames:\n",
    "        print(os.path.join(dirname, filename))\n",
    "\n",
    "# You can write up to 20GB to the current directory (/kaggle/working/) that gets preserved as output when you create a version using \"Save & Run All\" \n",
    "# You can also write temporary files to /kaggle/temp/, but they won't be saved outside of the current session"
   ]
  },
  {
   "cell_type": "markdown",
   "id": "5b43ab5e",
   "metadata": {
    "papermill": {
     "duration": 0.048389,
     "end_time": "2022-09-20T08:21:56.511379",
     "exception": false,
     "start_time": "2022-09-20T08:21:56.462990",
     "status": "completed"
    },
    "tags": []
   },
   "source": [
    "# Preprocessing"
   ]
  },
  {
   "cell_type": "markdown",
   "id": "2186ac0a",
   "metadata": {
    "papermill": {
     "duration": 0.051424,
     "end_time": "2022-09-20T08:21:56.615593",
     "exception": false,
     "start_time": "2022-09-20T08:21:56.564169",
     "status": "completed"
    },
    "tags": []
   },
   "source": [
    "### Import libraries"
   ]
  },
  {
   "cell_type": "code",
   "execution_count": 3,
   "id": "6d825cdd",
   "metadata": {
    "execution": {
     "iopub.execute_input": "2022-09-20T08:21:56.718660Z",
     "iopub.status.busy": "2022-09-20T08:21:56.718211Z",
     "iopub.status.idle": "2022-09-20T08:21:57.309777Z",
     "shell.execute_reply": "2022-09-20T08:21:57.308738Z"
    },
    "papermill": {
     "duration": 0.64525,
     "end_time": "2022-09-20T08:21:57.312177",
     "exception": false,
     "start_time": "2022-09-20T08:21:56.666927",
     "status": "completed"
    },
    "tags": []
   },
   "outputs": [],
   "source": [
    "import pandas as pd\n",
    "import numpy as np\n",
    "import matplotlib.pyplot as plt\n",
    "import seaborn as sns\n",
    "from datetime import datetime\n",
    "from tqdm import tqdm\n",
    "tqdm.pandas()\n",
    "\n",
    "import warnings\n",
    "warnings.filterwarnings(\"ignore\")"
   ]
  },
  {
   "cell_type": "markdown",
   "id": "e43db3cd",
   "metadata": {
    "papermill": {
     "duration": 0.050561,
     "end_time": "2022-09-20T08:21:57.413723",
     "exception": false,
     "start_time": "2022-09-20T08:21:57.363162",
     "status": "completed"
    },
    "tags": []
   },
   "source": [
    "### Importing and analyzing the datasets\n"
   ]
  },
  {
   "cell_type": "code",
   "execution_count": 4,
   "id": "49670308",
   "metadata": {
    "execution": {
     "iopub.execute_input": "2022-09-20T08:21:57.514902Z",
     "iopub.status.busy": "2022-09-20T08:21:57.514539Z",
     "iopub.status.idle": "2022-09-20T08:22:39.000203Z",
     "shell.execute_reply": "2022-09-20T08:22:38.999215Z"
    },
    "papermill": {
     "duration": 41.540078,
     "end_time": "2022-09-20T08:22:39.002584",
     "exception": false,
     "start_time": "2022-09-20T08:21:57.462506",
     "status": "completed"
    },
    "tags": []
   },
   "outputs": [],
   "source": [
    "goodreads_train = pd.read_csv(\"../input/goodreads-books-reviews-290312/goodreads_train.csv\") \n",
    "goodreads_test = pd.read_csv(\"../input/goodreads-books-reviews-290312/goodreads_test.csv\")"
   ]
  },
  {
   "cell_type": "code",
   "execution_count": 5,
   "id": "2e522c64",
   "metadata": {
    "execution": {
     "iopub.execute_input": "2022-09-20T08:22:39.107001Z",
     "iopub.status.busy": "2022-09-20T08:22:39.105994Z",
     "iopub.status.idle": "2022-09-20T08:22:39.115688Z",
     "shell.execute_reply": "2022-09-20T08:22:39.114544Z"
    },
    "papermill": {
     "duration": 0.06438,
     "end_time": "2022-09-20T08:22:39.118890",
     "exception": false,
     "start_time": "2022-09-20T08:22:39.054510",
     "status": "completed"
    },
    "tags": []
   },
   "outputs": [
    {
     "data": {
      "text/plain": [
       "(478033, 10)"
      ]
     },
     "execution_count": 5,
     "metadata": {},
     "output_type": "execute_result"
    }
   ],
   "source": [
    "goodreads_test.shape"
   ]
  },
  {
   "cell_type": "code",
   "execution_count": 6,
   "id": "ba3c12d9",
   "metadata": {
    "execution": {
     "iopub.execute_input": "2022-09-20T08:22:39.221237Z",
     "iopub.status.busy": "2022-09-20T08:22:39.220917Z",
     "iopub.status.idle": "2022-09-20T08:22:39.227114Z",
     "shell.execute_reply": "2022-09-20T08:22:39.226123Z"
    },
    "papermill": {
     "duration": 0.060392,
     "end_time": "2022-09-20T08:22:39.230248",
     "exception": false,
     "start_time": "2022-09-20T08:22:39.169856",
     "status": "completed"
    },
    "tags": []
   },
   "outputs": [
    {
     "data": {
      "text/plain": [
       "(900000, 11)"
      ]
     },
     "execution_count": 6,
     "metadata": {},
     "output_type": "execute_result"
    }
   ],
   "source": [
    "goodreads_train.shape "
   ]
  },
  {
   "cell_type": "code",
   "execution_count": 7,
   "id": "50ccc3bf",
   "metadata": {
    "execution": {
     "iopub.execute_input": "2022-09-20T08:22:39.332267Z",
     "iopub.status.busy": "2022-09-20T08:22:39.331902Z",
     "iopub.status.idle": "2022-09-20T08:22:39.386316Z",
     "shell.execute_reply": "2022-09-20T08:22:39.385246Z"
    },
    "papermill": {
     "duration": 0.107184,
     "end_time": "2022-09-20T08:22:39.388938",
     "exception": false,
     "start_time": "2022-09-20T08:22:39.281754",
     "status": "completed"
    },
    "tags": []
   },
   "outputs": [
    {
     "data": {
      "text/html": [
       "<div>\n",
       "<style scoped>\n",
       "    .dataframe tbody tr th:only-of-type {\n",
       "        vertical-align: middle;\n",
       "    }\n",
       "\n",
       "    .dataframe tbody tr th {\n",
       "        vertical-align: top;\n",
       "    }\n",
       "\n",
       "    .dataframe thead th {\n",
       "        text-align: right;\n",
       "    }\n",
       "</style>\n",
       "<table border=\"1\" class=\"dataframe\">\n",
       "  <thead>\n",
       "    <tr style=\"text-align: right;\">\n",
       "      <th></th>\n",
       "      <th>user_id</th>\n",
       "      <th>book_id</th>\n",
       "      <th>review_id</th>\n",
       "      <th>rating</th>\n",
       "      <th>review_text</th>\n",
       "      <th>date_added</th>\n",
       "      <th>date_updated</th>\n",
       "      <th>read_at</th>\n",
       "      <th>started_at</th>\n",
       "      <th>n_votes</th>\n",
       "      <th>n_comments</th>\n",
       "    </tr>\n",
       "  </thead>\n",
       "  <tbody>\n",
       "    <tr>\n",
       "      <th>78324</th>\n",
       "      <td>07478bd1f190f558caa85c08a98f029a</td>\n",
       "      <td>21473305</td>\n",
       "      <td>4d898165d6fa8888273169434302cb9f</td>\n",
       "      <td>4</td>\n",
       "      <td>You can find my Italian review of this book he...</td>\n",
       "      <td>Sun Feb 21 02:36:26 -0800 2016</td>\n",
       "      <td>Wed Apr 20 05:48:13 -0700 2016</td>\n",
       "      <td>Thu Feb 18 00:00:00 -0800 2016</td>\n",
       "      <td>Thu Feb 18 00:00:00 -0800 2016</td>\n",
       "      <td>0</td>\n",
       "      <td>0</td>\n",
       "    </tr>\n",
       "    <tr>\n",
       "      <th>414565</th>\n",
       "      <td>88e4407451355899b43ed6f6c3014623</td>\n",
       "      <td>28253785</td>\n",
       "      <td>95093ac527f26aaa667155385caaba07</td>\n",
       "      <td>5</td>\n",
       "      <td>I was so excited to get the conclusion to Step...</td>\n",
       "      <td>Sun Aug 14 07:36:44 -0700 2016</td>\n",
       "      <td>Sun Aug 14 07:39:29 -0700 2016</td>\n",
       "      <td>NaN</td>\n",
       "      <td>NaN</td>\n",
       "      <td>1</td>\n",
       "      <td>0</td>\n",
       "    </tr>\n",
       "    <tr>\n",
       "      <th>755709</th>\n",
       "      <td>fd549ae187739852557f305ef4565169</td>\n",
       "      <td>30264</td>\n",
       "      <td>6d69b6fea3c51edf1acf5091c4b62b21</td>\n",
       "      <td>0</td>\n",
       "      <td>[Copied across from Library Thing; 22 Septembe...</td>\n",
       "      <td>Sat Sep 21 19:39:13 -0700 2013</td>\n",
       "      <td>Fri Jul 01 03:24:35 -0700 2016</td>\n",
       "      <td>Wed Feb 21 00:00:00 -0800 2007</td>\n",
       "      <td>Sun Feb 04 00:00:00 -0800 2007</td>\n",
       "      <td>0</td>\n",
       "      <td>0</td>\n",
       "    </tr>\n",
       "    <tr>\n",
       "      <th>77891</th>\n",
       "      <td>e8e9347ecc8a0557a7e2fd7b72452558</td>\n",
       "      <td>28676</td>\n",
       "      <td>c3e4b9ead480b927fcd265e56de1d13b</td>\n",
       "      <td>3</td>\n",
       "      <td>I can't really give the book a rating just for...</td>\n",
       "      <td>Mon Sep 22 10:57:43 -0700 2008</td>\n",
       "      <td>Mon Sep 22 10:59:03 -0700 2008</td>\n",
       "      <td>Sat Jan 01 00:00:00 -0800 2000</td>\n",
       "      <td>NaN</td>\n",
       "      <td>0</td>\n",
       "      <td>0</td>\n",
       "    </tr>\n",
       "    <tr>\n",
       "      <th>199582</th>\n",
       "      <td>26bdaa12ddfa7284bb265427a9947ae5</td>\n",
       "      <td>18879201</td>\n",
       "      <td>35777278b4b0415f34617fd2482bf3aa</td>\n",
       "      <td>5</td>\n",
       "      <td>Another short read but this one was very good ...</td>\n",
       "      <td>Tue Aug 19 05:39:35 -0700 2014</td>\n",
       "      <td>Tue Aug 26 05:54:27 -0700 2014</td>\n",
       "      <td>Mon Aug 25 00:00:00 -0700 2014</td>\n",
       "      <td>Mon Aug 25 00:00:00 -0700 2014</td>\n",
       "      <td>0</td>\n",
       "      <td>0</td>\n",
       "    </tr>\n",
       "  </tbody>\n",
       "</table>\n",
       "</div>"
      ],
      "text/plain": [
       "                                 user_id   book_id  \\\n",
       "78324   07478bd1f190f558caa85c08a98f029a  21473305   \n",
       "414565  88e4407451355899b43ed6f6c3014623  28253785   \n",
       "755709  fd549ae187739852557f305ef4565169     30264   \n",
       "77891   e8e9347ecc8a0557a7e2fd7b72452558     28676   \n",
       "199582  26bdaa12ddfa7284bb265427a9947ae5  18879201   \n",
       "\n",
       "                               review_id  rating  \\\n",
       "78324   4d898165d6fa8888273169434302cb9f       4   \n",
       "414565  95093ac527f26aaa667155385caaba07       5   \n",
       "755709  6d69b6fea3c51edf1acf5091c4b62b21       0   \n",
       "77891   c3e4b9ead480b927fcd265e56de1d13b       3   \n",
       "199582  35777278b4b0415f34617fd2482bf3aa       5   \n",
       "\n",
       "                                              review_text  \\\n",
       "78324   You can find my Italian review of this book he...   \n",
       "414565  I was so excited to get the conclusion to Step...   \n",
       "755709  [Copied across from Library Thing; 22 Septembe...   \n",
       "77891   I can't really give the book a rating just for...   \n",
       "199582  Another short read but this one was very good ...   \n",
       "\n",
       "                            date_added                    date_updated  \\\n",
       "78324   Sun Feb 21 02:36:26 -0800 2016  Wed Apr 20 05:48:13 -0700 2016   \n",
       "414565  Sun Aug 14 07:36:44 -0700 2016  Sun Aug 14 07:39:29 -0700 2016   \n",
       "755709  Sat Sep 21 19:39:13 -0700 2013  Fri Jul 01 03:24:35 -0700 2016   \n",
       "77891   Mon Sep 22 10:57:43 -0700 2008  Mon Sep 22 10:59:03 -0700 2008   \n",
       "199582  Tue Aug 19 05:39:35 -0700 2014  Tue Aug 26 05:54:27 -0700 2014   \n",
       "\n",
       "                               read_at                      started_at  \\\n",
       "78324   Thu Feb 18 00:00:00 -0800 2016  Thu Feb 18 00:00:00 -0800 2016   \n",
       "414565                             NaN                             NaN   \n",
       "755709  Wed Feb 21 00:00:00 -0800 2007  Sun Feb 04 00:00:00 -0800 2007   \n",
       "77891   Sat Jan 01 00:00:00 -0800 2000                             NaN   \n",
       "199582  Mon Aug 25 00:00:00 -0700 2014  Mon Aug 25 00:00:00 -0700 2014   \n",
       "\n",
       "        n_votes  n_comments  \n",
       "78324         0           0  \n",
       "414565        1           0  \n",
       "755709        0           0  \n",
       "77891         0           0  \n",
       "199582        0           0  "
      ]
     },
     "execution_count": 7,
     "metadata": {},
     "output_type": "execute_result"
    }
   ],
   "source": [
    "goodreads_train.sample(5)"
   ]
  },
  {
   "cell_type": "code",
   "execution_count": 8,
   "id": "de586e10",
   "metadata": {
    "execution": {
     "iopub.execute_input": "2022-09-20T08:22:39.492529Z",
     "iopub.status.busy": "2022-09-20T08:22:39.492124Z",
     "iopub.status.idle": "2022-09-20T08:22:39.505700Z",
     "shell.execute_reply": "2022-09-20T08:22:39.504735Z"
    },
    "papermill": {
     "duration": 0.066633,
     "end_time": "2022-09-20T08:22:39.507733",
     "exception": false,
     "start_time": "2022-09-20T08:22:39.441100",
     "status": "completed"
    },
    "tags": []
   },
   "outputs": [],
   "source": [
    "goodreads_train.set_index(\"review_id\", inplace=True)\n",
    "goodreads_test.set_index(\"review_id\", inplace=True)"
   ]
  },
  {
   "cell_type": "markdown",
   "id": "76c79f31",
   "metadata": {
    "papermill": {
     "duration": 0.049358,
     "end_time": "2022-09-20T08:22:39.608993",
     "exception": false,
     "start_time": "2022-09-20T08:22:39.559635",
     "status": "completed"
    },
    "tags": []
   },
   "source": [
    "Concating the train and test sets to EDA"
   ]
  },
  {
   "cell_type": "code",
   "execution_count": 9,
   "id": "760b0f35",
   "metadata": {
    "execution": {
     "iopub.execute_input": "2022-09-20T08:22:39.712133Z",
     "iopub.status.busy": "2022-09-20T08:22:39.711779Z",
     "iopub.status.idle": "2022-09-20T08:22:40.447682Z",
     "shell.execute_reply": "2022-09-20T08:22:40.446552Z"
    },
    "papermill": {
     "duration": 0.790634,
     "end_time": "2022-09-20T08:22:40.450286",
     "exception": false,
     "start_time": "2022-09-20T08:22:39.659652",
     "status": "completed"
    },
    "tags": []
   },
   "outputs": [
    {
     "data": {
      "text/plain": [
       "(1378033, 9)"
      ]
     },
     "execution_count": 9,
     "metadata": {},
     "output_type": "execute_result"
    }
   ],
   "source": [
    "books = pd.concat([goodreads_train.drop('rating', axis=1), goodreads_test], axis=0)\n",
    "books_rates = goodreads_train['rating']\n",
    "\n",
    "books.shape"
   ]
  },
  {
   "cell_type": "code",
   "execution_count": 10,
   "id": "1c07d2bb",
   "metadata": {
    "execution": {
     "iopub.execute_input": "2022-09-20T08:22:40.555380Z",
     "iopub.status.busy": "2022-09-20T08:22:40.555030Z",
     "iopub.status.idle": "2022-09-20T08:22:41.057118Z",
     "shell.execute_reply": "2022-09-20T08:22:41.056007Z"
    },
    "papermill": {
     "duration": 0.558302,
     "end_time": "2022-09-20T08:22:41.059181",
     "exception": false,
     "start_time": "2022-09-20T08:22:40.500879",
     "status": "completed"
    },
    "tags": []
   },
   "outputs": [
    {
     "data": {
      "text/html": [
       "<div>\n",
       "<style scoped>\n",
       "    .dataframe tbody tr th:only-of-type {\n",
       "        vertical-align: middle;\n",
       "    }\n",
       "\n",
       "    .dataframe tbody tr th {\n",
       "        vertical-align: top;\n",
       "    }\n",
       "\n",
       "    .dataframe thead th {\n",
       "        text-align: right;\n",
       "    }\n",
       "</style>\n",
       "<table border=\"1\" class=\"dataframe\">\n",
       "  <thead>\n",
       "    <tr style=\"text-align: right;\">\n",
       "      <th></th>\n",
       "      <th>user_id</th>\n",
       "      <th>book_id</th>\n",
       "      <th>review_text</th>\n",
       "      <th>date_added</th>\n",
       "      <th>date_updated</th>\n",
       "      <th>read_at</th>\n",
       "      <th>started_at</th>\n",
       "      <th>n_votes</th>\n",
       "      <th>n_comments</th>\n",
       "    </tr>\n",
       "    <tr>\n",
       "      <th>review_id</th>\n",
       "      <th></th>\n",
       "      <th></th>\n",
       "      <th></th>\n",
       "      <th></th>\n",
       "      <th></th>\n",
       "      <th></th>\n",
       "      <th></th>\n",
       "      <th></th>\n",
       "      <th></th>\n",
       "    </tr>\n",
       "  </thead>\n",
       "  <tbody>\n",
       "    <tr>\n",
       "      <th>ceb0d290ef8010e5a13a287593a25d57</th>\n",
       "      <td>721c6eb1e85d5c73651135473ba8d399</td>\n",
       "      <td>11544421</td>\n",
       "      <td>May 2014 Review: Listened to this in Audio thi...</td>\n",
       "      <td>Fri Jan 18 11:28:14 -0800 2013</td>\n",
       "      <td>Fri Aug 07 09:25:43 -0700 2015</td>\n",
       "      <td>Wed Jul 01 00:00:00 -0700 2015</td>\n",
       "      <td>NaN</td>\n",
       "      <td>0</td>\n",
       "      <td>0</td>\n",
       "    </tr>\n",
       "    <tr>\n",
       "      <th>4dbce5102f7f8d0a76077c756483d5e8</th>\n",
       "      <td>8267e607ae97396b011fcf8d8dc2b645</td>\n",
       "      <td>24905116</td>\n",
       "      <td>A very nice conclusion to Ava and Malachi's st...</td>\n",
       "      <td>Thu Mar 19 16:57:40 -0700 2015</td>\n",
       "      <td>Tue Aug 08 17:37:22 -0700 2017</td>\n",
       "      <td>Wed May 27 00:00:00 -0700 2015</td>\n",
       "      <td>Thu May 21 00:00:00 -0700 2015</td>\n",
       "      <td>0</td>\n",
       "      <td>0</td>\n",
       "    </tr>\n",
       "    <tr>\n",
       "      <th>be71d67daf01e445405f6c4c68bfad8a</th>\n",
       "      <td>353474dfc88f6a3210451a818131b72c</td>\n",
       "      <td>16117804</td>\n",
       "      <td>I came to The Proposal straight from The Propo...</td>\n",
       "      <td>Sun Jun 16 18:09:27 -0700 2013</td>\n",
       "      <td>Mon Dec 30 21:59:44 -0800 2013</td>\n",
       "      <td>Sun Jun 16 00:00:00 -0700 2013</td>\n",
       "      <td>NaN</td>\n",
       "      <td>2</td>\n",
       "      <td>3</td>\n",
       "    </tr>\n",
       "    <tr>\n",
       "      <th>09aafd1d12dffe6ecb753f689ce5e313</th>\n",
       "      <td>45098b26765e1d5ce12515f2692c2616</td>\n",
       "      <td>13257637</td>\n",
       "      <td>Shana Abe is a very talented writer. This book...</td>\n",
       "      <td>Sun May 05 16:51:42 -0700 2013</td>\n",
       "      <td>Sun May 05 16:57:33 -0700 2013</td>\n",
       "      <td>Mon May 06 00:00:00 -0700 2013</td>\n",
       "      <td>NaN</td>\n",
       "      <td>0</td>\n",
       "      <td>0</td>\n",
       "    </tr>\n",
       "    <tr>\n",
       "      <th>7483621c427b8c6ccaa950213a2ad586</th>\n",
       "      <td>149e336726888ebcf2aa69214cf91538</td>\n",
       "      <td>11563110</td>\n",
       "      <td>A good follow-up to \"Unearthly\", which I thoug...</td>\n",
       "      <td>Wed Dec 26 19:31:53 -0800 2012</td>\n",
       "      <td>Tue Jan 08 09:27:02 -0800 2013</td>\n",
       "      <td>Sun Dec 30 00:00:00 -0800 2012</td>\n",
       "      <td>Wed Dec 26 00:00:00 -0800 2012</td>\n",
       "      <td>0</td>\n",
       "      <td>0</td>\n",
       "    </tr>\n",
       "  </tbody>\n",
       "</table>\n",
       "</div>"
      ],
      "text/plain": [
       "                                                           user_id   book_id  \\\n",
       "review_id                                                                      \n",
       "ceb0d290ef8010e5a13a287593a25d57  721c6eb1e85d5c73651135473ba8d399  11544421   \n",
       "4dbce5102f7f8d0a76077c756483d5e8  8267e607ae97396b011fcf8d8dc2b645  24905116   \n",
       "be71d67daf01e445405f6c4c68bfad8a  353474dfc88f6a3210451a818131b72c  16117804   \n",
       "09aafd1d12dffe6ecb753f689ce5e313  45098b26765e1d5ce12515f2692c2616  13257637   \n",
       "7483621c427b8c6ccaa950213a2ad586  149e336726888ebcf2aa69214cf91538  11563110   \n",
       "\n",
       "                                                                        review_text  \\\n",
       "review_id                                                                             \n",
       "ceb0d290ef8010e5a13a287593a25d57  May 2014 Review: Listened to this in Audio thi...   \n",
       "4dbce5102f7f8d0a76077c756483d5e8  A very nice conclusion to Ava and Malachi's st...   \n",
       "be71d67daf01e445405f6c4c68bfad8a  I came to The Proposal straight from The Propo...   \n",
       "09aafd1d12dffe6ecb753f689ce5e313  Shana Abe is a very talented writer. This book...   \n",
       "7483621c427b8c6ccaa950213a2ad586  A good follow-up to \"Unearthly\", which I thoug...   \n",
       "\n",
       "                                                      date_added  \\\n",
       "review_id                                                          \n",
       "ceb0d290ef8010e5a13a287593a25d57  Fri Jan 18 11:28:14 -0800 2013   \n",
       "4dbce5102f7f8d0a76077c756483d5e8  Thu Mar 19 16:57:40 -0700 2015   \n",
       "be71d67daf01e445405f6c4c68bfad8a  Sun Jun 16 18:09:27 -0700 2013   \n",
       "09aafd1d12dffe6ecb753f689ce5e313  Sun May 05 16:51:42 -0700 2013   \n",
       "7483621c427b8c6ccaa950213a2ad586  Wed Dec 26 19:31:53 -0800 2012   \n",
       "\n",
       "                                                    date_updated  \\\n",
       "review_id                                                          \n",
       "ceb0d290ef8010e5a13a287593a25d57  Fri Aug 07 09:25:43 -0700 2015   \n",
       "4dbce5102f7f8d0a76077c756483d5e8  Tue Aug 08 17:37:22 -0700 2017   \n",
       "be71d67daf01e445405f6c4c68bfad8a  Mon Dec 30 21:59:44 -0800 2013   \n",
       "09aafd1d12dffe6ecb753f689ce5e313  Sun May 05 16:57:33 -0700 2013   \n",
       "7483621c427b8c6ccaa950213a2ad586  Tue Jan 08 09:27:02 -0800 2013   \n",
       "\n",
       "                                                         read_at  \\\n",
       "review_id                                                          \n",
       "ceb0d290ef8010e5a13a287593a25d57  Wed Jul 01 00:00:00 -0700 2015   \n",
       "4dbce5102f7f8d0a76077c756483d5e8  Wed May 27 00:00:00 -0700 2015   \n",
       "be71d67daf01e445405f6c4c68bfad8a  Sun Jun 16 00:00:00 -0700 2013   \n",
       "09aafd1d12dffe6ecb753f689ce5e313  Mon May 06 00:00:00 -0700 2013   \n",
       "7483621c427b8c6ccaa950213a2ad586  Sun Dec 30 00:00:00 -0800 2012   \n",
       "\n",
       "                                                      started_at  n_votes  \\\n",
       "review_id                                                                   \n",
       "ceb0d290ef8010e5a13a287593a25d57                             NaN        0   \n",
       "4dbce5102f7f8d0a76077c756483d5e8  Thu May 21 00:00:00 -0700 2015        0   \n",
       "be71d67daf01e445405f6c4c68bfad8a                             NaN        2   \n",
       "09aafd1d12dffe6ecb753f689ce5e313                             NaN        0   \n",
       "7483621c427b8c6ccaa950213a2ad586  Wed Dec 26 00:00:00 -0800 2012        0   \n",
       "\n",
       "                                  n_comments  \n",
       "review_id                                     \n",
       "ceb0d290ef8010e5a13a287593a25d57           0  \n",
       "4dbce5102f7f8d0a76077c756483d5e8           0  \n",
       "be71d67daf01e445405f6c4c68bfad8a           3  \n",
       "09aafd1d12dffe6ecb753f689ce5e313           0  \n",
       "7483621c427b8c6ccaa950213a2ad586           0  "
      ]
     },
     "execution_count": 10,
     "metadata": {},
     "output_type": "execute_result"
    }
   ],
   "source": [
    "books.sample(5)"
   ]
  },
  {
   "cell_type": "code",
   "execution_count": 11,
   "id": "0cb8a303",
   "metadata": {
    "_kg_hide-input": true,
    "execution": {
     "iopub.execute_input": "2022-09-20T08:22:41.165671Z",
     "iopub.status.busy": "2022-09-20T08:22:41.163749Z",
     "iopub.status.idle": "2022-09-20T08:22:41.169864Z",
     "shell.execute_reply": "2022-09-20T08:22:41.168941Z"
    },
    "papermill": {
     "duration": 0.0612,
     "end_time": "2022-09-20T08:22:41.172260",
     "exception": false,
     "start_time": "2022-09-20T08:22:41.111060",
     "status": "completed"
    },
    "tags": []
   },
   "outputs": [],
   "source": [
    "# import tensorflow_data_validation as tfdv\n",
    "# books_stats = tfdv.generate_statistics_from_dataframe(books)\n"
   ]
  },
  {
   "cell_type": "code",
   "execution_count": 12,
   "id": "5caafc3b",
   "metadata": {
    "_kg_hide-input": true,
    "execution": {
     "iopub.execute_input": "2022-09-20T08:22:41.278706Z",
     "iopub.status.busy": "2022-09-20T08:22:41.277032Z",
     "iopub.status.idle": "2022-09-20T08:22:41.282111Z",
     "shell.execute_reply": "2022-09-20T08:22:41.281057Z"
    },
    "papermill": {
     "duration": 0.061712,
     "end_time": "2022-09-20T08:22:41.284489",
     "exception": false,
     "start_time": "2022-09-20T08:22:41.222777",
     "status": "completed"
    },
    "tags": []
   },
   "outputs": [],
   "source": [
    "# tfdv.visualize_statistics(books_stats)"
   ]
  },
  {
   "cell_type": "code",
   "execution_count": 13,
   "id": "8c37329e",
   "metadata": {
    "execution": {
     "iopub.execute_input": "2022-09-20T08:22:41.390390Z",
     "iopub.status.busy": "2022-09-20T08:22:41.390043Z",
     "iopub.status.idle": "2022-09-20T08:22:41.516940Z",
     "shell.execute_reply": "2022-09-20T08:22:41.515844Z"
    },
    "papermill": {
     "duration": 0.182586,
     "end_time": "2022-09-20T08:22:41.519520",
     "exception": false,
     "start_time": "2022-09-20T08:22:41.336934",
     "status": "completed"
    },
    "tags": []
   },
   "outputs": [],
   "source": [
    "# Droping some non-essential columns\n",
    "books.drop(columns=['date_updated', 'read_at', 'started_at'], axis=1, inplace=True)"
   ]
  },
  {
   "cell_type": "code",
   "execution_count": 14,
   "id": "4211a322",
   "metadata": {
    "execution": {
     "iopub.execute_input": "2022-09-20T08:22:41.626138Z",
     "iopub.status.busy": "2022-09-20T08:22:41.625789Z",
     "iopub.status.idle": "2022-09-20T08:22:41.833213Z",
     "shell.execute_reply": "2022-09-20T08:22:41.832229Z"
    },
    "papermill": {
     "duration": 0.261922,
     "end_time": "2022-09-20T08:22:41.835699",
     "exception": false,
     "start_time": "2022-09-20T08:22:41.573777",
     "status": "completed"
    },
    "tags": []
   },
   "outputs": [],
   "source": [
    "# Removing rows with negative n_votes or negative n_comments \n",
    "books = books[(books['n_votes'] >= 0) & (books['n_comments'] >= 0)]"
   ]
  },
  {
   "cell_type": "code",
   "execution_count": 15,
   "id": "9a887715",
   "metadata": {
    "execution": {
     "iopub.execute_input": "2022-09-20T08:22:42.003183Z",
     "iopub.status.busy": "2022-09-20T08:22:42.002363Z",
     "iopub.status.idle": "2022-09-20T08:22:46.574530Z",
     "shell.execute_reply": "2022-09-20T08:22:46.573456Z"
    },
    "papermill": {
     "duration": 4.687778,
     "end_time": "2022-09-20T08:22:46.576771",
     "exception": false,
     "start_time": "2022-09-20T08:22:41.888993",
     "status": "completed"
    },
    "tags": []
   },
   "outputs": [
    {
     "data": {
      "text/plain": [
       "0"
      ]
     },
     "execution_count": 15,
     "metadata": {},
     "output_type": "execute_result"
    }
   ],
   "source": [
    "# Checking duplications\n",
    "sum(books.duplicated())"
   ]
  },
  {
   "cell_type": "code",
   "execution_count": 16,
   "id": "6d7e4e22",
   "metadata": {
    "execution": {
     "iopub.execute_input": "2022-09-20T08:22:46.682716Z",
     "iopub.status.busy": "2022-09-20T08:22:46.681701Z",
     "iopub.status.idle": "2022-09-20T08:22:50.392618Z",
     "shell.execute_reply": "2022-09-20T08:22:50.391454Z"
    },
    "papermill": {
     "duration": 3.766192,
     "end_time": "2022-09-20T08:22:50.395028",
     "exception": false,
     "start_time": "2022-09-20T08:22:46.628836",
     "status": "completed"
    },
    "tags": []
   },
   "outputs": [
    {
     "data": {
      "text/plain": [
       "16130"
      ]
     },
     "execution_count": 16,
     "metadata": {},
     "output_type": "execute_result"
    }
   ],
   "source": [
    "sum(books.duplicated(subset=['review_text']))"
   ]
  },
  {
   "cell_type": "code",
   "execution_count": 17,
   "id": "fa2c7936",
   "metadata": {
    "execution": {
     "iopub.execute_input": "2022-09-20T08:22:50.501572Z",
     "iopub.status.busy": "2022-09-20T08:22:50.501190Z",
     "iopub.status.idle": "2022-09-20T08:22:54.405141Z",
     "shell.execute_reply": "2022-09-20T08:22:54.404005Z"
    },
    "papermill": {
     "duration": 3.959776,
     "end_time": "2022-09-20T08:22:54.407583",
     "exception": false,
     "start_time": "2022-09-20T08:22:50.447807",
     "status": "completed"
    },
    "tags": []
   },
   "outputs": [],
   "source": [
    "books.drop_duplicates(subset=['review_text'], inplace=True)"
   ]
  },
  {
   "cell_type": "code",
   "execution_count": 18,
   "id": "23ed49b3",
   "metadata": {
    "execution": {
     "iopub.execute_input": "2022-09-20T08:22:54.511589Z",
     "iopub.status.busy": "2022-09-20T08:22:54.511198Z",
     "iopub.status.idle": "2022-09-20T08:23:52.205497Z",
     "shell.execute_reply": "2022-09-20T08:23:52.204452Z"
    },
    "papermill": {
     "duration": 57.797981,
     "end_time": "2022-09-20T08:23:52.257795",
     "exception": false,
     "start_time": "2022-09-20T08:22:54.459814",
     "status": "completed"
    },
    "tags": []
   },
   "outputs": [
    {
     "data": {
      "text/plain": [
       "(1361800,)"
      ]
     },
     "execution_count": 18,
     "metadata": {},
     "output_type": "execute_result"
    }
   ],
   "source": [
    "# Finding unappropriate texts\n",
    "unapp_texts = books['review_text'].apply(lambda txt: np.mean(list(map(len, txt.split())))) > 25\n",
    "unapp_texts.shape"
   ]
  },
  {
   "cell_type": "code",
   "execution_count": 19,
   "id": "44ff6abd",
   "metadata": {
    "execution": {
     "iopub.execute_input": "2022-09-20T08:23:52.362000Z",
     "iopub.status.busy": "2022-09-20T08:23:52.361192Z",
     "iopub.status.idle": "2022-09-20T08:23:52.373951Z",
     "shell.execute_reply": "2022-09-20T08:23:52.372923Z"
    },
    "papermill": {
     "duration": 0.067663,
     "end_time": "2022-09-20T08:23:52.375962",
     "exception": false,
     "start_time": "2022-09-20T08:23:52.308299",
     "status": "completed"
    },
    "tags": []
   },
   "outputs": [
    {
     "data": {
      "text/html": [
       "<div>\n",
       "<style scoped>\n",
       "    .dataframe tbody tr th:only-of-type {\n",
       "        vertical-align: middle;\n",
       "    }\n",
       "\n",
       "    .dataframe tbody tr th {\n",
       "        vertical-align: top;\n",
       "    }\n",
       "\n",
       "    .dataframe thead th {\n",
       "        text-align: right;\n",
       "    }\n",
       "</style>\n",
       "<table border=\"1\" class=\"dataframe\">\n",
       "  <thead>\n",
       "    <tr style=\"text-align: right;\">\n",
       "      <th></th>\n",
       "      <th>user_id</th>\n",
       "      <th>book_id</th>\n",
       "      <th>review_text</th>\n",
       "      <th>date_added</th>\n",
       "      <th>n_votes</th>\n",
       "      <th>n_comments</th>\n",
       "    </tr>\n",
       "    <tr>\n",
       "      <th>review_id</th>\n",
       "      <th></th>\n",
       "      <th></th>\n",
       "      <th></th>\n",
       "      <th></th>\n",
       "      <th></th>\n",
       "      <th></th>\n",
       "    </tr>\n",
       "  </thead>\n",
       "  <tbody>\n",
       "    <tr>\n",
       "      <th>ba7e149d70cb858d87d4113dfe0e4091</th>\n",
       "      <td>8092e33e9c50d3e269a8164177d2abdc</td>\n",
       "      <td>6339664</td>\n",
       "      <td>IhavetoadmitihavefalleninlovewithPatcicannotwa...</td>\n",
       "      <td>Sun Sep 30 12:29:48 -0700 2012</td>\n",
       "      <td>1</td>\n",
       "      <td>1</td>\n",
       "    </tr>\n",
       "    <tr>\n",
       "      <th>90529a603506931b91502b3c65b0564c</th>\n",
       "      <td>308c545182f8b5d332ff71c667fd9b61</td>\n",
       "      <td>12127810</td>\n",
       "      <td>the feels for NICO DI ANGELO.....................</td>\n",
       "      <td>Thu May 16 23:11:00 -0700 2013</td>\n",
       "      <td>0</td>\n",
       "      <td>0</td>\n",
       "    </tr>\n",
       "    <tr>\n",
       "      <th>7105506d7aa373be892e6d7d29750741</th>\n",
       "      <td>302eb3debfc02e0bdd0fd617d34a2713</td>\n",
       "      <td>10644930</td>\n",
       "      <td>\"The past is obdurate.\" \\n rtcrtcrtcrtcrtcrtcr...</td>\n",
       "      <td>Fri Mar 18 07:59:13 -0700 2016</td>\n",
       "      <td>0</td>\n",
       "      <td>0</td>\n",
       "    </tr>\n",
       "    <tr>\n",
       "      <th>ba4e577524730630bef88cb4c76c6dd7</th>\n",
       "      <td>de107a99cb0ed2ec5d90d744cc48c310</td>\n",
       "      <td>23723788</td>\n",
       "      <td>2.5 it's-a-good-book-as-in-even-after-months-I...</td>\n",
       "      <td>Sun Aug 30 18:18:44 -0700 2015</td>\n",
       "      <td>0</td>\n",
       "      <td>0</td>\n",
       "    </tr>\n",
       "    <tr>\n",
       "      <th>d9d104943954cc9d975a07d1a724be90</th>\n",
       "      <td>de107a99cb0ed2ec5d90d744cc48c310</td>\n",
       "      <td>23496782</td>\n",
       "      <td>2.5 It-Was-a-Very-Okay-Book-With-the-Mystery-a...</td>\n",
       "      <td>Thu Apr 09 04:41:42 -0700 2015</td>\n",
       "      <td>3</td>\n",
       "      <td>0</td>\n",
       "    </tr>\n",
       "  </tbody>\n",
       "</table>\n",
       "</div>"
      ],
      "text/plain": [
       "                                                           user_id   book_id  \\\n",
       "review_id                                                                      \n",
       "ba7e149d70cb858d87d4113dfe0e4091  8092e33e9c50d3e269a8164177d2abdc   6339664   \n",
       "90529a603506931b91502b3c65b0564c  308c545182f8b5d332ff71c667fd9b61  12127810   \n",
       "7105506d7aa373be892e6d7d29750741  302eb3debfc02e0bdd0fd617d34a2713  10644930   \n",
       "ba4e577524730630bef88cb4c76c6dd7  de107a99cb0ed2ec5d90d744cc48c310  23723788   \n",
       "d9d104943954cc9d975a07d1a724be90  de107a99cb0ed2ec5d90d744cc48c310  23496782   \n",
       "\n",
       "                                                                        review_text  \\\n",
       "review_id                                                                             \n",
       "ba7e149d70cb858d87d4113dfe0e4091  IhavetoadmitihavefalleninlovewithPatcicannotwa...   \n",
       "90529a603506931b91502b3c65b0564c  the feels for NICO DI ANGELO.....................   \n",
       "7105506d7aa373be892e6d7d29750741  \"The past is obdurate.\" \\n rtcrtcrtcrtcrtcrtcr...   \n",
       "ba4e577524730630bef88cb4c76c6dd7  2.5 it's-a-good-book-as-in-even-after-months-I...   \n",
       "d9d104943954cc9d975a07d1a724be90  2.5 It-Was-a-Very-Okay-Book-With-the-Mystery-a...   \n",
       "\n",
       "                                                      date_added  n_votes  \\\n",
       "review_id                                                                   \n",
       "ba7e149d70cb858d87d4113dfe0e4091  Sun Sep 30 12:29:48 -0700 2012        1   \n",
       "90529a603506931b91502b3c65b0564c  Thu May 16 23:11:00 -0700 2013        0   \n",
       "7105506d7aa373be892e6d7d29750741  Fri Mar 18 07:59:13 -0700 2016        0   \n",
       "ba4e577524730630bef88cb4c76c6dd7  Sun Aug 30 18:18:44 -0700 2015        0   \n",
       "d9d104943954cc9d975a07d1a724be90  Thu Apr 09 04:41:42 -0700 2015        3   \n",
       "\n",
       "                                  n_comments  \n",
       "review_id                                     \n",
       "ba7e149d70cb858d87d4113dfe0e4091           1  \n",
       "90529a603506931b91502b3c65b0564c           0  \n",
       "7105506d7aa373be892e6d7d29750741           0  \n",
       "ba4e577524730630bef88cb4c76c6dd7           0  \n",
       "d9d104943954cc9d975a07d1a724be90           0  "
      ]
     },
     "execution_count": 19,
     "metadata": {},
     "output_type": "execute_result"
    }
   ],
   "source": [
    "books[unapp_texts].head()"
   ]
  },
  {
   "cell_type": "code",
   "execution_count": 20,
   "id": "5ce5dcdc",
   "metadata": {
    "execution": {
     "iopub.execute_input": "2022-09-20T08:23:52.478096Z",
     "iopub.status.busy": "2022-09-20T08:23:52.477771Z",
     "iopub.status.idle": "2022-09-20T08:23:53.225737Z",
     "shell.execute_reply": "2022-09-20T08:23:53.224608Z"
    },
    "papermill": {
     "duration": 0.801697,
     "end_time": "2022-09-20T08:23:53.228591",
     "exception": false,
     "start_time": "2022-09-20T08:23:52.426894",
     "status": "completed"
    },
    "tags": []
   },
   "outputs": [],
   "source": [
    "books.drop(books[unapp_texts].index, axis=0, inplace=True)"
   ]
  },
  {
   "cell_type": "code",
   "execution_count": 21,
   "id": "98e99283",
   "metadata": {
    "execution": {
     "iopub.execute_input": "2022-09-20T08:23:53.338997Z",
     "iopub.status.busy": "2022-09-20T08:23:53.338630Z",
     "iopub.status.idle": "2022-09-20T08:23:55.015841Z",
     "shell.execute_reply": "2022-09-20T08:23:55.014786Z"
    },
    "papermill": {
     "duration": 1.736722,
     "end_time": "2022-09-20T08:23:55.018741",
     "exception": false,
     "start_time": "2022-09-20T08:23:53.282019",
     "status": "completed"
    },
    "tags": []
   },
   "outputs": [],
   "source": [
    "spoil_statement = 'spoiler alert'\n",
    "books['spoil'] = [True if spoil_statement in txt else False for txt in books['review_text']]"
   ]
  },
  {
   "cell_type": "code",
   "execution_count": 22,
   "id": "14502028",
   "metadata": {
    "execution": {
     "iopub.execute_input": "2022-09-20T08:23:55.184627Z",
     "iopub.status.busy": "2022-09-20T08:23:55.184218Z",
     "iopub.status.idle": "2022-09-20T08:23:55.216324Z",
     "shell.execute_reply": "2022-09-20T08:23:55.215301Z"
    },
    "papermill": {
     "duration": 0.144409,
     "end_time": "2022-09-20T08:23:55.218703",
     "exception": false,
     "start_time": "2022-09-20T08:23:55.074294",
     "status": "completed"
    },
    "tags": []
   },
   "outputs": [
    {
     "data": {
      "text/html": [
       "<div>\n",
       "<style scoped>\n",
       "    .dataframe tbody tr th:only-of-type {\n",
       "        vertical-align: middle;\n",
       "    }\n",
       "\n",
       "    .dataframe tbody tr th {\n",
       "        vertical-align: top;\n",
       "    }\n",
       "\n",
       "    .dataframe thead th {\n",
       "        text-align: right;\n",
       "    }\n",
       "</style>\n",
       "<table border=\"1\" class=\"dataframe\">\n",
       "  <thead>\n",
       "    <tr style=\"text-align: right;\">\n",
       "      <th></th>\n",
       "      <th>user_id</th>\n",
       "      <th>book_id</th>\n",
       "      <th>review_text</th>\n",
       "      <th>date_added</th>\n",
       "      <th>n_votes</th>\n",
       "      <th>n_comments</th>\n",
       "      <th>spoil</th>\n",
       "    </tr>\n",
       "    <tr>\n",
       "      <th>review_id</th>\n",
       "      <th></th>\n",
       "      <th></th>\n",
       "      <th></th>\n",
       "      <th></th>\n",
       "      <th></th>\n",
       "      <th></th>\n",
       "      <th></th>\n",
       "    </tr>\n",
       "  </thead>\n",
       "  <tbody>\n",
       "    <tr>\n",
       "      <th>e23965adda7ce7e7e415a1339e169065</th>\n",
       "      <td>8842281e1d1347389f2ab93d60773d4d</td>\n",
       "      <td>62291</td>\n",
       "      <td>** spoiler alert ** \\n Loved it. The epic saga...</td>\n",
       "      <td>Tue Jul 12 12:57:07 -0700 2011</td>\n",
       "      <td>5</td>\n",
       "      <td>1</td>\n",
       "      <td>True</td>\n",
       "    </tr>\n",
       "    <tr>\n",
       "      <th>0258b3c9a85cecb95f240e43a7642f60</th>\n",
       "      <td>8842281e1d1347389f2ab93d60773d4d</td>\n",
       "      <td>7112495</td>\n",
       "      <td>** spoiler alert ** \\n An interesting book in ...</td>\n",
       "      <td>Thu Jun 10 14:41:13 -0700 2010</td>\n",
       "      <td>7</td>\n",
       "      <td>3</td>\n",
       "      <td>True</td>\n",
       "    </tr>\n",
       "    <tr>\n",
       "      <th>d44b6d28f456dbcc5b1537b4c5572400</th>\n",
       "      <td>8842281e1d1347389f2ab93d60773d4d</td>\n",
       "      <td>6411961</td>\n",
       "      <td>** spoiler alert ** \\n Critics aside, Dan Brow...</td>\n",
       "      <td>Wed Sep 16 11:09:03 -0700 2009</td>\n",
       "      <td>3</td>\n",
       "      <td>3</td>\n",
       "      <td>True</td>\n",
       "    </tr>\n",
       "    <tr>\n",
       "      <th>d49eb786ef1d8557b9e6e86bcafd4570</th>\n",
       "      <td>8842281e1d1347389f2ab93d60773d4d</td>\n",
       "      <td>77432</td>\n",
       "      <td>** spoiler alert ** \\n I equally loved book 2,...</td>\n",
       "      <td>Tue May 05 18:08:22 -0700 2009</td>\n",
       "      <td>1</td>\n",
       "      <td>0</td>\n",
       "      <td>True</td>\n",
       "    </tr>\n",
       "    <tr>\n",
       "      <th>b8e08587ce1592d69548d0f644cb9893</th>\n",
       "      <td>8842281e1d1347389f2ab93d60773d4d</td>\n",
       "      <td>14497</td>\n",
       "      <td>** spoiler alert ** \\n Just finished this and ...</td>\n",
       "      <td>Thu Mar 27 17:53:06 -0700 2008</td>\n",
       "      <td>6</td>\n",
       "      <td>1</td>\n",
       "      <td>True</td>\n",
       "    </tr>\n",
       "    <tr>\n",
       "      <th>...</th>\n",
       "      <td>...</td>\n",
       "      <td>...</td>\n",
       "      <td>...</td>\n",
       "      <td>...</td>\n",
       "      <td>...</td>\n",
       "      <td>...</td>\n",
       "      <td>...</td>\n",
       "    </tr>\n",
       "    <tr>\n",
       "      <th>a989c818917a7463089454b356fb6671</th>\n",
       "      <td>5ff0927d425ab1a70d2b2d41fe6b96b5</td>\n",
       "      <td>13239950</td>\n",
       "      <td>** spoiler alert ** \\n Hills like White Elepha...</td>\n",
       "      <td>Wed Oct 31 18:22:50 -0700 2012</td>\n",
       "      <td>25</td>\n",
       "      <td>7</td>\n",
       "      <td>True</td>\n",
       "    </tr>\n",
       "    <tr>\n",
       "      <th>3736d5ee5904b4b5651912dd28b7ce01</th>\n",
       "      <td>a16fd6b48c6e877042acbe2bda8a0007</td>\n",
       "      <td>115076</td>\n",
       "      <td>** spoiler alert ** \\n I was completely engros...</td>\n",
       "      <td>Mon Jun 04 07:18:34 -0700 2012</td>\n",
       "      <td>0</td>\n",
       "      <td>0</td>\n",
       "      <td>True</td>\n",
       "    </tr>\n",
       "    <tr>\n",
       "      <th>a7777a1c18ab582586a61ad453d91949</th>\n",
       "      <td>692ce8eb4d5490980f6e74f6cb8671e2</td>\n",
       "      <td>12974372</td>\n",
       "      <td>** spoiler alert ** \\n Hmm...what to say about...</td>\n",
       "      <td>Wed Nov 04 12:33:22 -0800 2015</td>\n",
       "      <td>1</td>\n",
       "      <td>0</td>\n",
       "      <td>True</td>\n",
       "    </tr>\n",
       "    <tr>\n",
       "      <th>b1e1134e7e1e90725ac4237b66657de9</th>\n",
       "      <td>692ce8eb4d5490980f6e74f6cb8671e2</td>\n",
       "      <td>29044</td>\n",
       "      <td>** spoiler alert ** \\n The first two-thirds of...</td>\n",
       "      <td>Mon Nov 24 16:03:39 -0800 2014</td>\n",
       "      <td>1</td>\n",
       "      <td>3</td>\n",
       "      <td>True</td>\n",
       "    </tr>\n",
       "    <tr>\n",
       "      <th>31793e9810955194feaed3cc169e52ce</th>\n",
       "      <td>e32792a55ef11527453a96a9df5a4fc2</td>\n",
       "      <td>18512</td>\n",
       "      <td>The middle was a bit slow for me (that could o...</td>\n",
       "      <td>Wed Jun 11 07:45:03 -0700 2008</td>\n",
       "      <td>0</td>\n",
       "      <td>0</td>\n",
       "      <td>True</td>\n",
       "    </tr>\n",
       "  </tbody>\n",
       "</table>\n",
       "<p>25902 rows × 7 columns</p>\n",
       "</div>"
      ],
      "text/plain": [
       "                                                           user_id   book_id  \\\n",
       "review_id                                                                      \n",
       "e23965adda7ce7e7e415a1339e169065  8842281e1d1347389f2ab93d60773d4d     62291   \n",
       "0258b3c9a85cecb95f240e43a7642f60  8842281e1d1347389f2ab93d60773d4d   7112495   \n",
       "d44b6d28f456dbcc5b1537b4c5572400  8842281e1d1347389f2ab93d60773d4d   6411961   \n",
       "d49eb786ef1d8557b9e6e86bcafd4570  8842281e1d1347389f2ab93d60773d4d     77432   \n",
       "b8e08587ce1592d69548d0f644cb9893  8842281e1d1347389f2ab93d60773d4d     14497   \n",
       "...                                                            ...       ...   \n",
       "a989c818917a7463089454b356fb6671  5ff0927d425ab1a70d2b2d41fe6b96b5  13239950   \n",
       "3736d5ee5904b4b5651912dd28b7ce01  a16fd6b48c6e877042acbe2bda8a0007    115076   \n",
       "a7777a1c18ab582586a61ad453d91949  692ce8eb4d5490980f6e74f6cb8671e2  12974372   \n",
       "b1e1134e7e1e90725ac4237b66657de9  692ce8eb4d5490980f6e74f6cb8671e2     29044   \n",
       "31793e9810955194feaed3cc169e52ce  e32792a55ef11527453a96a9df5a4fc2     18512   \n",
       "\n",
       "                                                                        review_text  \\\n",
       "review_id                                                                             \n",
       "e23965adda7ce7e7e415a1339e169065  ** spoiler alert ** \\n Loved it. The epic saga...   \n",
       "0258b3c9a85cecb95f240e43a7642f60  ** spoiler alert ** \\n An interesting book in ...   \n",
       "d44b6d28f456dbcc5b1537b4c5572400  ** spoiler alert ** \\n Critics aside, Dan Brow...   \n",
       "d49eb786ef1d8557b9e6e86bcafd4570  ** spoiler alert ** \\n I equally loved book 2,...   \n",
       "b8e08587ce1592d69548d0f644cb9893  ** spoiler alert ** \\n Just finished this and ...   \n",
       "...                                                                             ...   \n",
       "a989c818917a7463089454b356fb6671  ** spoiler alert ** \\n Hills like White Elepha...   \n",
       "3736d5ee5904b4b5651912dd28b7ce01  ** spoiler alert ** \\n I was completely engros...   \n",
       "a7777a1c18ab582586a61ad453d91949  ** spoiler alert ** \\n Hmm...what to say about...   \n",
       "b1e1134e7e1e90725ac4237b66657de9  ** spoiler alert ** \\n The first two-thirds of...   \n",
       "31793e9810955194feaed3cc169e52ce  The middle was a bit slow for me (that could o...   \n",
       "\n",
       "                                                      date_added  n_votes  \\\n",
       "review_id                                                                   \n",
       "e23965adda7ce7e7e415a1339e169065  Tue Jul 12 12:57:07 -0700 2011        5   \n",
       "0258b3c9a85cecb95f240e43a7642f60  Thu Jun 10 14:41:13 -0700 2010        7   \n",
       "d44b6d28f456dbcc5b1537b4c5572400  Wed Sep 16 11:09:03 -0700 2009        3   \n",
       "d49eb786ef1d8557b9e6e86bcafd4570  Tue May 05 18:08:22 -0700 2009        1   \n",
       "b8e08587ce1592d69548d0f644cb9893  Thu Mar 27 17:53:06 -0700 2008        6   \n",
       "...                                                          ...      ...   \n",
       "a989c818917a7463089454b356fb6671  Wed Oct 31 18:22:50 -0700 2012       25   \n",
       "3736d5ee5904b4b5651912dd28b7ce01  Mon Jun 04 07:18:34 -0700 2012        0   \n",
       "a7777a1c18ab582586a61ad453d91949  Wed Nov 04 12:33:22 -0800 2015        1   \n",
       "b1e1134e7e1e90725ac4237b66657de9  Mon Nov 24 16:03:39 -0800 2014        1   \n",
       "31793e9810955194feaed3cc169e52ce  Wed Jun 11 07:45:03 -0700 2008        0   \n",
       "\n",
       "                                  n_comments  spoil  \n",
       "review_id                                            \n",
       "e23965adda7ce7e7e415a1339e169065           1   True  \n",
       "0258b3c9a85cecb95f240e43a7642f60           3   True  \n",
       "d44b6d28f456dbcc5b1537b4c5572400           3   True  \n",
       "d49eb786ef1d8557b9e6e86bcafd4570           0   True  \n",
       "b8e08587ce1592d69548d0f644cb9893           1   True  \n",
       "...                                      ...    ...  \n",
       "a989c818917a7463089454b356fb6671           7   True  \n",
       "3736d5ee5904b4b5651912dd28b7ce01           0   True  \n",
       "a7777a1c18ab582586a61ad453d91949           0   True  \n",
       "b1e1134e7e1e90725ac4237b66657de9           3   True  \n",
       "31793e9810955194feaed3cc169e52ce           0   True  \n",
       "\n",
       "[25902 rows x 7 columns]"
      ]
     },
     "execution_count": 22,
     "metadata": {},
     "output_type": "execute_result"
    }
   ],
   "source": [
    "books[books['spoil'] == True]"
   ]
  },
  {
   "cell_type": "markdown",
   "id": "5d968782",
   "metadata": {
    "papermill": {
     "duration": 0.052022,
     "end_time": "2022-09-20T08:23:55.325540",
     "exception": false,
     "start_time": "2022-09-20T08:23:55.273518",
     "status": "completed"
    },
    "tags": []
   },
   "source": [
    "### Preprocessing the review texts"
   ]
  },
  {
   "cell_type": "code",
   "execution_count": 23,
   "id": "fbb227bf",
   "metadata": {
    "execution": {
     "iopub.execute_input": "2022-09-20T08:23:55.436715Z",
     "iopub.status.busy": "2022-09-20T08:23:55.436039Z",
     "iopub.status.idle": "2022-09-20T08:23:55.723196Z",
     "shell.execute_reply": "2022-09-20T08:23:55.722047Z"
    },
    "papermill": {
     "duration": 0.345319,
     "end_time": "2022-09-20T08:23:55.726179",
     "exception": false,
     "start_time": "2022-09-20T08:23:55.380860",
     "status": "completed"
    },
    "tags": []
   },
   "outputs": [],
   "source": [
    "import nltk\n",
    "from nltk.stem import WordNetLemmatizer\n",
    "from nltk.corpus import stopwords"
   ]
  },
  {
   "cell_type": "code",
   "execution_count": 24,
   "id": "c42c5af8",
   "metadata": {
    "execution": {
     "iopub.execute_input": "2022-09-20T08:23:55.839193Z",
     "iopub.status.busy": "2022-09-20T08:23:55.838397Z",
     "iopub.status.idle": "2022-09-20T08:43:07.886051Z",
     "shell.execute_reply": "2022-09-20T08:43:07.884259Z"
    },
    "papermill": {
     "duration": 1152.105161,
     "end_time": "2022-09-20T08:43:07.888887",
     "exception": false,
     "start_time": "2022-09-20T08:23:55.783726",
     "status": "completed"
    },
    "tags": []
   },
   "outputs": [
    {
     "name": "stderr",
     "output_type": "stream",
     "text": [
      "100%|██████████| 1361774/1361774 [19:11<00:00, 1182.41it/s]\n"
     ]
    },
    {
     "data": {
      "text/plain": [
       "review_id\n",
       "f4c5b8b725418f0578da7e2b44e7658f    also pointing defect teaching use benefit coun...\n",
       "d0d063bfa14efdf7312b2ed467d34d4f    first trek world sookie stackhouse course star...\n",
       "0b5de0f2ae1a777489536602be33c047    end one favorite historical fiction novel grea...\n",
       "5f5eb2d3f9b9ccabb705239ed7c30573    start saying hate princess run away want marry...\n",
       "a788729a7290a1c0d0df50d1394d4ef3    main character sometimes annoyed like really n...\n",
       "Name: review_text_tokens, dtype: object"
      ]
     },
     "execution_count": 24,
     "metadata": {},
     "output_type": "execute_result"
    }
   ],
   "source": [
    "# Removing punctuation and converting the characters to lowercase\n",
    "# NOTE! : It's need considerable time about 18 min --> It will improve\n",
    "\n",
    "\n",
    "## Way 1\n",
    "import string\n",
    "exclist = string.punctuation + string.digits\n",
    "lamitizer = WordNetLemmatizer()\n",
    "stopwords_list = stopwords.words('english')\n",
    "\n",
    "def preprocessing_text(txt):\n",
    "    words = txt.translate(str.maketrans(exclist, ' '*len(exclist))).lower().split()\n",
    "\n",
    "    return (' '.join([lamitizer.lemmatize(word) for word in words if word not in stopwords_list])).strip()\n",
    "\n",
    "\n",
    "books['review_text_tokens'] = books['review_text'].progress_apply(preprocessing_text)\n",
    "\n",
    "books['review_text_tokens'].sample(5)\n"
   ]
  },
  {
   "cell_type": "code",
   "execution_count": 25,
   "id": "ec26ab42",
   "metadata": {
    "execution": {
     "iopub.execute_input": "2022-09-20T08:43:08.942635Z",
     "iopub.status.busy": "2022-09-20T08:43:08.942222Z",
     "iopub.status.idle": "2022-09-20T08:43:09.293137Z",
     "shell.execute_reply": "2022-09-20T08:43:09.292015Z"
    },
    "papermill": {
     "duration": 0.904585,
     "end_time": "2022-09-20T08:43:09.296175",
     "exception": false,
     "start_time": "2022-09-20T08:43:08.391590",
     "status": "completed"
    },
    "tags": []
   },
   "outputs": [
    {
     "data": {
      "text/html": [
       "<div>\n",
       "<style scoped>\n",
       "    .dataframe tbody tr th:only-of-type {\n",
       "        vertical-align: middle;\n",
       "    }\n",
       "\n",
       "    .dataframe tbody tr th {\n",
       "        vertical-align: top;\n",
       "    }\n",
       "\n",
       "    .dataframe thead th {\n",
       "        text-align: right;\n",
       "    }\n",
       "</style>\n",
       "<table border=\"1\" class=\"dataframe\">\n",
       "  <thead>\n",
       "    <tr style=\"text-align: right;\">\n",
       "      <th></th>\n",
       "      <th>user_id</th>\n",
       "      <th>book_id</th>\n",
       "      <th>review_text</th>\n",
       "      <th>date_added</th>\n",
       "      <th>n_votes</th>\n",
       "      <th>n_comments</th>\n",
       "      <th>spoil</th>\n",
       "      <th>review_text_tokens</th>\n",
       "    </tr>\n",
       "    <tr>\n",
       "      <th>review_id</th>\n",
       "      <th></th>\n",
       "      <th></th>\n",
       "      <th></th>\n",
       "      <th></th>\n",
       "      <th></th>\n",
       "      <th></th>\n",
       "      <th></th>\n",
       "      <th></th>\n",
       "    </tr>\n",
       "  </thead>\n",
       "  <tbody>\n",
       "    <tr>\n",
       "      <th>ea6f6de43d677becc74223b84e679ac2</th>\n",
       "      <td>fc42cbb17f863f27ab7b8b231ef6e49a</td>\n",
       "      <td>14836</td>\n",
       "      <td>Stephen King says: \"1,001 children are born in...</td>\n",
       "      <td>Mon Mar 07 15:30:39 -0800 2011</td>\n",
       "      <td>1</td>\n",
       "      <td>0</td>\n",
       "      <td>False</td>\n",
       "      <td>stephen king say child born india midnight aug...</td>\n",
       "    </tr>\n",
       "    <tr>\n",
       "      <th>ef6ed8439ff80da13cf2eb7ff0e199a2</th>\n",
       "      <td>e137d592309be33416a6780014724927</td>\n",
       "      <td>10161216</td>\n",
       "      <td>A well-done mystery novel.</td>\n",
       "      <td>Mon Aug 06 21:41:01 -0700 2012</td>\n",
       "      <td>1</td>\n",
       "      <td>0</td>\n",
       "      <td>False</td>\n",
       "      <td>well done mystery novel</td>\n",
       "    </tr>\n",
       "    <tr>\n",
       "      <th>6bbd7cdc1d8bc2f6a26aeef5d05cd6db</th>\n",
       "      <td>80611c0216a6bc04cbaf489abcf002a7</td>\n",
       "      <td>11040554</td>\n",
       "      <td>I cannot tell you how happy and how I angry I ...</td>\n",
       "      <td>Tue Jun 19 14:43:49 -0700 2012</td>\n",
       "      <td>1</td>\n",
       "      <td>1</td>\n",
       "      <td>False</td>\n",
       "      <td>cannot tell happy angry book happy finally don...</td>\n",
       "    </tr>\n",
       "    <tr>\n",
       "      <th>5c10cd8ae4fdb1232963dca6937f4496</th>\n",
       "      <td>795ed3fcf5aa6c1a00b75b19abf2e892</td>\n",
       "      <td>6740548</td>\n",
       "      <td>Reread this and wow, what a beautiful story. A...</td>\n",
       "      <td>Fri Feb 01 14:01:13 -0800 2013</td>\n",
       "      <td>1</td>\n",
       "      <td>1</td>\n",
       "      <td>False</td>\n",
       "      <td>reread wow beautiful story absolutely heartbre...</td>\n",
       "    </tr>\n",
       "  </tbody>\n",
       "</table>\n",
       "</div>"
      ],
      "text/plain": [
       "                                                           user_id   book_id  \\\n",
       "review_id                                                                      \n",
       "ea6f6de43d677becc74223b84e679ac2  fc42cbb17f863f27ab7b8b231ef6e49a     14836   \n",
       "ef6ed8439ff80da13cf2eb7ff0e199a2  e137d592309be33416a6780014724927  10161216   \n",
       "6bbd7cdc1d8bc2f6a26aeef5d05cd6db  80611c0216a6bc04cbaf489abcf002a7  11040554   \n",
       "5c10cd8ae4fdb1232963dca6937f4496  795ed3fcf5aa6c1a00b75b19abf2e892   6740548   \n",
       "\n",
       "                                                                        review_text  \\\n",
       "review_id                                                                             \n",
       "ea6f6de43d677becc74223b84e679ac2  Stephen King says: \"1,001 children are born in...   \n",
       "ef6ed8439ff80da13cf2eb7ff0e199a2                         A well-done mystery novel.   \n",
       "6bbd7cdc1d8bc2f6a26aeef5d05cd6db  I cannot tell you how happy and how I angry I ...   \n",
       "5c10cd8ae4fdb1232963dca6937f4496  Reread this and wow, what a beautiful story. A...   \n",
       "\n",
       "                                                      date_added  n_votes  \\\n",
       "review_id                                                                   \n",
       "ea6f6de43d677becc74223b84e679ac2  Mon Mar 07 15:30:39 -0800 2011        1   \n",
       "ef6ed8439ff80da13cf2eb7ff0e199a2  Mon Aug 06 21:41:01 -0700 2012        1   \n",
       "6bbd7cdc1d8bc2f6a26aeef5d05cd6db  Tue Jun 19 14:43:49 -0700 2012        1   \n",
       "5c10cd8ae4fdb1232963dca6937f4496  Fri Feb 01 14:01:13 -0800 2013        1   \n",
       "\n",
       "                                  n_comments  spoil  \\\n",
       "review_id                                             \n",
       "ea6f6de43d677becc74223b84e679ac2           0  False   \n",
       "ef6ed8439ff80da13cf2eb7ff0e199a2           0  False   \n",
       "6bbd7cdc1d8bc2f6a26aeef5d05cd6db           1  False   \n",
       "5c10cd8ae4fdb1232963dca6937f4496           1  False   \n",
       "\n",
       "                                                                 review_text_tokens  \n",
       "review_id                                                                            \n",
       "ea6f6de43d677becc74223b84e679ac2  stephen king say child born india midnight aug...  \n",
       "ef6ed8439ff80da13cf2eb7ff0e199a2                            well done mystery novel  \n",
       "6bbd7cdc1d8bc2f6a26aeef5d05cd6db  cannot tell happy angry book happy finally don...  \n",
       "5c10cd8ae4fdb1232963dca6937f4496  reread wow beautiful story absolutely heartbre...  "
      ]
     },
     "execution_count": 25,
     "metadata": {},
     "output_type": "execute_result"
    }
   ],
   "source": [
    "books.sample(4)"
   ]
  },
  {
   "cell_type": "code",
   "execution_count": 26,
   "id": "cd10d6f8",
   "metadata": {
    "execution": {
     "iopub.execute_input": "2022-09-20T08:43:10.285913Z",
     "iopub.status.busy": "2022-09-20T08:43:10.285549Z",
     "iopub.status.idle": "2022-09-20T08:43:47.305789Z",
     "shell.execute_reply": "2022-09-20T08:43:47.304713Z"
    },
    "papermill": {
     "duration": 38.113743,
     "end_time": "2022-09-20T08:43:47.906835",
     "exception": false,
     "start_time": "2022-09-20T08:43:09.793092",
     "status": "completed"
    },
    "tags": []
   },
   "outputs": [
    {
     "data": {
      "text/html": [
       "<div>\n",
       "<style scoped>\n",
       "    .dataframe tbody tr th:only-of-type {\n",
       "        vertical-align: middle;\n",
       "    }\n",
       "\n",
       "    .dataframe tbody tr th {\n",
       "        vertical-align: top;\n",
       "    }\n",
       "\n",
       "    .dataframe thead th {\n",
       "        text-align: right;\n",
       "    }\n",
       "</style>\n",
       "<table border=\"1\" class=\"dataframe\">\n",
       "  <thead>\n",
       "    <tr style=\"text-align: right;\">\n",
       "      <th></th>\n",
       "      <th>user_id</th>\n",
       "      <th>book_id</th>\n",
       "      <th>review_text</th>\n",
       "      <th>date_added</th>\n",
       "      <th>n_votes</th>\n",
       "      <th>n_comments</th>\n",
       "      <th>spoil</th>\n",
       "      <th>review_text_tokens</th>\n",
       "    </tr>\n",
       "    <tr>\n",
       "      <th>review_id</th>\n",
       "      <th></th>\n",
       "      <th></th>\n",
       "      <th></th>\n",
       "      <th></th>\n",
       "      <th></th>\n",
       "      <th></th>\n",
       "      <th></th>\n",
       "      <th></th>\n",
       "    </tr>\n",
       "  </thead>\n",
       "  <tbody>\n",
       "    <tr>\n",
       "      <th>6234cb70c3a702c112b6caf8450f4580</th>\n",
       "      <td>9d3db1ad4cde377b32beb8a666ecc111</td>\n",
       "      <td>13615258</td>\n",
       "      <td>Reviewed for THC Reviews \\n While I can't call...</td>\n",
       "      <td>2017-09-13 06:54:13+00:00</td>\n",
       "      <td>2</td>\n",
       "      <td>0</td>\n",
       "      <td>False</td>\n",
       "      <td>reviewed thc review call big fan divergent ser...</td>\n",
       "    </tr>\n",
       "    <tr>\n",
       "      <th>0bee103d1fa7dabdb4a4fbdaa10251d3</th>\n",
       "      <td>4a43bd159aa056c3849a4f0dec4706f0</td>\n",
       "      <td>28374007</td>\n",
       "      <td>5 stars \\n review to come</td>\n",
       "      <td>2016-09-06 22:09:49+00:00</td>\n",
       "      <td>0</td>\n",
       "      <td>0</td>\n",
       "      <td>False</td>\n",
       "      <td>star review come</td>\n",
       "    </tr>\n",
       "    <tr>\n",
       "      <th>385e133de7123261ea44ecb576d1f64f</th>\n",
       "      <td>f7cb1d70717e5177da086e91693b3bd8</td>\n",
       "      <td>22521552</td>\n",
       "      <td>I won this book as a FirstRead. \\n Rodin's Lov...</td>\n",
       "      <td>2014-12-17 10:55:59+00:00</td>\n",
       "      <td>0</td>\n",
       "      <td>0</td>\n",
       "      <td>False</td>\n",
       "      <td>book firstread rodin lover tell story camille ...</td>\n",
       "    </tr>\n",
       "    <tr>\n",
       "      <th>7664cf85e889370f32cb54b824ea38d5</th>\n",
       "      <td>9d256b5ee65d0d2314999db699e2c329</td>\n",
       "      <td>4497978</td>\n",
       "      <td>I'm not gonna give this book a rating, because...</td>\n",
       "      <td>2010-06-09 17:30:14+00:00</td>\n",
       "      <td>2</td>\n",
       "      <td>0</td>\n",
       "      <td>False</td>\n",
       "      <td>gonna give book rating knew would bad going pl...</td>\n",
       "    </tr>\n",
       "    <tr>\n",
       "      <th>d526e45c8419fec6cda1d8f4fd7961da</th>\n",
       "      <td>36f6764cf69581a7429d9f072c726145</td>\n",
       "      <td>13128982</td>\n",
       "      <td>Bought this on sale at Diesel (80%-off) or I m...</td>\n",
       "      <td>2013-03-13 03:07:21+00:00</td>\n",
       "      <td>0</td>\n",
       "      <td>0</td>\n",
       "      <td>False</td>\n",
       "      <td>bought sale diesel might never given shot read...</td>\n",
       "    </tr>\n",
       "  </tbody>\n",
       "</table>\n",
       "</div>"
      ],
      "text/plain": [
       "                                                           user_id   book_id  \\\n",
       "review_id                                                                      \n",
       "6234cb70c3a702c112b6caf8450f4580  9d3db1ad4cde377b32beb8a666ecc111  13615258   \n",
       "0bee103d1fa7dabdb4a4fbdaa10251d3  4a43bd159aa056c3849a4f0dec4706f0  28374007   \n",
       "385e133de7123261ea44ecb576d1f64f  f7cb1d70717e5177da086e91693b3bd8  22521552   \n",
       "7664cf85e889370f32cb54b824ea38d5  9d256b5ee65d0d2314999db699e2c329   4497978   \n",
       "d526e45c8419fec6cda1d8f4fd7961da  36f6764cf69581a7429d9f072c726145  13128982   \n",
       "\n",
       "                                                                        review_text  \\\n",
       "review_id                                                                             \n",
       "6234cb70c3a702c112b6caf8450f4580  Reviewed for THC Reviews \\n While I can't call...   \n",
       "0bee103d1fa7dabdb4a4fbdaa10251d3                          5 stars \\n review to come   \n",
       "385e133de7123261ea44ecb576d1f64f  I won this book as a FirstRead. \\n Rodin's Lov...   \n",
       "7664cf85e889370f32cb54b824ea38d5  I'm not gonna give this book a rating, because...   \n",
       "d526e45c8419fec6cda1d8f4fd7961da  Bought this on sale at Diesel (80%-off) or I m...   \n",
       "\n",
       "                                                date_added  n_votes  \\\n",
       "review_id                                                             \n",
       "6234cb70c3a702c112b6caf8450f4580 2017-09-13 06:54:13+00:00        2   \n",
       "0bee103d1fa7dabdb4a4fbdaa10251d3 2016-09-06 22:09:49+00:00        0   \n",
       "385e133de7123261ea44ecb576d1f64f 2014-12-17 10:55:59+00:00        0   \n",
       "7664cf85e889370f32cb54b824ea38d5 2010-06-09 17:30:14+00:00        2   \n",
       "d526e45c8419fec6cda1d8f4fd7961da 2013-03-13 03:07:21+00:00        0   \n",
       "\n",
       "                                  n_comments  spoil  \\\n",
       "review_id                                             \n",
       "6234cb70c3a702c112b6caf8450f4580           0  False   \n",
       "0bee103d1fa7dabdb4a4fbdaa10251d3           0  False   \n",
       "385e133de7123261ea44ecb576d1f64f           0  False   \n",
       "7664cf85e889370f32cb54b824ea38d5           0  False   \n",
       "d526e45c8419fec6cda1d8f4fd7961da           0  False   \n",
       "\n",
       "                                                                 review_text_tokens  \n",
       "review_id                                                                            \n",
       "6234cb70c3a702c112b6caf8450f4580  reviewed thc review call big fan divergent ser...  \n",
       "0bee103d1fa7dabdb4a4fbdaa10251d3                                   star review come  \n",
       "385e133de7123261ea44ecb576d1f64f  book firstread rodin lover tell story camille ...  \n",
       "7664cf85e889370f32cb54b824ea38d5  gonna give book rating knew would bad going pl...  \n",
       "d526e45c8419fec6cda1d8f4fd7961da  bought sale diesel might never given shot read...  "
      ]
     },
     "execution_count": 26,
     "metadata": {},
     "output_type": "execute_result"
    }
   ],
   "source": [
    "datetime_format = '%a %b %d %H:%M:%S %z %Y'\n",
    "books['date_added'] = pd.to_datetime(books['date_added'], format=datetime_format, utc=True)\n",
    "\n",
    "books.sample(5)"
   ]
  },
  {
   "cell_type": "markdown",
   "id": "811dbee6",
   "metadata": {
    "papermill": {
     "duration": 0.492126,
     "end_time": "2022-09-20T08:43:48.884081",
     "exception": false,
     "start_time": "2022-09-20T08:43:48.391955",
     "status": "completed"
    },
    "tags": []
   },
   "source": [
    "# Exploratory Data Analysis\n"
   ]
  },
  {
   "cell_type": "code",
   "execution_count": 27,
   "id": "511b43b1",
   "metadata": {
    "execution": {
     "iopub.execute_input": "2022-09-20T08:43:49.907337Z",
     "iopub.status.busy": "2022-09-20T08:43:49.906987Z",
     "iopub.status.idle": "2022-09-20T08:43:50.689116Z",
     "shell.execute_reply": "2022-09-20T08:43:50.688235Z"
    },
    "papermill": {
     "duration": 1.322373,
     "end_time": "2022-09-20T08:43:50.691376",
     "exception": false,
     "start_time": "2022-09-20T08:43:49.369003",
     "status": "completed"
    },
    "tags": []
   },
   "outputs": [
    {
     "data": {
      "text/plain": [
       "<AxesSubplot:title={'center':'10 Date with most reviews'}, xlabel='Dates', ylabel='Count'>"
      ]
     },
     "execution_count": 27,
     "metadata": {},
     "output_type": "execute_result"
    },
    {
     "data": {
      "image/png": "[encoded data removed]",
      "text/plain": [
       "<Figure size 720x576 with 1 Axes>"
      ]
     },
     "metadata": {
      "needs_background": "light"
     },
     "output_type": "display_data"
    }
   ],
   "source": [
    "books_dates_added = books['date_added'].dt.date\n",
    "books_dates_added.value_counts()[:10].plot(kind='bar', \n",
    "                                            figsize=(10, 8),\n",
    "                                            title='10 Date with most reviews',\n",
    "                                            xlabel='Dates',\n",
    "                                            ylabel='Count')"
   ]
  },
  {
   "cell_type": "code",
   "execution_count": 28,
   "id": "04a0c559",
   "metadata": {
    "execution": {
     "iopub.execute_input": "2022-09-20T08:43:51.720746Z",
     "iopub.status.busy": "2022-09-20T08:43:51.720354Z",
     "iopub.status.idle": "2022-09-20T08:43:54.163108Z",
     "shell.execute_reply": "2022-09-20T08:43:54.162134Z"
    },
    "papermill": {
     "duration": 2.988244,
     "end_time": "2022-09-20T08:43:54.165234",
     "exception": false,
     "start_time": "2022-09-20T08:43:51.176990",
     "status": "completed"
    },
    "tags": []
   },
   "outputs": [
    {
     "data": {
      "text/plain": [
       "<AxesSubplot:title={'center':'Number of rating action in days of all weeks'}, xlabel='Day of week', ylabel='Count'>"
      ]
     },
     "execution_count": 28,
     "metadata": {},
     "output_type": "execute_result"
    },
    {
     "data": {
      "image/png": "[encoded data removed]",
      "text/plain": [
       "<Figure size 720x576 with 1 Axes>"
      ]
     },
     "metadata": {
      "needs_background": "light"
     },
     "output_type": "display_data"
    }
   ],
   "source": [
    "plt.figure(figsize=(10, 8))\n",
    "plt.title(\"Number of rating action in days of all weeks\")\n",
    "plt.xlabel(\"Day of week\")\n",
    "plt.ylabel(\"Count\")\n",
    "sns.histplot(books['date_added'].dt.day_name())"
   ]
  },
  {
   "cell_type": "code",
   "execution_count": 29,
   "id": "cbe5e7b1",
   "metadata": {
    "execution": {
     "iopub.execute_input": "2022-09-20T08:43:55.140896Z",
     "iopub.status.busy": "2022-09-20T08:43:55.140533Z",
     "iopub.status.idle": "2022-09-20T08:43:57.542184Z",
     "shell.execute_reply": "2022-09-20T08:43:57.541264Z"
    },
    "papermill": {
     "duration": 2.893186,
     "end_time": "2022-09-20T08:43:57.544304",
     "exception": false,
     "start_time": "2022-09-20T08:43:54.651118",
     "status": "completed"
    },
    "tags": []
   },
   "outputs": [
    {
     "data": {
      "text/plain": [
       "<AxesSubplot:title={'center':'Number of rating action in months of all years'}, xlabel='Month of week', ylabel='Count'>"
      ]
     },
     "execution_count": 29,
     "metadata": {},
     "output_type": "execute_result"
    },
    {
     "data": {
      "image/png": "[encoded data removed]",
      "text/plain": [
       "<Figure size 936x576 with 1 Axes>"
      ]
     },
     "metadata": {
      "needs_background": "light"
     },
     "output_type": "display_data"
    }
   ],
   "source": [
    "plt.figure(figsize=(13, 8))\n",
    "plt.title(\"Number of rating action in months of all years\")\n",
    "plt.xlabel(\"Month of week\")\n",
    "plt.ylabel(\"Count\")\n",
    "sns.histplot(books['date_added'].dt.month_name())"
   ]
  },
  {
   "cell_type": "code",
   "execution_count": 30,
   "id": "33d2cc72",
   "metadata": {
    "execution": {
     "iopub.execute_input": "2022-09-20T08:43:58.794285Z",
     "iopub.status.busy": "2022-09-20T08:43:58.793889Z",
     "iopub.status.idle": "2022-09-20T08:43:59.646506Z",
     "shell.execute_reply": "2022-09-20T08:43:59.645507Z"
    },
    "papermill": {
     "duration": 1.44011,
     "end_time": "2022-09-20T08:43:59.648766",
     "exception": false,
     "start_time": "2022-09-20T08:43:58.208656",
     "status": "completed"
    },
    "tags": []
   },
   "outputs": [
    {
     "data": {
      "text/plain": [
       "<AxesSubplot:title={'center':'10 books with the most reviews'}, xlabel='Book id', ylabel='Number of reviews'>"
      ]
     },
     "execution_count": 30,
     "metadata": {},
     "output_type": "execute_result"
    },
    {
     "data": {
      "image/png": "[encoded data removed]",
      "text/plain": [
       "<Figure size 720x576 with 1 Axes>"
      ]
     },
     "metadata": {
      "needs_background": "light"
     },
     "output_type": "display_data"
    }
   ],
   "source": [
    "books.groupby('book_id').count() \\\n",
    "                .sort_values(by='user_id', ascending=False)['user_id'][:10] \\\n",
    "                .plot(kind='bar', \n",
    "                        figsize=(10, 8),\n",
    "                        title='10 books with the most reviews',\n",
    "                        xlabel='Book id',\n",
    "                        ylabel='Number of reviews')"
   ]
  },
  {
   "cell_type": "code",
   "execution_count": 31,
   "id": "bf6e655c",
   "metadata": {
    "execution": {
     "iopub.execute_input": "2022-09-20T08:44:00.674364Z",
     "iopub.status.busy": "2022-09-20T08:44:00.673313Z",
     "iopub.status.idle": "2022-09-20T08:44:01.648439Z",
     "shell.execute_reply": "2022-09-20T08:44:01.647387Z"
    },
    "papermill": {
     "duration": 1.467148,
     "end_time": "2022-09-20T08:44:01.650951",
     "exception": false,
     "start_time": "2022-09-20T08:44:00.183803",
     "status": "completed"
    },
    "tags": []
   },
   "outputs": [
    {
     "data": {
      "text/plain": [
       "<AxesSubplot:title={'center':'10 users with the most reviews'}, xlabel='User id', ylabel='Number of reviews'>"
      ]
     },
     "execution_count": 31,
     "metadata": {},
     "output_type": "execute_result"
    },
    {
     "data": {
      "image/png": "[encoded data removed]",
      "text/plain": [
       "<Figure size 720x576 with 1 Axes>"
      ]
     },
     "metadata": {
      "needs_background": "light"
     },
     "output_type": "display_data"
    }
   ],
   "source": [
    "books.groupby('user_id').count() \\\n",
    "        .sort_values(by='book_id', ascending=False)['book_id'][:10] \\\n",
    "        .plot(kind='bar',\n",
    "                figsize=(10, 8),\n",
    "                title='10 users with the most reviews',\n",
    "                xlabel='User id',\n",
    "                ylabel='Number of reviews')"
   ]
  },
  {
   "cell_type": "code",
   "execution_count": 32,
   "id": "edcd6e79",
   "metadata": {
    "execution": {
     "iopub.execute_input": "2022-09-20T08:44:02.677748Z",
     "iopub.status.busy": "2022-09-20T08:44:02.676685Z",
     "iopub.status.idle": "2022-09-20T08:44:02.903731Z",
     "shell.execute_reply": "2022-09-20T08:44:02.902540Z"
    },
    "papermill": {
     "duration": 0.768277,
     "end_time": "2022-09-20T08:44:02.908229",
     "exception": false,
     "start_time": "2022-09-20T08:44:02.139952",
     "status": "completed"
    },
    "tags": []
   },
   "outputs": [
    {
     "data": {
      "text/plain": [
       "<AxesSubplot:title={'center':'Number of Spoilers Vs. NO Spoilers'}, xlabel='Tags', ylabel='Count'>"
      ]
     },
     "execution_count": 32,
     "metadata": {},
     "output_type": "execute_result"
    },
    {
     "data": {
      "image/png": "[encoded data removed]",
      "text/plain": [
       "<Figure size 720x576 with 1 Axes>"
      ]
     },
     "metadata": {
      "needs_background": "light"
     },
     "output_type": "display_data"
    }
   ],
   "source": [
    "books['spoil'].value_counts().plot(kind='bar', \n",
    "                                    figsize=(10, 8),\n",
    "                                    title='Number of Spoilers Vs. NO Spoilers',\n",
    "                                    xlabel='Tags',\n",
    "                                    ylabel='Count')"
   ]
  },
  {
   "cell_type": "code",
   "execution_count": 33,
   "id": "f5194f5d",
   "metadata": {
    "execution": {
     "iopub.execute_input": "2022-09-20T08:44:03.881674Z",
     "iopub.status.busy": "2022-09-20T08:44:03.881293Z",
     "iopub.status.idle": "2022-09-20T08:44:03.911717Z",
     "shell.execute_reply": "2022-09-20T08:44:03.910724Z"
    },
    "papermill": {
     "duration": 0.52082,
     "end_time": "2022-09-20T08:44:03.913912",
     "exception": false,
     "start_time": "2022-09-20T08:44:03.393092",
     "status": "completed"
    },
    "tags": []
   },
   "outputs": [
    {
     "data": {
      "text/plain": [
       "review_id\n",
       "0b92155e9fe5f54a411fd139740b9b11    4\n",
       "73b6db95acc614d7f778e068490360e9    3\n",
       "89657e29ba813adad80729e43fd35021    0\n",
       "29856ba1326a188c2f87e14a74dc9949    4\n",
       "794be7e62b34461efd3ca202528faffc    4\n",
       "Name: rating, dtype: int64"
      ]
     },
     "execution_count": 33,
     "metadata": {},
     "output_type": "execute_result"
    }
   ],
   "source": [
    "books_rates.sample(5)"
   ]
  },
  {
   "cell_type": "code",
   "execution_count": 34,
   "id": "65b3fade",
   "metadata": {
    "execution": {
     "iopub.execute_input": "2022-09-20T08:44:04.956707Z",
     "iopub.status.busy": "2022-09-20T08:44:04.956281Z",
     "iopub.status.idle": "2022-09-20T08:44:06.370902Z",
     "shell.execute_reply": "2022-09-20T08:44:06.369820Z"
    },
    "papermill": {
     "duration": 1.90581,
     "end_time": "2022-09-20T08:44:06.373724",
     "exception": false,
     "start_time": "2022-09-20T08:44:04.467914",
     "status": "completed"
    },
    "tags": []
   },
   "outputs": [
    {
     "data": {
      "text/html": [
       "<div>\n",
       "<style scoped>\n",
       "    .dataframe tbody tr th:only-of-type {\n",
       "        vertical-align: middle;\n",
       "    }\n",
       "\n",
       "    .dataframe tbody tr th {\n",
       "        vertical-align: top;\n",
       "    }\n",
       "\n",
       "    .dataframe thead th {\n",
       "        text-align: right;\n",
       "    }\n",
       "</style>\n",
       "<table border=\"1\" class=\"dataframe\">\n",
       "  <thead>\n",
       "    <tr style=\"text-align: right;\">\n",
       "      <th></th>\n",
       "      <th>user_id</th>\n",
       "      <th>book_id</th>\n",
       "      <th>review_text</th>\n",
       "      <th>date_added</th>\n",
       "      <th>n_votes</th>\n",
       "      <th>n_comments</th>\n",
       "      <th>spoil</th>\n",
       "      <th>review_text_tokens</th>\n",
       "      <th>rating</th>\n",
       "    </tr>\n",
       "    <tr>\n",
       "      <th>review_id</th>\n",
       "      <th></th>\n",
       "      <th></th>\n",
       "      <th></th>\n",
       "      <th></th>\n",
       "      <th></th>\n",
       "      <th></th>\n",
       "      <th></th>\n",
       "      <th></th>\n",
       "      <th></th>\n",
       "    </tr>\n",
       "  </thead>\n",
       "  <tbody>\n",
       "    <tr>\n",
       "      <th>85fd1eefef19d403d61e44ad91369360</th>\n",
       "      <td>2ce2f3fece4b516db9cdf94bf6b06f42</td>\n",
       "      <td>9266793</td>\n",
       "      <td>I sat down and read this entire book for 8 hou...</td>\n",
       "      <td>2013-03-11 20:34:18+00:00</td>\n",
       "      <td>0</td>\n",
       "      <td>0</td>\n",
       "      <td>False</td>\n",
       "      <td>sat read entire book hour done amazing</td>\n",
       "      <td>5</td>\n",
       "    </tr>\n",
       "    <tr>\n",
       "      <th>4828f48b80f63f0750004fb827127717</th>\n",
       "      <td>9712ccbd2a46262ebce99fe566c093f6</td>\n",
       "      <td>6587387</td>\n",
       "      <td>** spoiler alert ** \\n Let me begin by saying....</td>\n",
       "      <td>2011-08-20 19:06:04+00:00</td>\n",
       "      <td>11</td>\n",
       "      <td>0</td>\n",
       "      <td>True</td>\n",
       "      <td>spoiler alert let begin saying love series mig...</td>\n",
       "      <td>4</td>\n",
       "    </tr>\n",
       "    <tr>\n",
       "      <th>9b7a7042a352d4faf03134b794a50a07</th>\n",
       "      <td>9d99d1c0336449e5513e2b5a4a8703fc</td>\n",
       "      <td>52357</td>\n",
       "      <td>If you are going to read this, read the Seamus...</td>\n",
       "      <td>2008-04-29 04:24:08+00:00</td>\n",
       "      <td>0</td>\n",
       "      <td>0</td>\n",
       "      <td>False</td>\n",
       "      <td>going read read seamus heaney trans even bette...</td>\n",
       "      <td>4</td>\n",
       "    </tr>\n",
       "  </tbody>\n",
       "</table>\n",
       "</div>"
      ],
      "text/plain": [
       "                                                           user_id  book_id  \\\n",
       "review_id                                                                     \n",
       "85fd1eefef19d403d61e44ad91369360  2ce2f3fece4b516db9cdf94bf6b06f42  9266793   \n",
       "4828f48b80f63f0750004fb827127717  9712ccbd2a46262ebce99fe566c093f6  6587387   \n",
       "9b7a7042a352d4faf03134b794a50a07  9d99d1c0336449e5513e2b5a4a8703fc    52357   \n",
       "\n",
       "                                                                        review_text  \\\n",
       "review_id                                                                             \n",
       "85fd1eefef19d403d61e44ad91369360  I sat down and read this entire book for 8 hou...   \n",
       "4828f48b80f63f0750004fb827127717  ** spoiler alert ** \\n Let me begin by saying....   \n",
       "9b7a7042a352d4faf03134b794a50a07  If you are going to read this, read the Seamus...   \n",
       "\n",
       "                                                date_added  n_votes  \\\n",
       "review_id                                                             \n",
       "85fd1eefef19d403d61e44ad91369360 2013-03-11 20:34:18+00:00        0   \n",
       "4828f48b80f63f0750004fb827127717 2011-08-20 19:06:04+00:00       11   \n",
       "9b7a7042a352d4faf03134b794a50a07 2008-04-29 04:24:08+00:00        0   \n",
       "\n",
       "                                  n_comments  spoil  \\\n",
       "review_id                                             \n",
       "85fd1eefef19d403d61e44ad91369360           0  False   \n",
       "4828f48b80f63f0750004fb827127717           0   True   \n",
       "9b7a7042a352d4faf03134b794a50a07           0  False   \n",
       "\n",
       "                                                                 review_text_tokens  \\\n",
       "review_id                                                                             \n",
       "85fd1eefef19d403d61e44ad91369360             sat read entire book hour done amazing   \n",
       "4828f48b80f63f0750004fb827127717  spoiler alert let begin saying love series mig...   \n",
       "9b7a7042a352d4faf03134b794a50a07  going read read seamus heaney trans even bette...   \n",
       "\n",
       "                                  rating  \n",
       "review_id                                 \n",
       "85fd1eefef19d403d61e44ad91369360       5  \n",
       "4828f48b80f63f0750004fb827127717       4  \n",
       "9b7a7042a352d4faf03134b794a50a07       4  "
      ]
     },
     "execution_count": 34,
     "metadata": {},
     "output_type": "execute_result"
    }
   ],
   "source": [
    "clean_books_rate = books.merge(books_rates, how='inner', on='review_id')\n",
    "clean_books_rate.sample(3)"
   ]
  },
  {
   "cell_type": "code",
   "execution_count": 35,
   "id": "1feb7426",
   "metadata": {
    "execution": {
     "iopub.execute_input": "2022-09-20T08:44:07.866638Z",
     "iopub.status.busy": "2022-09-20T08:44:07.866255Z",
     "iopub.status.idle": "2022-09-20T08:44:08.119539Z",
     "shell.execute_reply": "2022-09-20T08:44:08.118436Z"
    },
    "papermill": {
     "duration": 1.004242,
     "end_time": "2022-09-20T08:44:08.121988",
     "exception": false,
     "start_time": "2022-09-20T08:44:07.117746",
     "status": "completed"
    },
    "tags": []
   },
   "outputs": [
    {
     "data": {
      "text/plain": [
       "<AxesSubplot:title={'center':'The Number of each rate'}, xlabel='Rate', ylabel='Count'>"
      ]
     },
     "execution_count": 35,
     "metadata": {},
     "output_type": "execute_result"
    },
    {
     "data": {
      "image/png": "[encoded data removed]",
      "text/plain": [
       "<Figure size 720x576 with 1 Axes>"
      ]
     },
     "metadata": {
      "needs_background": "light"
     },
     "output_type": "display_data"
    }
   ],
   "source": [
    "clean_books_rate['rating'].value_counts().plot(kind='bar', \n",
    "                                                figsize=(10, 8),\n",
    "                                                title='The Number of each rate',\n",
    "                                                xlabel='Rate',\n",
    "                                                ylabel='Count')"
   ]
  },
  {
   "cell_type": "code",
   "execution_count": 36,
   "id": "b9163f91",
   "metadata": {
    "execution": {
     "iopub.execute_input": "2022-09-20T08:44:09.364403Z",
     "iopub.status.busy": "2022-09-20T08:44:09.363978Z",
     "iopub.status.idle": "2022-09-20T08:44:09.996497Z",
     "shell.execute_reply": "2022-09-20T08:44:09.995445Z"
    },
    "papermill": {
     "duration": 1.372363,
     "end_time": "2022-09-20T08:44:09.999248",
     "exception": false,
     "start_time": "2022-09-20T08:44:08.626885",
     "status": "completed"
    },
    "tags": []
   },
   "outputs": [
    {
     "data": {
      "text/plain": [
       "<AxesSubplot:title={'center':'The Mean of rateing per book'}, ylabel='Frequency'>"
      ]
     },
     "execution_count": 36,
     "metadata": {},
     "output_type": "execute_result"
    },
    {
     "data": {
      "image/png": "[encoded data removed]",
      "text/plain": [
       "<Figure size 720x576 with 1 Axes>"
      ]
     },
     "metadata": {
      "needs_background": "light"
     },
     "output_type": "display_data"
    }
   ],
   "source": [
    "clean_books_rate.groupby(by='book_id').mean()['rating'] \\\n",
    "                    .plot(kind='hist', \n",
    "                            figsize=(10, 8),\n",
    "                            title='The Mean of rateing per book',\n",
    "                            xlabel='Value',\n",
    "                            bins=100, \n",
    "                            legend=True)"
   ]
  },
  {
   "cell_type": "code",
   "execution_count": 37,
   "id": "17de3482",
   "metadata": {
    "execution": {
     "iopub.execute_input": "2022-09-20T08:44:10.991623Z",
     "iopub.status.busy": "2022-09-20T08:44:10.991202Z",
     "iopub.status.idle": "2022-09-20T08:44:11.590401Z",
     "shell.execute_reply": "2022-09-20T08:44:11.589515Z"
    },
    "papermill": {
     "duration": 1.092667,
     "end_time": "2022-09-20T08:44:11.592461",
     "exception": false,
     "start_time": "2022-09-20T08:44:10.499794",
     "status": "completed"
    },
    "tags": []
   },
   "outputs": [
    {
     "data": {
      "text/plain": [
       "<AxesSubplot:title={'center':'The STD of rateing per book'}, ylabel='Frequency'>"
      ]
     },
     "execution_count": 37,
     "metadata": {},
     "output_type": "execute_result"
    },
    {
     "data": {
      "image/png": "[encoded data removed]",
      "text/plain": [
       "<Figure size 720x576 with 1 Axes>"
      ]
     },
     "metadata": {
      "needs_background": "light"
     },
     "output_type": "display_data"
    }
   ],
   "source": [
    "clean_books_rate.groupby(by='book_id').std()['rating'] \\\n",
    "                    .plot(kind='hist', \n",
    "                            figsize=(10, 8),\n",
    "                            title='The STD of rateing per book',\n",
    "                            xlabel='Value',\n",
    "                            bins=100, \n",
    "                            legend=True)"
   ]
  },
  {
   "cell_type": "code",
   "execution_count": 38,
   "id": "61876828",
   "metadata": {
    "_kg_hide-input": true,
    "execution": {
     "iopub.execute_input": "2022-09-20T08:44:12.631226Z",
     "iopub.status.busy": "2022-09-20T08:44:12.630868Z",
     "iopub.status.idle": "2022-09-20T08:44:12.635632Z",
     "shell.execute_reply": "2022-09-20T08:44:12.634675Z"
    },
    "papermill": {
     "duration": 0.553337,
     "end_time": "2022-09-20T08:44:12.637906",
     "exception": false,
     "start_time": "2022-09-20T08:44:12.084569",
     "status": "completed"
    },
    "tags": []
   },
   "outputs": [],
   "source": [
    "# from collections import Counter\n",
    "# list1=['apple','egg','apple','banana','egg','apple']\n",
    "# counts = Counter(list1)\n",
    "# print(counts)\n",
    "# # Counter({'apple': 3, 'egg': 2, 'banana': 1})\n",
    "\n",
    "# # initialising dictionaries\n",
    "# ini_dictionary1 = Counter({'nikhil': 1, 'akash' : 5,\n",
    "#                      'manjeet' : 10, 'akshat' : 15})\n",
    "# ini_dictionary2 = Counter({'akash' : 7, 'akshat' : 5,\n",
    "#                                           'm' : 15})\n",
    "  \n",
    "# # printing initial dictionaries\n",
    "# print (\"initial 1st dictionary\", str(ini_dictionary1))\n",
    "# print (\"initial 2nd dictionary\", str(ini_dictionary2))\n",
    "  \n",
    "# # combining dictionaries\n",
    "# # using Counter\n",
    "# final_dictionary = ini_dictionary1 + ini_dictionary2\n",
    "  \n",
    "# # printing final result\n",
    "# print (\"final dictionary\", str(final_dictionary))"
   ]
  },
  {
   "cell_type": "markdown",
   "id": "db4dab11",
   "metadata": {
    "papermill": {
     "duration": 0.551809,
     "end_time": "2022-09-20T08:44:13.692845",
     "exception": false,
     "start_time": "2022-09-20T08:44:13.141036",
     "status": "completed"
    },
    "tags": []
   },
   "source": [
    "# Prediction"
   ]
  },
  {
   "cell_type": "markdown",
   "id": "7f931a53",
   "metadata": {
    "papermill": {
     "duration": 0.546003,
     "end_time": "2022-09-20T08:44:14.731630",
     "exception": false,
     "start_time": "2022-09-20T08:44:14.185627",
     "status": "completed"
    },
    "tags": []
   },
   "source": [
    "## Machine Learning Methods"
   ]
  },
  {
   "cell_type": "code",
   "execution_count": 39,
   "id": "4bb5959f",
   "metadata": {
    "execution": {
     "iopub.execute_input": "2022-09-20T08:44:15.711367Z",
     "iopub.status.busy": "2022-09-20T08:44:15.711011Z",
     "iopub.status.idle": "2022-09-20T08:44:15.811941Z",
     "shell.execute_reply": "2022-09-20T08:44:15.811039Z"
    },
    "papermill": {
     "duration": 0.591293,
     "end_time": "2022-09-20T08:44:15.814303",
     "exception": false,
     "start_time": "2022-09-20T08:44:15.223010",
     "status": "completed"
    },
    "tags": []
   },
   "outputs": [],
   "source": [
    "from sklearn.linear_model import LogisticRegression, SGDClassifier\n",
    "from sklearn.naive_bayes import MultinomialNB\n",
    "from xgboost import XGBClassifier\n",
    "from sklearn.model_selection import train_test_split\n",
    "from sklearn.feature_extraction.text import TfidfVectorizer\n",
    "from sklearn.metrics import classification_report, confusion_matrix"
   ]
  },
  {
   "cell_type": "code",
   "execution_count": 40,
   "id": "6961c589",
   "metadata": {
    "execution": {
     "iopub.execute_input": "2022-09-20T08:44:16.848132Z",
     "iopub.status.busy": "2022-09-20T08:44:16.847432Z",
     "iopub.status.idle": "2022-09-20T08:44:16.873846Z",
     "shell.execute_reply": "2022-09-20T08:44:16.872931Z"
    },
    "papermill": {
     "duration": 0.520259,
     "end_time": "2022-09-20T08:44:16.876011",
     "exception": false,
     "start_time": "2022-09-20T08:44:16.355752",
     "status": "completed"
    },
    "tags": []
   },
   "outputs": [],
   "source": [
    "df = clean_books_rate[['review_text_tokens', 'rating']]"
   ]
  },
  {
   "cell_type": "code",
   "execution_count": 41,
   "id": "4712e8ce",
   "metadata": {
    "execution": {
     "iopub.execute_input": "2022-09-20T08:44:17.910484Z",
     "iopub.status.busy": "2022-09-20T08:44:17.909991Z",
     "iopub.status.idle": "2022-09-20T08:44:17.947930Z",
     "shell.execute_reply": "2022-09-20T08:44:17.946901Z"
    },
    "papermill": {
     "duration": 0.585658,
     "end_time": "2022-09-20T08:44:17.950544",
     "exception": false,
     "start_time": "2022-09-20T08:44:17.364886",
     "status": "completed"
    },
    "tags": []
   },
   "outputs": [
    {
     "data": {
      "text/html": [
       "<div>\n",
       "<style scoped>\n",
       "    .dataframe tbody tr th:only-of-type {\n",
       "        vertical-align: middle;\n",
       "    }\n",
       "\n",
       "    .dataframe tbody tr th {\n",
       "        vertical-align: top;\n",
       "    }\n",
       "\n",
       "    .dataframe thead th {\n",
       "        text-align: right;\n",
       "    }\n",
       "</style>\n",
       "<table border=\"1\" class=\"dataframe\">\n",
       "  <thead>\n",
       "    <tr style=\"text-align: right;\">\n",
       "      <th></th>\n",
       "      <th>review_text_tokens</th>\n",
       "      <th>rating</th>\n",
       "    </tr>\n",
       "    <tr>\n",
       "      <th>review_id</th>\n",
       "      <th></th>\n",
       "      <th></th>\n",
       "    </tr>\n",
       "  </thead>\n",
       "  <tbody>\n",
       "    <tr>\n",
       "      <th>6570f4cce54ba8ae6eafa2bc15dfccb8</th>\n",
       "      <td>pooled ink review star quite sure expect hope ...</td>\n",
       "      <td>5</td>\n",
       "    </tr>\n",
       "    <tr>\n",
       "      <th>51005ad09d0b17d97bc866b5ec6380c7</th>\n",
       "      <td>pretty good read exactly expecting term settin...</td>\n",
       "      <td>4</td>\n",
       "    </tr>\n",
       "    <tr>\n",
       "      <th>eb8d3e64f3611bb8890899db415ac526</th>\n",
       "      <td>loved beginning end story seriously lacking mi...</td>\n",
       "      <td>3</td>\n",
       "    </tr>\n",
       "    <tr>\n",
       "      <th>fabc5b5a8304cd60e54b881d5fe00d0b</th>\n",
       "      <td>many thought one review follow murder mystery ...</td>\n",
       "      <td>4</td>\n",
       "    </tr>\n",
       "  </tbody>\n",
       "</table>\n",
       "</div>"
      ],
      "text/plain": [
       "                                                                 review_text_tokens  \\\n",
       "review_id                                                                             \n",
       "6570f4cce54ba8ae6eafa2bc15dfccb8  pooled ink review star quite sure expect hope ...   \n",
       "51005ad09d0b17d97bc866b5ec6380c7  pretty good read exactly expecting term settin...   \n",
       "eb8d3e64f3611bb8890899db415ac526  loved beginning end story seriously lacking mi...   \n",
       "fabc5b5a8304cd60e54b881d5fe00d0b  many thought one review follow murder mystery ...   \n",
       "\n",
       "                                  rating  \n",
       "review_id                                 \n",
       "6570f4cce54ba8ae6eafa2bc15dfccb8       5  \n",
       "51005ad09d0b17d97bc866b5ec6380c7       4  \n",
       "eb8d3e64f3611bb8890899db415ac526       3  \n",
       "fabc5b5a8304cd60e54b881d5fe00d0b       4  "
      ]
     },
     "execution_count": 41,
     "metadata": {},
     "output_type": "execute_result"
    }
   ],
   "source": [
    "df.sample(4)"
   ]
  },
  {
   "cell_type": "code",
   "execution_count": 42,
   "id": "c4075970",
   "metadata": {
    "_kg_hide-input": true,
    "execution": {
     "iopub.execute_input": "2022-09-20T08:44:18.991183Z",
     "iopub.status.busy": "2022-09-20T08:44:18.990822Z",
     "iopub.status.idle": "2022-09-20T08:44:18.995100Z",
     "shell.execute_reply": "2022-09-20T08:44:18.994090Z"
    },
    "papermill": {
     "duration": 0.554138,
     "end_time": "2022-09-20T08:44:18.997304",
     "exception": false,
     "start_time": "2022-09-20T08:44:18.443166",
     "status": "completed"
    },
    "tags": []
   },
   "outputs": [],
   "source": [
    "# df.sample(10000).to_csv('mini_clean_train_goodreads.csv')"
   ]
  },
  {
   "cell_type": "code",
   "execution_count": 43,
   "id": "4f8a2726",
   "metadata": {
    "execution": {
     "iopub.execute_input": "2022-09-20T08:44:20.058403Z",
     "iopub.status.busy": "2022-09-20T08:44:20.057966Z",
     "iopub.status.idle": "2022-09-20T08:44:20.106302Z",
     "shell.execute_reply": "2022-09-20T08:44:20.105292Z"
    },
    "papermill": {
     "duration": 0.622992,
     "end_time": "2022-09-20T08:44:20.109175",
     "exception": false,
     "start_time": "2022-09-20T08:44:19.486183",
     "status": "completed"
    },
    "tags": []
   },
   "outputs": [],
   "source": [
    "mini_df = df.sample(10000)"
   ]
  },
  {
   "cell_type": "code",
   "execution_count": 44,
   "id": "c30f0d7c",
   "metadata": {
    "execution": {
     "iopub.execute_input": "2022-09-20T08:44:21.290641Z",
     "iopub.status.busy": "2022-09-20T08:44:21.290264Z",
     "iopub.status.idle": "2022-09-20T08:44:21.295512Z",
     "shell.execute_reply": "2022-09-20T08:44:21.294543Z"
    },
    "papermill": {
     "duration": 0.558952,
     "end_time": "2022-09-20T08:44:21.297533",
     "exception": false,
     "start_time": "2022-09-20T08:44:20.738581",
     "status": "completed"
    },
    "tags": []
   },
   "outputs": [],
   "source": [
    "X = mini_df['review_text_tokens']\n",
    "y = mini_df['rating']"
   ]
  },
  {
   "cell_type": "code",
   "execution_count": 45,
   "id": "12a0abf2",
   "metadata": {
    "execution": {
     "iopub.execute_input": "2022-09-20T08:44:22.341050Z",
     "iopub.status.busy": "2022-09-20T08:44:22.340659Z",
     "iopub.status.idle": "2022-09-20T08:44:22.352195Z",
     "shell.execute_reply": "2022-09-20T08:44:22.351131Z"
    },
    "papermill": {
     "duration": 0.563441,
     "end_time": "2022-09-20T08:44:22.354470",
     "exception": false,
     "start_time": "2022-09-20T08:44:21.791029",
     "status": "completed"
    },
    "tags": []
   },
   "outputs": [],
   "source": [
    "X_train, X_val, y_train, y_val = train_test_split(X, y, test_size=0.2, shuffle=True, random_state=404)\n"
   ]
  },
  {
   "cell_type": "code",
   "execution_count": 46,
   "id": "6bd6bcbf",
   "metadata": {
    "execution": {
     "iopub.execute_input": "2022-09-20T08:44:23.436233Z",
     "iopub.status.busy": "2022-09-20T08:44:23.435885Z",
     "iopub.status.idle": "2022-09-20T08:44:23.441351Z",
     "shell.execute_reply": "2022-09-20T08:44:23.440349Z"
    },
    "papermill": {
     "duration": 0.598399,
     "end_time": "2022-09-20T08:44:23.444082",
     "exception": false,
     "start_time": "2022-09-20T08:44:22.845683",
     "status": "completed"
    },
    "tags": []
   },
   "outputs": [
    {
     "name": "stdout",
     "output_type": "stream",
     "text": [
      "X Train set size:  (8000,)\n",
      "X Validation set size:  (2000,)\n"
     ]
    }
   ],
   "source": [
    "print(\"X Train set size: \", X_train.shape)\n",
    "print(\"X Validation set size: \", X_val.shape)"
   ]
  },
  {
   "cell_type": "code",
   "execution_count": 47,
   "id": "9a262c9e",
   "metadata": {
    "execution": {
     "iopub.execute_input": "2022-09-20T08:44:24.426898Z",
     "iopub.status.busy": "2022-09-20T08:44:24.426511Z",
     "iopub.status.idle": "2022-09-20T08:44:24.432089Z",
     "shell.execute_reply": "2022-09-20T08:44:24.431146Z"
    },
    "papermill": {
     "duration": 0.499022,
     "end_time": "2022-09-20T08:44:24.435145",
     "exception": false,
     "start_time": "2022-09-20T08:44:23.936123",
     "status": "completed"
    },
    "tags": []
   },
   "outputs": [
    {
     "name": "stdout",
     "output_type": "stream",
     "text": [
      "Y Train set size:  (8000,)\n",
      "Y Validation set size:  (2000,)\n"
     ]
    }
   ],
   "source": [
    "print(\"Y Train set size: \", y_train.shape)\n",
    "print(\"Y Validation set size: \", y_val.shape)"
   ]
  },
  {
   "cell_type": "code",
   "execution_count": 48,
   "id": "e0a56aae",
   "metadata": {
    "execution": {
     "iopub.execute_input": "2022-09-20T08:44:25.477970Z",
     "iopub.status.busy": "2022-09-20T08:44:25.477605Z",
     "iopub.status.idle": "2022-09-20T08:44:26.217354Z",
     "shell.execute_reply": "2022-09-20T08:44:26.216179Z"
    },
    "papermill": {
     "duration": 1.243469,
     "end_time": "2022-09-20T08:44:26.220372",
     "exception": false,
     "start_time": "2022-09-20T08:44:24.976903",
     "status": "completed"
    },
    "tags": []
   },
   "outputs": [],
   "source": [
    "tfidf_vectorizer = TfidfVectorizer(use_idf=True)\n",
    "\n",
    "X_train_vectors = tfidf_vectorizer.fit_transform(X_train) \n",
    "X_val_vectors = tfidf_vectorizer.transform(X_val)"
   ]
  },
  {
   "cell_type": "code",
   "execution_count": 49,
   "id": "2d216853",
   "metadata": {
    "execution": {
     "iopub.execute_input": "2022-09-20T08:44:27.265499Z",
     "iopub.status.busy": "2022-09-20T08:44:27.265117Z",
     "iopub.status.idle": "2022-09-20T08:44:27.270650Z",
     "shell.execute_reply": "2022-09-20T08:44:27.269555Z"
    },
    "papermill": {
     "duration": 0.556637,
     "end_time": "2022-09-20T08:44:27.273599",
     "exception": false,
     "start_time": "2022-09-20T08:44:26.716962",
     "status": "completed"
    },
    "tags": []
   },
   "outputs": [
    {
     "name": "stdout",
     "output_type": "stream",
     "text": [
      "(8000, 31084)\n",
      "(2000, 31084)\n"
     ]
    }
   ],
   "source": [
    "print(X_train_vectors.shape)\n",
    "print(X_val_vectors.shape)"
   ]
  },
  {
   "cell_type": "markdown",
   "id": "6567354a",
   "metadata": {
    "papermill": {
     "duration": 0.539047,
     "end_time": "2022-09-20T08:44:28.304266",
     "exception": false,
     "start_time": "2022-09-20T08:44:27.765219",
     "status": "completed"
    },
    "tags": []
   },
   "source": [
    "## * Logistic Regression"
   ]
  },
  {
   "cell_type": "code",
   "execution_count": 50,
   "id": "e2578718",
   "metadata": {
    "execution": {
     "iopub.execute_input": "2022-09-20T08:44:29.292876Z",
     "iopub.status.busy": "2022-09-20T08:44:29.292516Z",
     "iopub.status.idle": "2022-09-20T08:44:31.649998Z",
     "shell.execute_reply": "2022-09-20T08:44:31.648679Z"
    },
    "papermill": {
     "duration": 2.862222,
     "end_time": "2022-09-20T08:44:31.653082",
     "exception": false,
     "start_time": "2022-09-20T08:44:28.790860",
     "status": "completed"
    },
    "tags": []
   },
   "outputs": [
    {
     "data": {
      "text/plain": [
       "LogisticRegression(C=10, solver='liblinear')"
      ]
     },
     "execution_count": 50,
     "metadata": {},
     "output_type": "execute_result"
    }
   ],
   "source": [
    "lr_model=LogisticRegression(solver = 'liblinear', C=10, penalty = 'l2')\n",
    "lr_model.fit(X_train_vectors, y_train)"
   ]
  },
  {
   "cell_type": "code",
   "execution_count": 51,
   "id": "261e1e4f",
   "metadata": {
    "execution": {
     "iopub.execute_input": "2022-09-20T08:44:32.789621Z",
     "iopub.status.busy": "2022-09-20T08:44:32.789224Z",
     "iopub.status.idle": "2022-09-20T08:44:32.808846Z",
     "shell.execute_reply": "2022-09-20T08:44:32.807547Z"
    },
    "papermill": {
     "duration": 0.564895,
     "end_time": "2022-09-20T08:44:32.813622",
     "exception": false,
     "start_time": "2022-09-20T08:44:32.248727",
     "status": "completed"
    },
    "tags": []
   },
   "outputs": [
    {
     "name": "stdout",
     "output_type": "stream",
     "text": [
      "test accuracy 0.434\n",
      "------------------------------------------------------------\n",
      "              precision    recall  f1-score   support\n",
      "\n",
      "           0       0.44      0.11      0.17        65\n",
      "           1       0.29      0.08      0.13        61\n",
      "           2       0.30      0.14      0.19       178\n",
      "           3       0.37      0.37      0.37       423\n",
      "           4       0.44      0.50      0.46       722\n",
      "           5       0.49      0.57      0.53       551\n",
      "\n",
      "    accuracy                           0.43      2000\n",
      "   macro avg       0.39      0.30      0.31      2000\n",
      "weighted avg       0.42      0.43      0.42      2000\n",
      "\n",
      "------------------------------------------------------------\n",
      "Confusion Matrix: [[  7   4   6  13  17  18]\n",
      " [  2   5  18  19  12   5]\n",
      " [  2   6  25  59  66  20]\n",
      " [  1   0  26 157 178  61]\n",
      " [  3   1   8 130 358 222]\n",
      " [  1   1   1  43 189 316]]\n"
     ]
    }
   ],
   "source": [
    "#Predict y value for test dataset\n",
    "y_predict = lr_model.predict(X_val_vectors)\n",
    "y_prob = lr_model.predict_proba(X_val_vectors)[:,1]\n",
    "\n",
    "print(\"test accuracy\", str(np.mean(y_val == y_predict)))\n",
    "print(\"-\"*60)\n",
    "print(classification_report(y_val,y_predict))\n",
    "print(\"-\"*60)\n",
    "print('Confusion Matrix:',confusion_matrix(y_val, y_predict))"
   ]
  },
  {
   "cell_type": "markdown",
   "id": "f146728b",
   "metadata": {
    "papermill": {
     "duration": 0.539714,
     "end_time": "2022-09-20T08:44:33.867248",
     "exception": false,
     "start_time": "2022-09-20T08:44:33.327534",
     "status": "completed"
    },
    "tags": []
   },
   "source": [
    "## * Naive Bayes"
   ]
  },
  {
   "cell_type": "code",
   "execution_count": 52,
   "id": "de5559a5",
   "metadata": {
    "execution": {
     "iopub.execute_input": "2022-09-20T08:44:34.904169Z",
     "iopub.status.busy": "2022-09-20T08:44:34.903811Z",
     "iopub.status.idle": "2022-09-20T08:44:34.922301Z",
     "shell.execute_reply": "2022-09-20T08:44:34.921277Z"
    },
    "papermill": {
     "duration": 0.562056,
     "end_time": "2022-09-20T08:44:34.924642",
     "exception": false,
     "start_time": "2022-09-20T08:44:34.362586",
     "status": "completed"
    },
    "tags": []
   },
   "outputs": [
    {
     "data": {
      "text/plain": [
       "MultinomialNB()"
      ]
     },
     "execution_count": 52,
     "metadata": {},
     "output_type": "execute_result"
    }
   ],
   "source": [
    "multiNB_model = MultinomialNB()\n",
    "multiNB_model.fit(X_train_vectors, y_train)"
   ]
  },
  {
   "cell_type": "code",
   "execution_count": 53,
   "id": "65f48b68",
   "metadata": {
    "execution": {
     "iopub.execute_input": "2022-09-20T08:44:35.902481Z",
     "iopub.status.busy": "2022-09-20T08:44:35.902110Z",
     "iopub.status.idle": "2022-09-20T08:44:35.920900Z",
     "shell.execute_reply": "2022-09-20T08:44:35.918888Z"
    },
    "papermill": {
     "duration": 0.51017,
     "end_time": "2022-09-20T08:44:35.922999",
     "exception": false,
     "start_time": "2022-09-20T08:44:35.412829",
     "status": "completed"
    },
    "tags": []
   },
   "outputs": [
    {
     "name": "stdout",
     "output_type": "stream",
     "text": [
      "test accuracy 0.419\n",
      "------------------------------------------------------------\n",
      "              precision    recall  f1-score   support\n",
      "\n",
      "           0       0.00      0.00      0.00        65\n",
      "           1       0.00      0.00      0.00        61\n",
      "           2       0.00      0.00      0.00       178\n",
      "           3       0.00      0.00      0.00       423\n",
      "           4       0.38      0.93      0.54       722\n",
      "           5       0.66      0.30      0.41       551\n",
      "\n",
      "    accuracy                           0.42      2000\n",
      "   macro avg       0.17      0.21      0.16      2000\n",
      "weighted avg       0.32      0.42      0.31      2000\n",
      "\n",
      "------------------------------------------------------------\n",
      "Confusion Matrix: [[  0   0   0   0  54  11]\n",
      " [  0   0   0   0  59   2]\n",
      " [  0   0   0   2 170   6]\n",
      " [  0   0   0   0 406  17]\n",
      " [  0   0   0   0 672  50]\n",
      " [  0   0   0   0 385 166]]\n"
     ]
    }
   ],
   "source": [
    "#Predict y value for test dataset\n",
    "y_predict = multiNB_model.predict(X_val_vectors)\n",
    "y_prob = multiNB_model.predict_proba(X_val_vectors)[:,1]\n",
    "\n",
    "print(\"test accuracy\", str(np.mean(y_val == y_predict)))\n",
    "print(\"-\"*60)\n",
    "print(classification_report(y_val,y_predict))\n",
    "print(\"-\"*60)\n",
    "print('Confusion Matrix:',confusion_matrix(y_val, y_predict))"
   ]
  },
  {
   "cell_type": "markdown",
   "id": "c6e79f40",
   "metadata": {
    "papermill": {
     "duration": 0.498975,
     "end_time": "2022-09-20T08:44:36.980182",
     "exception": false,
     "start_time": "2022-09-20T08:44:36.481207",
     "status": "completed"
    },
    "tags": []
   },
   "source": [
    "## * SGD"
   ]
  },
  {
   "cell_type": "code",
   "execution_count": 54,
   "id": "a49bc84a",
   "metadata": {
    "execution": {
     "iopub.execute_input": "2022-09-20T08:44:38.139253Z",
     "iopub.status.busy": "2022-09-20T08:44:38.138812Z",
     "iopub.status.idle": "2022-09-20T08:44:38.407311Z",
     "shell.execute_reply": "2022-09-20T08:44:38.406266Z"
    },
    "papermill": {
     "duration": 0.950553,
     "end_time": "2022-09-20T08:44:38.419884",
     "exception": false,
     "start_time": "2022-09-20T08:44:37.469331",
     "status": "completed"
    },
    "tags": []
   },
   "outputs": [
    {
     "data": {
      "text/plain": [
       "SGDClassifier(alpha=0.001, random_state=404)"
      ]
     },
     "execution_count": 54,
     "metadata": {},
     "output_type": "execute_result"
    }
   ],
   "source": [
    "sgd_model = SGDClassifier(loss='hinge', penalty='l2', alpha=1e-3, random_state=404)\n",
    "sgd_model.fit(X_train_vectors, y_train)"
   ]
  },
  {
   "cell_type": "code",
   "execution_count": 55,
   "id": "f054ca12",
   "metadata": {
    "execution": {
     "iopub.execute_input": "2022-09-20T08:44:39.872828Z",
     "iopub.status.busy": "2022-09-20T08:44:39.872444Z",
     "iopub.status.idle": "2022-09-20T08:44:39.890106Z",
     "shell.execute_reply": "2022-09-20T08:44:39.888938Z"
    },
    "papermill": {
     "duration": 0.606482,
     "end_time": "2022-09-20T08:44:39.893169",
     "exception": false,
     "start_time": "2022-09-20T08:44:39.286687",
     "status": "completed"
    },
    "tags": []
   },
   "outputs": [
    {
     "name": "stdout",
     "output_type": "stream",
     "text": [
      "test accuracy 0.434\n",
      "------------------------------------------------------------\n",
      "              precision    recall  f1-score   support\n",
      "\n",
      "           0       0.33      0.09      0.14        65\n",
      "           1       0.22      0.07      0.10        61\n",
      "           2       0.31      0.11      0.16       178\n",
      "           3       0.40      0.28      0.33       423\n",
      "           4       0.45      0.41      0.43       722\n",
      "           5       0.45      0.77      0.57       551\n",
      "\n",
      "    accuracy                           0.43      2000\n",
      "   macro avg       0.36      0.29      0.29      2000\n",
      "weighted avg       0.41      0.43      0.40      2000\n",
      "\n",
      "------------------------------------------------------------\n",
      "Confusion Matrix: [[  6   3   3   6  17  30]\n",
      " [  6   4  11  14  11  15]\n",
      " [  2   5  19  57  57  38]\n",
      " [  4   2  21 119 180  97]\n",
      " [  0   3   7  80 296 336]\n",
      " [  0   1   0  24 102 424]]\n"
     ]
    }
   ],
   "source": [
    "#Predict y value for test dataset\n",
    "y_predict = sgd_model.predict(X_val_vectors)\n",
    "# y_prob = sgd_model.predict_proba(X_val_vectors)[:,1] # Is not available for loss='hinge'\n",
    "\n",
    "print(\"test accuracy\", str(np.mean(y_val == y_predict)))\n",
    "print(\"-\"*60)\n",
    "print(classification_report(y_val,y_predict))\n",
    "print(\"-\"*60)\n",
    "print('Confusion Matrix:',confusion_matrix(y_val, y_predict))"
   ]
  },
  {
   "cell_type": "markdown",
   "id": "2ce6c75b",
   "metadata": {
    "papermill": {
     "duration": 0.486427,
     "end_time": "2022-09-20T08:44:40.872673",
     "exception": false,
     "start_time": "2022-09-20T08:44:40.386246",
     "status": "completed"
    },
    "tags": []
   },
   "source": [
    "## * XGBoost"
   ]
  },
  {
   "cell_type": "code",
   "execution_count": 56,
   "id": "ffc2081c",
   "metadata": {
    "execution": {
     "iopub.execute_input": "2022-09-20T08:44:41.906088Z",
     "iopub.status.busy": "2022-09-20T08:44:41.905574Z",
     "iopub.status.idle": "2022-09-20T08:46:32.583514Z",
     "shell.execute_reply": "2022-09-20T08:46:32.582398Z"
    },
    "papermill": {
     "duration": 111.707076,
     "end_time": "2022-09-20T08:46:33.072594",
     "exception": false,
     "start_time": "2022-09-20T08:44:41.365518",
     "status": "completed"
    },
    "tags": []
   },
   "outputs": [
    {
     "data": {
      "text/plain": [
       "XGBClassifier(base_score=0.5, booster='gbtree', callbacks=None,\n",
       "              colsample_bylevel=1, colsample_bynode=1, colsample_bytree=1,\n",
       "              early_stopping_rounds=None, enable_categorical=False,\n",
       "              eval_metric=None, gamma=0, gpu_id=-1, grow_policy='depthwise',\n",
       "              importance_type=None, interaction_constraints='',\n",
       "              learning_rate=0.300000012, max_bin=256, max_cat_to_onehot=4,\n",
       "              max_delta_step=0, max_depth=6, max_leaves=0, min_child_weight=1,\n",
       "              missing=nan, monotone_constraints='()', n_estimators=100,\n",
       "              n_jobs=0, num_parallel_tree=1, objective='multi:softprob',\n",
       "              predictor='auto', random_state=0, reg_alpha=0, ...)"
      ]
     },
     "execution_count": 56,
     "metadata": {},
     "output_type": "execute_result"
    }
   ],
   "source": [
    "xgb_model = XGBClassifier()\n",
    "xgb_model.fit(X_train_vectors, y_train)"
   ]
  },
  {
   "cell_type": "code",
   "execution_count": 57,
   "id": "6a907219",
   "metadata": {
    "execution": {
     "iopub.execute_input": "2022-09-20T08:46:34.109991Z",
     "iopub.status.busy": "2022-09-20T08:46:34.109621Z",
     "iopub.status.idle": "2022-09-20T08:46:34.220439Z",
     "shell.execute_reply": "2022-09-20T08:46:34.219538Z"
    },
    "papermill": {
     "duration": 0.605709,
     "end_time": "2022-09-20T08:46:34.223226",
     "exception": false,
     "start_time": "2022-09-20T08:46:33.617517",
     "status": "completed"
    },
    "tags": []
   },
   "outputs": [
    {
     "name": "stdout",
     "output_type": "stream",
     "text": [
      "test accuracy 0.435\n",
      "------------------------------------------------------------\n",
      "              precision    recall  f1-score   support\n",
      "\n",
      "           0       0.47      0.12      0.20        65\n",
      "           1       0.27      0.05      0.08        61\n",
      "           2       0.36      0.11      0.17       178\n",
      "           3       0.38      0.31      0.34       423\n",
      "           4       0.43      0.56      0.49       722\n",
      "           5       0.49      0.55      0.52       551\n",
      "\n",
      "    accuracy                           0.43      2000\n",
      "   macro avg       0.40      0.28      0.30      2000\n",
      "weighted avg       0.42      0.43      0.41      2000\n",
      "\n",
      "------------------------------------------------------------\n",
      "Confusion Matrix: [[  8   3   1  11  23  19]\n",
      " [  2   3   6  17  28   5]\n",
      " [  3   3  20  59  70  23]\n",
      " [  2   0  22 131 203  65]\n",
      " [  2   2   4 102 406 206]\n",
      " [  0   0   2  29 218 302]]\n"
     ]
    }
   ],
   "source": [
    "#Predict y value for test dataset\n",
    "y_predict = xgb_model.predict(X_val_vectors)\n",
    "y_prob = xgb_model.predict_proba(X_val_vectors)[:,1] # Is not available for loss='hinge'\n",
    "\n",
    "print(\"test accuracy\", str(np.mean(y_val == y_predict)))\n",
    "print(\"-\"*60)\n",
    "print(classification_report(y_val,y_predict))\n",
    "print(\"-\"*60)\n",
    "print('Confusion Matrix:',confusion_matrix(y_val, y_predict))"
   ]
  }
 ],
 "metadata": {
  "kernelspec": {
   "display_name": "Python 3",
   "language": "python",
   "name": "python3"
  },
  "language_info": {
   "codemirror_mode": {
    "name": "ipython",
    "version": 3
   },
   "file_extension": ".py",
   "mimetype": "text/x-python",
   "name": "python",
   "nbconvert_exporter": "python",
   "pygments_lexer": "ipython3",
   "version": "3.7.12"
  },
  "papermill": {
   "default_parameters": {},
   "duration": 1632.125307,
   "end_time": "2022-09-20T08:46:37.480261",
   "environment_variables": {},
   "exception": null,
   "input_path": "__notebook__.ipynb",
   "output_path": "__notebook__.ipynb",
   "parameters": {},
   "start_time": "2022-09-20T08:19:25.354954",
   "version": "2.3.4"
  }
 },
 "nbformat": 4,
 "nbformat_minor": 5
}
